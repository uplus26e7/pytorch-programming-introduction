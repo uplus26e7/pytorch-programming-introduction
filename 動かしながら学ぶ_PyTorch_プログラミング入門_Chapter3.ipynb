{
  "nbformat": 4,
  "nbformat_minor": 0,
  "metadata": {
    "colab": {
      "name": "動かしながら学ぶ PyTorch プログラミング入門 Chapter3.ipynb",
      "provenance": [],
      "authorship_tag": "ABX9TyO5c6B5l1DnNhjFl3yAcGJd",
      "include_colab_link": true
    },
    "kernelspec": {
      "name": "python3",
      "display_name": "Python 3"
    }
  },
  "cells": [
    {
      "cell_type": "markdown",
      "metadata": {
        "id": "view-in-github",
        "colab_type": "text"
      },
      "source": [
        "<a href=\"https://colab.research.google.com/github/uplus26e7/pytorch-programming-introduction/blob/master/%E5%8B%95%E3%81%8B%E3%81%97%E3%81%AA%E3%81%8C%E3%82%89%E5%AD%A6%E3%81%B6_PyTorch_%E3%83%97%E3%83%AD%E3%82%B0%E3%83%A9%E3%83%9F%E3%83%B3%E3%82%B0%E5%85%A5%E9%96%80_Chapter3.ipynb\" target=\"_parent\"><img src=\"https://colab.research.google.com/assets/colab-badge.svg\" alt=\"Open In Colab\"/></a>"
      ]
    },
    {
      "cell_type": "markdown",
      "metadata": {
        "id": "qr-1dyYgoe1u"
      },
      "source": [
        "# Imports"
      ]
    },
    {
      "cell_type": "code",
      "metadata": {
        "id": "tuyBts4Un-tA"
      },
      "source": [
        "from sklearn.datasets import load_iris\n",
        "from sklearn.datasets import load_diabetes\n",
        "import pandas as pd\n",
        "import seaborn as sns\n",
        "import matplotlib.pyplot as plt\n",
        "from sklearn.model_selection import train_test_split\n",
        "import torch\n",
        "from torch.utils.data import TensorDataset, DataLoader\n",
        "from torch import nn\n",
        "import torch.nn.functional as F\n",
        "from torch import optim"
      ],
      "execution_count": 1,
      "outputs": []
    },
    {
      "cell_type": "markdown",
      "metadata": {
        "id": "0Ikq-axpohE4"
      },
      "source": [
        "# Section 2 アヤメの分類【サンプルコード】"
      ]
    },
    {
      "cell_type": "markdown",
      "metadata": {
        "id": "8P6jhA1XqIVb"
      },
      "source": [
        "## Section 2.1 アヤメ(Iris)データセット"
      ]
    },
    {
      "cell_type": "code",
      "metadata": {
        "id": "UAG0fMSboodN"
      },
      "source": [
        "iris = load_iris()"
      ],
      "execution_count": 2,
      "outputs": []
    },
    {
      "cell_type": "code",
      "metadata": {
        "colab": {
          "base_uri": "https://localhost:8080/"
        },
        "id": "wirfIJFQo1wJ",
        "outputId": "508220a7-611d-4208-f5d7-eb7d33cb41eb"
      },
      "source": [
        "print(iris.DESCR)"
      ],
      "execution_count": 3,
      "outputs": [
        {
          "output_type": "stream",
          "text": [
            ".. _iris_dataset:\n",
            "\n",
            "Iris plants dataset\n",
            "--------------------\n",
            "\n",
            "**Data Set Characteristics:**\n",
            "\n",
            "    :Number of Instances: 150 (50 in each of three classes)\n",
            "    :Number of Attributes: 4 numeric, predictive attributes and the class\n",
            "    :Attribute Information:\n",
            "        - sepal length in cm\n",
            "        - sepal width in cm\n",
            "        - petal length in cm\n",
            "        - petal width in cm\n",
            "        - class:\n",
            "                - Iris-Setosa\n",
            "                - Iris-Versicolour\n",
            "                - Iris-Virginica\n",
            "                \n",
            "    :Summary Statistics:\n",
            "\n",
            "    ============== ==== ==== ======= ===== ====================\n",
            "                    Min  Max   Mean    SD   Class Correlation\n",
            "    ============== ==== ==== ======= ===== ====================\n",
            "    sepal length:   4.3  7.9   5.84   0.83    0.7826\n",
            "    sepal width:    2.0  4.4   3.05   0.43   -0.4194\n",
            "    petal length:   1.0  6.9   3.76   1.76    0.9490  (high!)\n",
            "    petal width:    0.1  2.5   1.20   0.76    0.9565  (high!)\n",
            "    ============== ==== ==== ======= ===== ====================\n",
            "\n",
            "    :Missing Attribute Values: None\n",
            "    :Class Distribution: 33.3% for each of 3 classes.\n",
            "    :Creator: R.A. Fisher\n",
            "    :Donor: Michael Marshall (MARSHALL%PLU@io.arc.nasa.gov)\n",
            "    :Date: July, 1988\n",
            "\n",
            "The famous Iris database, first used by Sir R.A. Fisher. The dataset is taken\n",
            "from Fisher's paper. Note that it's the same as in R, but not as in the UCI\n",
            "Machine Learning Repository, which has two wrong data points.\n",
            "\n",
            "This is perhaps the best known database to be found in the\n",
            "pattern recognition literature.  Fisher's paper is a classic in the field and\n",
            "is referenced frequently to this day.  (See Duda & Hart, for example.)  The\n",
            "data set contains 3 classes of 50 instances each, where each class refers to a\n",
            "type of iris plant.  One class is linearly separable from the other 2; the\n",
            "latter are NOT linearly separable from each other.\n",
            "\n",
            ".. topic:: References\n",
            "\n",
            "   - Fisher, R.A. \"The use of multiple measurements in taxonomic problems\"\n",
            "     Annual Eugenics, 7, Part II, 179-188 (1936); also in \"Contributions to\n",
            "     Mathematical Statistics\" (John Wiley, NY, 1950).\n",
            "   - Duda, R.O., & Hart, P.E. (1973) Pattern Classification and Scene Analysis.\n",
            "     (Q327.D83) John Wiley & Sons.  ISBN 0-471-22361-1.  See page 218.\n",
            "   - Dasarathy, B.V. (1980) \"Nosing Around the Neighborhood: A New System\n",
            "     Structure and Classification Rule for Recognition in Partially Exposed\n",
            "     Environments\".  IEEE Transactions on Pattern Analysis and Machine\n",
            "     Intelligence, Vol. PAMI-2, No. 1, 67-71.\n",
            "   - Gates, G.W. (1972) \"The Reduced Nearest Neighbor Rule\".  IEEE Transactions\n",
            "     on Information Theory, May 1972, 431-433.\n",
            "   - See also: 1988 MLC Proceedings, 54-64.  Cheeseman et al\"s AUTOCLASS II\n",
            "     conceptual clustering system finds 3 classes in the data.\n",
            "   - Many, many more ...\n"
          ],
          "name": "stdout"
        }
      ]
    },
    {
      "cell_type": "code",
      "metadata": {
        "colab": {
          "base_uri": "https://localhost:8080/",
          "height": 204
        },
        "id": "VFBPta1Zo3pJ",
        "outputId": "ea213ce5-9f0e-4a87-b899-fc060e798a37"
      },
      "source": [
        "df = pd.DataFrame(iris.data, columns=iris.feature_names)\n",
        "df.head()"
      ],
      "execution_count": 4,
      "outputs": [
        {
          "output_type": "execute_result",
          "data": {
            "text/html": [
              "<div>\n",
              "<style scoped>\n",
              "    .dataframe tbody tr th:only-of-type {\n",
              "        vertical-align: middle;\n",
              "    }\n",
              "\n",
              "    .dataframe tbody tr th {\n",
              "        vertical-align: top;\n",
              "    }\n",
              "\n",
              "    .dataframe thead th {\n",
              "        text-align: right;\n",
              "    }\n",
              "</style>\n",
              "<table border=\"1\" class=\"dataframe\">\n",
              "  <thead>\n",
              "    <tr style=\"text-align: right;\">\n",
              "      <th></th>\n",
              "      <th>sepal length (cm)</th>\n",
              "      <th>sepal width (cm)</th>\n",
              "      <th>petal length (cm)</th>\n",
              "      <th>petal width (cm)</th>\n",
              "    </tr>\n",
              "  </thead>\n",
              "  <tbody>\n",
              "    <tr>\n",
              "      <th>0</th>\n",
              "      <td>5.1</td>\n",
              "      <td>3.5</td>\n",
              "      <td>1.4</td>\n",
              "      <td>0.2</td>\n",
              "    </tr>\n",
              "    <tr>\n",
              "      <th>1</th>\n",
              "      <td>4.9</td>\n",
              "      <td>3.0</td>\n",
              "      <td>1.4</td>\n",
              "      <td>0.2</td>\n",
              "    </tr>\n",
              "    <tr>\n",
              "      <th>2</th>\n",
              "      <td>4.7</td>\n",
              "      <td>3.2</td>\n",
              "      <td>1.3</td>\n",
              "      <td>0.2</td>\n",
              "    </tr>\n",
              "    <tr>\n",
              "      <th>3</th>\n",
              "      <td>4.6</td>\n",
              "      <td>3.1</td>\n",
              "      <td>1.5</td>\n",
              "      <td>0.2</td>\n",
              "    </tr>\n",
              "    <tr>\n",
              "      <th>4</th>\n",
              "      <td>5.0</td>\n",
              "      <td>3.6</td>\n",
              "      <td>1.4</td>\n",
              "      <td>0.2</td>\n",
              "    </tr>\n",
              "  </tbody>\n",
              "</table>\n",
              "</div>"
            ],
            "text/plain": [
              "   sepal length (cm)  sepal width (cm)  petal length (cm)  petal width (cm)\n",
              "0                5.1               3.5                1.4               0.2\n",
              "1                4.9               3.0                1.4               0.2\n",
              "2                4.7               3.2                1.3               0.2\n",
              "3                4.6               3.1                1.5               0.2\n",
              "4                5.0               3.6                1.4               0.2"
            ]
          },
          "metadata": {
            "tags": []
          },
          "execution_count": 4
        }
      ]
    },
    {
      "cell_type": "code",
      "metadata": {
        "colab": {
          "base_uri": "https://localhost:8080/",
          "height": 204
        },
        "id": "QvqxMZB-pOWM",
        "outputId": "f36be3e1-3178-463b-befd-23ec53f2965a"
      },
      "source": [
        "df[\"Variety\"] = iris.target\n",
        "df.loc[df[\"Variety\"] == 0, \"Variety\"] = \"setosa\"\n",
        "df.loc[df[\"Variety\"] == 1, \"Variety\"] = \"versicolor\"\n",
        "df.loc[df[\"Variety\"] == 2, \"Variety\"] = \"virginica\"\n",
        "df.head()"
      ],
      "execution_count": 5,
      "outputs": [
        {
          "output_type": "execute_result",
          "data": {
            "text/html": [
              "<div>\n",
              "<style scoped>\n",
              "    .dataframe tbody tr th:only-of-type {\n",
              "        vertical-align: middle;\n",
              "    }\n",
              "\n",
              "    .dataframe tbody tr th {\n",
              "        vertical-align: top;\n",
              "    }\n",
              "\n",
              "    .dataframe thead th {\n",
              "        text-align: right;\n",
              "    }\n",
              "</style>\n",
              "<table border=\"1\" class=\"dataframe\">\n",
              "  <thead>\n",
              "    <tr style=\"text-align: right;\">\n",
              "      <th></th>\n",
              "      <th>sepal length (cm)</th>\n",
              "      <th>sepal width (cm)</th>\n",
              "      <th>petal length (cm)</th>\n",
              "      <th>petal width (cm)</th>\n",
              "      <th>Variety</th>\n",
              "    </tr>\n",
              "  </thead>\n",
              "  <tbody>\n",
              "    <tr>\n",
              "      <th>0</th>\n",
              "      <td>5.1</td>\n",
              "      <td>3.5</td>\n",
              "      <td>1.4</td>\n",
              "      <td>0.2</td>\n",
              "      <td>setosa</td>\n",
              "    </tr>\n",
              "    <tr>\n",
              "      <th>1</th>\n",
              "      <td>4.9</td>\n",
              "      <td>3.0</td>\n",
              "      <td>1.4</td>\n",
              "      <td>0.2</td>\n",
              "      <td>setosa</td>\n",
              "    </tr>\n",
              "    <tr>\n",
              "      <th>2</th>\n",
              "      <td>4.7</td>\n",
              "      <td>3.2</td>\n",
              "      <td>1.3</td>\n",
              "      <td>0.2</td>\n",
              "      <td>setosa</td>\n",
              "    </tr>\n",
              "    <tr>\n",
              "      <th>3</th>\n",
              "      <td>4.6</td>\n",
              "      <td>3.1</td>\n",
              "      <td>1.5</td>\n",
              "      <td>0.2</td>\n",
              "      <td>setosa</td>\n",
              "    </tr>\n",
              "    <tr>\n",
              "      <th>4</th>\n",
              "      <td>5.0</td>\n",
              "      <td>3.6</td>\n",
              "      <td>1.4</td>\n",
              "      <td>0.2</td>\n",
              "      <td>setosa</td>\n",
              "    </tr>\n",
              "  </tbody>\n",
              "</table>\n",
              "</div>"
            ],
            "text/plain": [
              "   sepal length (cm)  sepal width (cm)  ...  petal width (cm)  Variety\n",
              "0                5.1               3.5  ...               0.2   setosa\n",
              "1                4.9               3.0  ...               0.2   setosa\n",
              "2                4.7               3.2  ...               0.2   setosa\n",
              "3                4.6               3.1  ...               0.2   setosa\n",
              "4                5.0               3.6  ...               0.2   setosa\n",
              "\n",
              "[5 rows x 5 columns]"
            ]
          },
          "metadata": {
            "tags": []
          },
          "execution_count": 5
        }
      ]
    },
    {
      "cell_type": "code",
      "metadata": {
        "colab": {
          "base_uri": "https://localhost:8080/",
          "height": 297
        },
        "id": "061CRpz1ptAe",
        "outputId": "d2455eba-b81d-4a46-b396-fe77fdf58c5c"
      },
      "source": [
        "df.describe()"
      ],
      "execution_count": 6,
      "outputs": [
        {
          "output_type": "execute_result",
          "data": {
            "text/html": [
              "<div>\n",
              "<style scoped>\n",
              "    .dataframe tbody tr th:only-of-type {\n",
              "        vertical-align: middle;\n",
              "    }\n",
              "\n",
              "    .dataframe tbody tr th {\n",
              "        vertical-align: top;\n",
              "    }\n",
              "\n",
              "    .dataframe thead th {\n",
              "        text-align: right;\n",
              "    }\n",
              "</style>\n",
              "<table border=\"1\" class=\"dataframe\">\n",
              "  <thead>\n",
              "    <tr style=\"text-align: right;\">\n",
              "      <th></th>\n",
              "      <th>sepal length (cm)</th>\n",
              "      <th>sepal width (cm)</th>\n",
              "      <th>petal length (cm)</th>\n",
              "      <th>petal width (cm)</th>\n",
              "    </tr>\n",
              "  </thead>\n",
              "  <tbody>\n",
              "    <tr>\n",
              "      <th>count</th>\n",
              "      <td>150.000000</td>\n",
              "      <td>150.000000</td>\n",
              "      <td>150.000000</td>\n",
              "      <td>150.000000</td>\n",
              "    </tr>\n",
              "    <tr>\n",
              "      <th>mean</th>\n",
              "      <td>5.843333</td>\n",
              "      <td>3.057333</td>\n",
              "      <td>3.758000</td>\n",
              "      <td>1.199333</td>\n",
              "    </tr>\n",
              "    <tr>\n",
              "      <th>std</th>\n",
              "      <td>0.828066</td>\n",
              "      <td>0.435866</td>\n",
              "      <td>1.765298</td>\n",
              "      <td>0.762238</td>\n",
              "    </tr>\n",
              "    <tr>\n",
              "      <th>min</th>\n",
              "      <td>4.300000</td>\n",
              "      <td>2.000000</td>\n",
              "      <td>1.000000</td>\n",
              "      <td>0.100000</td>\n",
              "    </tr>\n",
              "    <tr>\n",
              "      <th>25%</th>\n",
              "      <td>5.100000</td>\n",
              "      <td>2.800000</td>\n",
              "      <td>1.600000</td>\n",
              "      <td>0.300000</td>\n",
              "    </tr>\n",
              "    <tr>\n",
              "      <th>50%</th>\n",
              "      <td>5.800000</td>\n",
              "      <td>3.000000</td>\n",
              "      <td>4.350000</td>\n",
              "      <td>1.300000</td>\n",
              "    </tr>\n",
              "    <tr>\n",
              "      <th>75%</th>\n",
              "      <td>6.400000</td>\n",
              "      <td>3.300000</td>\n",
              "      <td>5.100000</td>\n",
              "      <td>1.800000</td>\n",
              "    </tr>\n",
              "    <tr>\n",
              "      <th>max</th>\n",
              "      <td>7.900000</td>\n",
              "      <td>4.400000</td>\n",
              "      <td>6.900000</td>\n",
              "      <td>2.500000</td>\n",
              "    </tr>\n",
              "  </tbody>\n",
              "</table>\n",
              "</div>"
            ],
            "text/plain": [
              "       sepal length (cm)  sepal width (cm)  petal length (cm)  petal width (cm)\n",
              "count         150.000000        150.000000         150.000000        150.000000\n",
              "mean            5.843333          3.057333           3.758000          1.199333\n",
              "std             0.828066          0.435866           1.765298          0.762238\n",
              "min             4.300000          2.000000           1.000000          0.100000\n",
              "25%             5.100000          2.800000           1.600000          0.300000\n",
              "50%             5.800000          3.000000           4.350000          1.300000\n",
              "75%             6.400000          3.300000           5.100000          1.800000\n",
              "max             7.900000          4.400000           6.900000          2.500000"
            ]
          },
          "metadata": {
            "tags": []
          },
          "execution_count": 6
        }
      ]
    },
    {
      "cell_type": "code",
      "metadata": {
        "colab": {
          "base_uri": "https://localhost:8080/",
          "height": 726
        },
        "id": "jtKqD5t7pvie",
        "outputId": "07e29f84-b46a-4e7b-8700-0da39449c1d1"
      },
      "source": [
        "sns.pairplot(df, hue=\"Variety\")\n",
        "plt.show()"
      ],
      "execution_count": 7,
      "outputs": [
        {
          "output_type": "display_data",
          "data": {
            "image/png": "[encoded data removed]",
            "text/plain": [
              "<Figure size 804.75x720 with 20 Axes>"
            ]
          },
          "metadata": {
            "tags": [],
            "needs_background": "light"
          }
        }
      ]
    },
    {
      "cell_type": "markdown",
      "metadata": {
        "id": "f5WgZEmoqRmq"
      },
      "source": [
        "## Section 2.2 前準備(パッケージのインポート)"
      ]
    },
    {
      "cell_type": "code",
      "metadata": {
        "id": "BdKvQh0cp87G"
      },
      "source": [
        "data = iris.data\n",
        "label = iris.target"
      ],
      "execution_count": 8,
      "outputs": []
    },
    {
      "cell_type": "markdown",
      "metadata": {
        "id": "V4fBztTMqsI5"
      },
      "source": [
        "## Section 2.3 訓練データとテストデータの用意"
      ]
    },
    {
      "cell_type": "code",
      "metadata": {
        "id": "-qGQtL3TqrSw"
      },
      "source": [
        "train_data, test_data, train_label, test_label = train_test_split(\n",
        "    data, label, test_size=0.2\n",
        ")"
      ],
      "execution_count": 9,
      "outputs": []
    },
    {
      "cell_type": "code",
      "metadata": {
        "colab": {
          "base_uri": "https://localhost:8080/"
        },
        "id": "d27qpzOzq9Ej",
        "outputId": "728829e1-7f72-43ae-9db2-45ceaa0c0eeb"
      },
      "source": [
        "train_data.shape, test_data.shape, train_label.shape, test_label.shape"
      ],
      "execution_count": 10,
      "outputs": [
        {
          "output_type": "execute_result",
          "data": {
            "text/plain": [
              "((120, 4), (30, 4), (120,), (30,))"
            ]
          },
          "metadata": {
            "tags": []
          },
          "execution_count": 10
        }
      ]
    },
    {
      "cell_type": "code",
      "metadata": {
        "id": "VzJ_67bjrDSE"
      },
      "source": [
        "train_x = torch.Tensor(train_data)\n",
        "test_x = torch.Tensor(test_data)\n",
        "train_y = torch.LongTensor(train_label)\n",
        "test_y = torch.LongTensor(test_label)"
      ],
      "execution_count": 11,
      "outputs": []
    },
    {
      "cell_type": "code",
      "metadata": {
        "id": "jAsK9TNArVir"
      },
      "source": [
        "train_dataset = TensorDataset(train_x, train_y)\n",
        "test_dataset = TensorDataset(test_x, test_y)"
      ],
      "execution_count": 12,
      "outputs": []
    },
    {
      "cell_type": "code",
      "metadata": {
        "id": "uOOhTZ8krdVG"
      },
      "source": [
        "train_batch = DataLoader(\n",
        "    dataset=train_dataset,\n",
        "    batch_size=5,\n",
        "    shuffle=True,\n",
        "    num_workers=2\n",
        ")\n",
        "\n",
        "test_batch = DataLoader(\n",
        "    dataset=test_dataset,\n",
        "    batch_size=5,\n",
        "    shuffle=True,\n",
        "    num_workers=2\n",
        ")"
      ],
      "execution_count": 13,
      "outputs": []
    },
    {
      "cell_type": "code",
      "metadata": {
        "colab": {
          "base_uri": "https://localhost:8080/"
        },
        "id": "it8axWagr23R",
        "outputId": "5c06b961-878a-4dab-e433-8e2a2c8fe9e8"
      },
      "source": [
        "for data, label in train_batch:\n",
        "  print(f\"batch data size: {data.size()}\")\n",
        "  print(f\"batch label size: {label.size()}\")\n",
        "  break"
      ],
      "execution_count": 14,
      "outputs": [
        {
          "output_type": "stream",
          "text": [
            "batch data size: torch.Size([5, 4])\n",
            "batch label size: torch.Size([5])\n"
          ],
          "name": "stdout"
        }
      ]
    },
    {
      "cell_type": "markdown",
      "metadata": {
        "id": "7JHh5MqIyu1Z"
      },
      "source": [
        "## Section 2.4 ニューラルネットワークの定義"
      ]
    },
    {
      "cell_type": "code",
      "metadata": {
        "id": "wIB100fesCcL"
      },
      "source": [
        "class Net(nn.Module):\n",
        "  def __init__(self, D_in, H, D_out):\n",
        "    super(Net, self).__init__()\n",
        "    self.linear1 = nn.Linear(D_in, H)\n",
        "    self.linear2 = nn.Linear(H, D_out)\n",
        "  \n",
        "  def forward(self, x):\n",
        "    x = F.relu(self.linear1(x))\n",
        "    x = self.linear2(x)\n",
        "    return x"
      ],
      "execution_count": 15,
      "outputs": []
    },
    {
      "cell_type": "code",
      "metadata": {
        "id": "eiZr2jTCzMDA"
      },
      "source": [
        "D_in = 4\n",
        "H = 100\n",
        "D_out = 3\n",
        "epoch = 100"
      ],
      "execution_count": 16,
      "outputs": []
    },
    {
      "cell_type": "code",
      "metadata": {
        "id": "w4BeReB2zUyl"
      },
      "source": [
        "device = torch.device(\"cuda\" if torch.cuda.is_available() else \"cpu\")"
      ],
      "execution_count": 17,
      "outputs": []
    },
    {
      "cell_type": "code",
      "metadata": {
        "id": "nCmOIhSrze9B"
      },
      "source": [
        "net = Net(D_in, H, D_out).to(device)"
      ],
      "execution_count": 18,
      "outputs": []
    },
    {
      "cell_type": "code",
      "metadata": {
        "colab": {
          "base_uri": "https://localhost:8080/"
        },
        "id": "hN58wFcMzjMM",
        "outputId": "33c9536d-5e45-40fe-ee5f-bc3efd510f59"
      },
      "source": [
        "device"
      ],
      "execution_count": 19,
      "outputs": [
        {
          "output_type": "execute_result",
          "data": {
            "text/plain": [
              "device(type='cpu')"
            ]
          },
          "metadata": {
            "tags": []
          },
          "execution_count": 19
        }
      ]
    },
    {
      "cell_type": "code",
      "metadata": {
        "id": "5Z_c2fjnzlm9"
      },
      "source": [
        "criterion = nn.CrossEntropyLoss()\n",
        "optimizer = optim.Adam(net.parameters())"
      ],
      "execution_count": 20,
      "outputs": []
    },
    {
      "cell_type": "markdown",
      "metadata": {
        "id": "jG4ps4xzzyWB"
      },
      "source": [
        "## Section 2.6 学習"
      ]
    },
    {
      "cell_type": "code",
      "metadata": {
        "colab": {
          "base_uri": "https://localhost:8080/"
        },
        "id": "UeoLwKmuztH0",
        "outputId": "cafed3ee-2e27-4c77-efa1-84b64ff95e4f"
      },
      "source": [
        "train_loss_list = []\n",
        "train_accuracy_list = []\n",
        "test_loss_list = []\n",
        "test_accuracy_list = []\n",
        "\n",
        "for i in range(epoch):\n",
        "  print(\"-\" * 100)\n",
        "  print(f\"Epoch: {i + 1}/{epoch}\")\n",
        "\n",
        "  train_loss = 0\n",
        "  train_accuracy = 0\n",
        "  test_loss = 0\n",
        "  test_accuracy = 0\n",
        "\n",
        "  # train part\n",
        "  net.train()\n",
        "  for data, label in train_batch:\n",
        "    data = data.to(device)\n",
        "    label = label.to(device)\n",
        "\n",
        "    optimizer.zero_grad()\n",
        "\n",
        "    y_pred_prob = net(data)\n",
        "    loss = criterion(y_pred_prob, label)\n",
        "    loss.backward()\n",
        "    optimizer.step()\n",
        "\n",
        "    train_loss += loss.item()\n",
        "\n",
        "    y_pred_label = torch.max(y_pred_prob, 1)[1]\n",
        "    train_accuracy += torch.sum(y_pred_label == label).item() / len(label)\n",
        "  \n",
        "  batch_train_loss = train_loss / len(train_batch)\n",
        "  batch_train_accuracy = train_accuracy / len(train_batch)\n",
        "\n",
        "  # eval part\n",
        "  net.eval()\n",
        "  \n",
        "  with torch.no_grad():\n",
        "    for data, label in test_batch:\n",
        "      data = data.to(device)\n",
        "      label = label.to(device)\n",
        "\n",
        "      y_pred_prob = net(data)\n",
        "      loss = criterion(y_pred_prob, label)\n",
        "      test_loss += loss.item()\n",
        "\n",
        "      y_pred_label = torch.max(y_pred_prob, 1)[1]\n",
        "      test_accuracy += torch.sum(y_pred_label == label).item() / len(label)\n",
        "  \n",
        "  batch_test_loss = test_loss / len(test_batch)\n",
        "  batch_test_accuracy = test_accuracy / len(test_batch)\n",
        "\n",
        "  print(f\"Train_Loss: {batch_train_loss:.4f} Train_Accuracy: {batch_train_accuracy:.4f}\")\n",
        "  print(f\"Test_Loss: {batch_test_loss:.4f} Test_Accuracy: {batch_test_accuracy:.4f}\")\n",
        "\n",
        "  train_loss_list.append(batch_train_loss)\n",
        "  train_accuracy_list.append(batch_train_accuracy)\n",
        "  test_loss_list.append(batch_test_loss)\n",
        "  test_accuracy_list.append(batch_test_accuracy)"
      ],
      "execution_count": 21,
      "outputs": [
        {
          "output_type": "stream",
          "text": [
            "----------------------------------------------------------------------------------------------------\n",
            "Epoch: 1/100\n",
            "Train_Loss: 1.1407 Train_Accuracy: 0.3667\n",
            "Test_Loss: 0.9334 Test_Accuracy: 0.4667\n",
            "----------------------------------------------------------------------------------------------------\n",
            "Epoch: 2/100\n",
            "Train_Loss: 0.9563 Train_Accuracy: 0.4750\n",
            "Test_Loss: 0.9108 Test_Accuracy: 0.5333\n",
            "----------------------------------------------------------------------------------------------------\n",
            "Epoch: 3/100\n",
            "Train_Loss: 0.8234 Train_Accuracy: 0.6417\n",
            "Test_Loss: 0.7109 Test_Accuracy: 0.8667\n",
            "----------------------------------------------------------------------------------------------------\n",
            "Epoch: 4/100\n",
            "Train_Loss: 0.6987 Train_Accuracy: 0.7750\n",
            "Test_Loss: 0.5911 Test_Accuracy: 0.8000\n",
            "----------------------------------------------------------------------------------------------------\n",
            "Epoch: 5/100\n",
            "Train_Loss: 0.6041 Train_Accuracy: 0.8667\n",
            "Test_Loss: 0.5363 Test_Accuracy: 0.8333\n",
            "----------------------------------------------------------------------------------------------------\n",
            "Epoch: 6/100\n",
            "Train_Loss: 0.5369 Train_Accuracy: 0.8000\n",
            "Test_Loss: 0.5211 Test_Accuracy: 1.0000\n",
            "----------------------------------------------------------------------------------------------------\n",
            "Epoch: 7/100\n",
            "Train_Loss: 0.4921 Train_Accuracy: 0.9333\n",
            "Test_Loss: 0.4994 Test_Accuracy: 0.9333\n",
            "----------------------------------------------------------------------------------------------------\n",
            "Epoch: 8/100\n",
            "Train_Loss: 0.4597 Train_Accuracy: 0.9167\n",
            "Test_Loss: 0.4699 Test_Accuracy: 0.9667\n",
            "----------------------------------------------------------------------------------------------------\n",
            "Epoch: 9/100\n",
            "Train_Loss: 0.4274 Train_Accuracy: 0.9417\n",
            "Test_Loss: 0.3981 Test_Accuracy: 0.9000\n",
            "----------------------------------------------------------------------------------------------------\n",
            "Epoch: 10/100\n",
            "Train_Loss: 0.4030 Train_Accuracy: 0.9500\n",
            "Test_Loss: 0.3996 Test_Accuracy: 1.0000\n",
            "----------------------------------------------------------------------------------------------------\n",
            "Epoch: 11/100\n",
            "Train_Loss: 0.3805 Train_Accuracy: 0.9500\n",
            "Test_Loss: 0.3785 Test_Accuracy: 1.0000\n",
            "----------------------------------------------------------------------------------------------------\n",
            "Epoch: 12/100\n",
            "Train_Loss: 0.3564 Train_Accuracy: 0.9667\n",
            "Test_Loss: 0.3534 Test_Accuracy: 1.0000\n",
            "----------------------------------------------------------------------------------------------------\n",
            "Epoch: 13/100\n",
            "Train_Loss: 0.3505 Train_Accuracy: 0.9250\n",
            "Test_Loss: 0.3188 Test_Accuracy: 0.8667\n",
            "----------------------------------------------------------------------------------------------------\n",
            "Epoch: 14/100\n",
            "Train_Loss: 0.3226 Train_Accuracy: 0.9583\n",
            "Test_Loss: 0.3602 Test_Accuracy: 0.9667\n",
            "----------------------------------------------------------------------------------------------------\n",
            "Epoch: 15/100\n",
            "Train_Loss: 0.3109 Train_Accuracy: 0.9500\n",
            "Test_Loss: 0.2901 Test_Accuracy: 0.8333\n",
            "----------------------------------------------------------------------------------------------------\n",
            "Epoch: 16/100\n",
            "Train_Loss: 0.3006 Train_Accuracy: 0.9000\n",
            "Test_Loss: 0.3423 Test_Accuracy: 0.9333\n",
            "----------------------------------------------------------------------------------------------------\n",
            "Epoch: 17/100\n",
            "Train_Loss: 0.2773 Train_Accuracy: 0.9583\n",
            "Test_Loss: 0.2779 Test_Accuracy: 1.0000\n",
            "----------------------------------------------------------------------------------------------------\n",
            "Epoch: 18/100\n",
            "Train_Loss: 0.2753 Train_Accuracy: 0.9417\n",
            "Test_Loss: 0.2747 Test_Accuracy: 1.0000\n",
            "----------------------------------------------------------------------------------------------------\n",
            "Epoch: 19/100\n",
            "Train_Loss: 0.2582 Train_Accuracy: 0.9750\n",
            "Test_Loss: 0.2513 Test_Accuracy: 0.9667\n",
            "----------------------------------------------------------------------------------------------------\n",
            "Epoch: 20/100\n",
            "Train_Loss: 0.2465 Train_Accuracy: 0.9583\n",
            "Test_Loss: 0.3069 Test_Accuracy: 0.9333\n",
            "----------------------------------------------------------------------------------------------------\n",
            "Epoch: 21/100\n",
            "Train_Loss: 0.2289 Train_Accuracy: 0.9750\n",
            "Test_Loss: 0.2357 Test_Accuracy: 1.0000\n",
            "----------------------------------------------------------------------------------------------------\n",
            "Epoch: 22/100\n",
            "Train_Loss: 0.2284 Train_Accuracy: 0.9500\n",
            "Test_Loss: 0.2376 Test_Accuracy: 1.0000\n",
            "----------------------------------------------------------------------------------------------------\n",
            "Epoch: 23/100\n",
            "Train_Loss: 0.2193 Train_Accuracy: 0.9583\n",
            "Test_Loss: 0.2652 Test_Accuracy: 0.9333\n",
            "----------------------------------------------------------------------------------------------------\n",
            "Epoch: 24/100\n",
            "Train_Loss: 0.2092 Train_Accuracy: 0.9750\n",
            "Test_Loss: 0.2318 Test_Accuracy: 1.0000\n",
            "----------------------------------------------------------------------------------------------------\n",
            "Epoch: 25/100\n",
            "Train_Loss: 0.2023 Train_Accuracy: 0.9667\n",
            "Test_Loss: 0.2011 Test_Accuracy: 0.9667\n",
            "----------------------------------------------------------------------------------------------------\n",
            "Epoch: 26/100\n",
            "Train_Loss: 0.1988 Train_Accuracy: 0.9583\n",
            "Test_Loss: 0.2732 Test_Accuracy: 0.9333\n",
            "----------------------------------------------------------------------------------------------------\n",
            "Epoch: 27/100\n",
            "Train_Loss: 0.1907 Train_Accuracy: 0.9583\n",
            "Test_Loss: 0.2048 Test_Accuracy: 1.0000\n",
            "----------------------------------------------------------------------------------------------------\n",
            "Epoch: 28/100\n",
            "Train_Loss: 0.1808 Train_Accuracy: 0.9667\n",
            "Test_Loss: 0.2093 Test_Accuracy: 1.0000\n",
            "----------------------------------------------------------------------------------------------------\n",
            "Epoch: 29/100\n",
            "Train_Loss: 0.1713 Train_Accuracy: 0.9833\n",
            "Test_Loss: 0.1755 Test_Accuracy: 0.9667\n",
            "----------------------------------------------------------------------------------------------------\n",
            "Epoch: 30/100\n",
            "Train_Loss: 0.1777 Train_Accuracy: 0.9583\n",
            "Test_Loss: 0.1717 Test_Accuracy: 1.0000\n",
            "----------------------------------------------------------------------------------------------------\n",
            "Epoch: 31/100\n",
            "Train_Loss: 0.1662 Train_Accuracy: 0.9750\n",
            "Test_Loss: 0.1709 Test_Accuracy: 1.0000\n",
            "----------------------------------------------------------------------------------------------------\n",
            "Epoch: 32/100\n",
            "Train_Loss: 0.1626 Train_Accuracy: 0.9583\n",
            "Test_Loss: 0.1649 Test_Accuracy: 1.0000\n",
            "----------------------------------------------------------------------------------------------------\n",
            "Epoch: 33/100\n",
            "Train_Loss: 0.1532 Train_Accuracy: 0.9667\n",
            "Test_Loss: 0.1909 Test_Accuracy: 1.0000\n",
            "----------------------------------------------------------------------------------------------------\n",
            "Epoch: 34/100\n",
            "Train_Loss: 0.1540 Train_Accuracy: 0.9583\n",
            "Test_Loss: 0.1590 Test_Accuracy: 1.0000\n",
            "----------------------------------------------------------------------------------------------------\n",
            "Epoch: 35/100\n",
            "Train_Loss: 0.1474 Train_Accuracy: 0.9750\n",
            "Test_Loss: 0.2193 Test_Accuracy: 0.9333\n",
            "----------------------------------------------------------------------------------------------------\n",
            "Epoch: 36/100\n",
            "Train_Loss: 0.1456 Train_Accuracy: 0.9750\n",
            "Test_Loss: 0.1447 Test_Accuracy: 0.9667\n",
            "----------------------------------------------------------------------------------------------------\n",
            "Epoch: 37/100\n",
            "Train_Loss: 0.1419 Train_Accuracy: 0.9667\n",
            "Test_Loss: 0.1733 Test_Accuracy: 1.0000\n",
            "----------------------------------------------------------------------------------------------------\n",
            "Epoch: 38/100\n",
            "Train_Loss: 0.1356 Train_Accuracy: 0.9750\n",
            "Test_Loss: 0.1384 Test_Accuracy: 1.0000\n",
            "----------------------------------------------------------------------------------------------------\n",
            "Epoch: 39/100\n",
            "Train_Loss: 0.1406 Train_Accuracy: 0.9667\n",
            "Test_Loss: 0.1361 Test_Accuracy: 1.0000\n",
            "----------------------------------------------------------------------------------------------------\n",
            "Epoch: 40/100\n",
            "Train_Loss: 0.1362 Train_Accuracy: 0.9667\n",
            "Test_Loss: 0.1725 Test_Accuracy: 1.0000\n",
            "----------------------------------------------------------------------------------------------------\n",
            "Epoch: 41/100\n",
            "Train_Loss: 0.1361 Train_Accuracy: 0.9500\n",
            "Test_Loss: 0.1443 Test_Accuracy: 1.0000\n",
            "----------------------------------------------------------------------------------------------------\n",
            "Epoch: 42/100\n",
            "Train_Loss: 0.1284 Train_Accuracy: 0.9750\n",
            "Test_Loss: 0.1286 Test_Accuracy: 1.0000\n",
            "----------------------------------------------------------------------------------------------------\n",
            "Epoch: 43/100\n",
            "Train_Loss: 0.1237 Train_Accuracy: 0.9750\n",
            "Test_Loss: 0.1372 Test_Accuracy: 1.0000\n",
            "----------------------------------------------------------------------------------------------------\n",
            "Epoch: 44/100\n",
            "Train_Loss: 0.1301 Train_Accuracy: 0.9333\n",
            "Test_Loss: 0.1467 Test_Accuracy: 1.0000\n",
            "----------------------------------------------------------------------------------------------------\n",
            "Epoch: 45/100\n",
            "Train_Loss: 0.1264 Train_Accuracy: 0.9667\n",
            "Test_Loss: 0.1451 Test_Accuracy: 1.0000\n",
            "----------------------------------------------------------------------------------------------------\n",
            "Epoch: 46/100\n",
            "Train_Loss: 0.1178 Train_Accuracy: 0.9750\n",
            "Test_Loss: 0.1187 Test_Accuracy: 1.0000\n",
            "----------------------------------------------------------------------------------------------------\n",
            "Epoch: 47/100\n",
            "Train_Loss: 0.1233 Train_Accuracy: 0.9583\n",
            "Test_Loss: 0.1600 Test_Accuracy: 0.9667\n",
            "----------------------------------------------------------------------------------------------------\n",
            "Epoch: 48/100\n",
            "Train_Loss: 0.1344 Train_Accuracy: 0.9500\n",
            "Test_Loss: 0.1460 Test_Accuracy: 1.0000\n",
            "----------------------------------------------------------------------------------------------------\n",
            "Epoch: 49/100\n",
            "Train_Loss: 0.1240 Train_Accuracy: 0.9500\n",
            "Test_Loss: 0.1225 Test_Accuracy: 1.0000\n",
            "----------------------------------------------------------------------------------------------------\n",
            "Epoch: 50/100\n",
            "Train_Loss: 0.1198 Train_Accuracy: 0.9583\n",
            "Test_Loss: 0.1285 Test_Accuracy: 1.0000\n",
            "----------------------------------------------------------------------------------------------------\n",
            "Epoch: 51/100\n",
            "Train_Loss: 0.1099 Train_Accuracy: 0.9833\n",
            "Test_Loss: 0.1079 Test_Accuracy: 0.9667\n",
            "----------------------------------------------------------------------------------------------------\n",
            "Epoch: 52/100\n",
            "Train_Loss: 0.1117 Train_Accuracy: 0.9667\n",
            "Test_Loss: 0.1319 Test_Accuracy: 1.0000\n",
            "----------------------------------------------------------------------------------------------------\n",
            "Epoch: 53/100\n",
            "Train_Loss: 0.1197 Train_Accuracy: 0.9583\n",
            "Test_Loss: 0.1566 Test_Accuracy: 0.9667\n",
            "----------------------------------------------------------------------------------------------------\n",
            "Epoch: 54/100\n",
            "Train_Loss: 0.1084 Train_Accuracy: 0.9833\n",
            "Test_Loss: 0.1023 Test_Accuracy: 1.0000\n",
            "----------------------------------------------------------------------------------------------------\n",
            "Epoch: 55/100\n",
            "Train_Loss: 0.1124 Train_Accuracy: 0.9583\n",
            "Test_Loss: 0.1229 Test_Accuracy: 1.0000\n",
            "----------------------------------------------------------------------------------------------------\n",
            "Epoch: 56/100\n",
            "Train_Loss: 0.1089 Train_Accuracy: 0.9750\n",
            "Test_Loss: 0.1227 Test_Accuracy: 1.0000\n",
            "----------------------------------------------------------------------------------------------------\n",
            "Epoch: 57/100\n",
            "Train_Loss: 0.1089 Train_Accuracy: 0.9500\n",
            "Test_Loss: 0.0981 Test_Accuracy: 0.9667\n",
            "----------------------------------------------------------------------------------------------------\n",
            "Epoch: 58/100\n",
            "Train_Loss: 0.0966 Train_Accuracy: 0.9833\n",
            "Test_Loss: 0.1345 Test_Accuracy: 1.0000\n",
            "----------------------------------------------------------------------------------------------------\n",
            "Epoch: 59/100\n",
            "Train_Loss: 0.1095 Train_Accuracy: 0.9500\n",
            "Test_Loss: 0.1126 Test_Accuracy: 1.0000\n",
            "----------------------------------------------------------------------------------------------------\n",
            "Epoch: 60/100\n",
            "Train_Loss: 0.1092 Train_Accuracy: 0.9667\n",
            "Test_Loss: 0.0967 Test_Accuracy: 1.0000\n",
            "----------------------------------------------------------------------------------------------------\n",
            "Epoch: 61/100\n",
            "Train_Loss: 0.0991 Train_Accuracy: 0.9667\n",
            "Test_Loss: 0.1165 Test_Accuracy: 1.0000\n",
            "----------------------------------------------------------------------------------------------------\n",
            "Epoch: 62/100\n",
            "Train_Loss: 0.0959 Train_Accuracy: 0.9667\n",
            "Test_Loss: 0.0914 Test_Accuracy: 1.0000\n",
            "----------------------------------------------------------------------------------------------------\n",
            "Epoch: 63/100\n",
            "Train_Loss: 0.1076 Train_Accuracy: 0.9500\n",
            "Test_Loss: 0.0919 Test_Accuracy: 0.9667\n",
            "----------------------------------------------------------------------------------------------------\n",
            "Epoch: 64/100\n",
            "Train_Loss: 0.0981 Train_Accuracy: 0.9750\n",
            "Test_Loss: 0.1051 Test_Accuracy: 1.0000\n",
            "----------------------------------------------------------------------------------------------------\n",
            "Epoch: 65/100\n",
            "Train_Loss: 0.0973 Train_Accuracy: 0.9667\n",
            "Test_Loss: 0.0895 Test_Accuracy: 1.0000\n",
            "----------------------------------------------------------------------------------------------------\n",
            "Epoch: 66/100\n",
            "Train_Loss: 0.0948 Train_Accuracy: 0.9750\n",
            "Test_Loss: 0.0900 Test_Accuracy: 1.0000\n",
            "----------------------------------------------------------------------------------------------------\n",
            "Epoch: 67/100\n",
            "Train_Loss: 0.0943 Train_Accuracy: 0.9583\n",
            "Test_Loss: 0.0858 Test_Accuracy: 0.9667\n",
            "----------------------------------------------------------------------------------------------------\n",
            "Epoch: 68/100\n",
            "Train_Loss: 0.0940 Train_Accuracy: 0.9667\n",
            "Test_Loss: 0.1275 Test_Accuracy: 0.9667\n",
            "----------------------------------------------------------------------------------------------------\n",
            "Epoch: 69/100\n",
            "Train_Loss: 0.1100 Train_Accuracy: 0.9250\n",
            "Test_Loss: 0.0875 Test_Accuracy: 1.0000\n",
            "----------------------------------------------------------------------------------------------------\n",
            "Epoch: 70/100\n",
            "Train_Loss: 0.1012 Train_Accuracy: 0.9500\n",
            "Test_Loss: 0.0889 Test_Accuracy: 0.9667\n",
            "----------------------------------------------------------------------------------------------------\n",
            "Epoch: 71/100\n",
            "Train_Loss: 0.0994 Train_Accuracy: 0.9750\n",
            "Test_Loss: 0.0999 Test_Accuracy: 1.0000\n",
            "----------------------------------------------------------------------------------------------------\n",
            "Epoch: 72/100\n",
            "Train_Loss: 0.1085 Train_Accuracy: 0.9500\n",
            "Test_Loss: 0.0838 Test_Accuracy: 0.9667\n",
            "----------------------------------------------------------------------------------------------------\n",
            "Epoch: 73/100\n",
            "Train_Loss: 0.0904 Train_Accuracy: 0.9667\n",
            "Test_Loss: 0.1029 Test_Accuracy: 1.0000\n",
            "----------------------------------------------------------------------------------------------------\n",
            "Epoch: 74/100\n",
            "Train_Loss: 0.0864 Train_Accuracy: 0.9667\n",
            "Test_Loss: 0.0812 Test_Accuracy: 1.0000\n",
            "----------------------------------------------------------------------------------------------------\n",
            "Epoch: 75/100\n",
            "Train_Loss: 0.0902 Train_Accuracy: 0.9750\n",
            "Test_Loss: 0.0818 Test_Accuracy: 1.0000\n",
            "----------------------------------------------------------------------------------------------------\n",
            "Epoch: 76/100\n",
            "Train_Loss: 0.0893 Train_Accuracy: 0.9667\n",
            "Test_Loss: 0.0860 Test_Accuracy: 1.0000\n",
            "----------------------------------------------------------------------------------------------------\n",
            "Epoch: 77/100\n",
            "Train_Loss: 0.0962 Train_Accuracy: 0.9667\n",
            "Test_Loss: 0.1176 Test_Accuracy: 0.9667\n",
            "----------------------------------------------------------------------------------------------------\n",
            "Epoch: 78/100\n",
            "Train_Loss: 0.0862 Train_Accuracy: 0.9750\n",
            "Test_Loss: 0.0770 Test_Accuracy: 0.9667\n",
            "----------------------------------------------------------------------------------------------------\n",
            "Epoch: 79/100\n",
            "Train_Loss: 0.0893 Train_Accuracy: 0.9750\n",
            "Test_Loss: 0.0815 Test_Accuracy: 1.0000\n",
            "----------------------------------------------------------------------------------------------------\n",
            "Epoch: 80/100\n",
            "Train_Loss: 0.0875 Train_Accuracy: 0.9583\n",
            "Test_Loss: 0.0749 Test_Accuracy: 1.0000\n",
            "----------------------------------------------------------------------------------------------------\n",
            "Epoch: 81/100\n",
            "Train_Loss: 0.0893 Train_Accuracy: 0.9750\n",
            "Test_Loss: 0.0741 Test_Accuracy: 1.0000\n",
            "----------------------------------------------------------------------------------------------------\n",
            "Epoch: 82/100\n",
            "Train_Loss: 0.0864 Train_Accuracy: 0.9667\n",
            "Test_Loss: 0.0925 Test_Accuracy: 1.0000\n",
            "----------------------------------------------------------------------------------------------------\n",
            "Epoch: 83/100\n",
            "Train_Loss: 0.0814 Train_Accuracy: 0.9750\n",
            "Test_Loss: 0.0742 Test_Accuracy: 0.9667\n",
            "----------------------------------------------------------------------------------------------------\n",
            "Epoch: 84/100\n",
            "Train_Loss: 0.0850 Train_Accuracy: 0.9667\n",
            "Test_Loss: 0.0844 Test_Accuracy: 1.0000\n",
            "----------------------------------------------------------------------------------------------------\n",
            "Epoch: 85/100\n",
            "Train_Loss: 0.0848 Train_Accuracy: 0.9833\n",
            "Test_Loss: 0.0715 Test_Accuracy: 1.0000\n",
            "----------------------------------------------------------------------------------------------------\n",
            "Epoch: 86/100\n",
            "Train_Loss: 0.0833 Train_Accuracy: 0.9667\n",
            "Test_Loss: 0.0743 Test_Accuracy: 1.0000\n",
            "----------------------------------------------------------------------------------------------------\n",
            "Epoch: 87/100\n",
            "Train_Loss: 0.0813 Train_Accuracy: 0.9750\n",
            "Test_Loss: 0.0863 Test_Accuracy: 1.0000\n",
            "----------------------------------------------------------------------------------------------------\n",
            "Epoch: 88/100\n",
            "Train_Loss: 0.0912 Train_Accuracy: 0.9667\n",
            "Test_Loss: 0.0707 Test_Accuracy: 0.9667\n",
            "----------------------------------------------------------------------------------------------------\n",
            "Epoch: 89/100\n",
            "Train_Loss: 0.0827 Train_Accuracy: 0.9750\n",
            "Test_Loss: 0.1069 Test_Accuracy: 1.0000\n",
            "----------------------------------------------------------------------------------------------------\n",
            "Epoch: 90/100\n",
            "Train_Loss: 0.0858 Train_Accuracy: 0.9667\n",
            "Test_Loss: 0.0710 Test_Accuracy: 0.9667\n",
            "----------------------------------------------------------------------------------------------------\n",
            "Epoch: 91/100\n",
            "Train_Loss: 0.0819 Train_Accuracy: 0.9667\n",
            "Test_Loss: 0.0766 Test_Accuracy: 1.0000\n",
            "----------------------------------------------------------------------------------------------------\n",
            "Epoch: 92/100\n",
            "Train_Loss: 0.0787 Train_Accuracy: 0.9833\n",
            "Test_Loss: 0.0675 Test_Accuracy: 1.0000\n",
            "----------------------------------------------------------------------------------------------------\n",
            "Epoch: 93/100\n",
            "Train_Loss: 0.0813 Train_Accuracy: 0.9833\n",
            "Test_Loss: 0.0669 Test_Accuracy: 1.0000\n",
            "----------------------------------------------------------------------------------------------------\n",
            "Epoch: 94/100\n",
            "Train_Loss: 0.0841 Train_Accuracy: 0.9750\n",
            "Test_Loss: 0.0790 Test_Accuracy: 1.0000\n",
            "----------------------------------------------------------------------------------------------------\n",
            "Epoch: 95/100\n",
            "Train_Loss: 0.0842 Train_Accuracy: 0.9750\n",
            "Test_Loss: 0.0779 Test_Accuracy: 1.0000\n",
            "----------------------------------------------------------------------------------------------------\n",
            "Epoch: 96/100\n",
            "Train_Loss: 0.0762 Train_Accuracy: 0.9583\n",
            "Test_Loss: 0.0653 Test_Accuracy: 1.0000\n",
            "----------------------------------------------------------------------------------------------------\n",
            "Epoch: 97/100\n",
            "Train_Loss: 0.0956 Train_Accuracy: 0.9583\n",
            "Test_Loss: 0.1037 Test_Accuracy: 0.9667\n",
            "----------------------------------------------------------------------------------------------------\n",
            "Epoch: 98/100\n",
            "Train_Loss: 0.0857 Train_Accuracy: 0.9667\n",
            "Test_Loss: 0.0679 Test_Accuracy: 1.0000\n",
            "----------------------------------------------------------------------------------------------------\n",
            "Epoch: 99/100\n",
            "Train_Loss: 0.0838 Train_Accuracy: 0.9667\n",
            "Test_Loss: 0.0649 Test_Accuracy: 1.0000\n",
            "----------------------------------------------------------------------------------------------------\n",
            "Epoch: 100/100\n",
            "Train_Loss: 0.0797 Train_Accuracy: 0.9750\n",
            "Test_Loss: 0.0747 Test_Accuracy: 1.0000\n"
          ],
          "name": "stdout"
        }
      ]
    },
    {
      "cell_type": "markdown",
      "metadata": {
        "id": "Olmmzh-k3PsF"
      },
      "source": [
        "## Section 2.7 結果の可視化"
      ]
    },
    {
      "cell_type": "code",
      "metadata": {
        "colab": {
          "base_uri": "https://localhost:8080/",
          "height": 0
        },
        "id": "3XD--WPR0Z_h",
        "outputId": "448d0883-3063-4ca8-d184-34d2c65b6205"
      },
      "source": [
        "plt.figure()\n",
        "plt.title(\"Train and Test Loss\")\n",
        "plt.xlabel(\"Epoch\")\n",
        "plt.ylabel(\"Loss\")\n",
        "plt.plot(range(1, epoch + 1), train_loss_list, color=\"blue\", linestyle=\"-\", label=\"Train_Loss\")\n",
        "plt.plot(range(1, epoch + 1), test_loss_list, color=\"red\", linestyle=\"--\", label=\"Test_Loss\")\n",
        "plt.legend()\n",
        "plt.show()"
      ],
      "execution_count": 22,
      "outputs": [
        {
          "output_type": "display_data",
          "data": {
            "image/png": "[encoded data removed]",
            "text/plain": [
              "<Figure size 432x288 with 1 Axes>"
            ]
          },
          "metadata": {
            "tags": [],
            "needs_background": "light"
          }
        }
      ]
    },
    {
      "cell_type": "code",
      "metadata": {
        "colab": {
          "base_uri": "https://localhost:8080/",
          "height": 0
        },
        "id": "Xgv3Gcpv3xFX",
        "outputId": "652ab8ac-2c5b-43c3-878e-867216c365fe"
      },
      "source": [
        "plt.figure()\n",
        "plt.title(\"Train and Test Accuracy\")\n",
        "plt.xlabel(\"Epoch\")\n",
        "plt.ylabel(\"Accuracy\")\n",
        "plt.plot(range(1, epoch + 1), train_accuracy_list, color=\"blue\", linestyle=\"-\", label=\"Train_Accuracy\")\n",
        "plt.plot(range(1, epoch + 1), test_accuracy_list, color=\"red\", linestyle=\"--\", label=\"Test_Accuracy\")\n",
        "plt.legend()\n",
        "plt.show()"
      ],
      "execution_count": 23,
      "outputs": [
        {
          "output_type": "display_data",
          "data": {
            "image/png": "[encoded data removed]",
            "text/plain": [
              "<Figure size 432x288 with 1 Axes>"
            ]
          },
          "metadata": {
            "tags": [],
            "needs_background": "light"
          }
        }
      ]
    },
    {
      "cell_type": "markdown",
      "metadata": {
        "id": "fIzbi1pm4PlL"
      },
      "source": [
        "## Section 2.8 新たにテスト用のデータセットを用意して推定したい場合"
      ]
    },
    {
      "cell_type": "code",
      "metadata": {
        "id": "cGM6Yg6j3-cg"
      },
      "source": [
        "torch.save(net.to(device).state_dict(), '3-2_iris_net.pth')"
      ],
      "execution_count": 24,
      "outputs": []
    },
    {
      "cell_type": "code",
      "metadata": {
        "colab": {
          "base_uri": "https://localhost:8080/"
        },
        "id": "DW-xpIPs4b_5",
        "outputId": "5c70fea4-4eb1-4422-97b6-fb464736b482"
      },
      "source": [
        "net2 = Net(D_in, H, D_out).to(device)\n",
        "net2.load_state_dict(torch.load(\"3-2_iris_net.pth\", map_location=device))\n",
        "net2"
      ],
      "execution_count": 25,
      "outputs": [
        {
          "output_type": "execute_result",
          "data": {
            "text/plain": [
              "Net(\n",
              "  (linear1): Linear(in_features=4, out_features=100, bias=True)\n",
              "  (linear2): Linear(in_features=100, out_features=3, bias=True)\n",
              ")"
            ]
          },
          "metadata": {
            "tags": []
          },
          "execution_count": 25
        }
      ]
    },
    {
      "cell_type": "code",
      "metadata": {
        "colab": {
          "base_uri": "https://localhost:8080/"
        },
        "id": "mlg798uJ4rdt",
        "outputId": "32cb0067-38ef-46de-e2fb-7b82d6a23f06"
      },
      "source": [
        "net2.eval()\n",
        "\n",
        "with torch.no_grad():\n",
        "  test_accuracy = 0\n",
        "  for data, label in test_batch:\n",
        "    data = data.to(device)\n",
        "    label = label.to(device)\n",
        "    y_pred_prob = net(data)\n",
        "    y_pred_label = torch.max(y_pred_prob, 1)[1]\n",
        "    test_accuracy += torch.sum(y_pred_label == label).item() / len(label)\n",
        "\n",
        "batch_test_accuracy = test_accuracy / len(test_batch)\n",
        "print(f\"Accuracy: {batch_test_accuracy:.4f}\")"
      ],
      "execution_count": 26,
      "outputs": [
        {
          "output_type": "stream",
          "text": [
            "Accuracy: 1.0000\n"
          ],
          "name": "stdout"
        }
      ]
    },
    {
      "cell_type": "markdown",
      "metadata": {
        "id": "XIYLGTrb5uhd"
      },
      "source": [
        "# Section 3 糖尿病の予後予測【サンプルコード】"
      ]
    },
    {
      "cell_type": "code",
      "metadata": {
        "id": "J1bSoVBN5cNr"
      },
      "source": [
        "diabetes = load_diabetes()"
      ],
      "execution_count": 27,
      "outputs": []
    },
    {
      "cell_type": "code",
      "metadata": {
        "colab": {
          "base_uri": "https://localhost:8080/"
        },
        "id": "CQmnn_fc6yuP",
        "outputId": "cf65474c-1c59-4677-edef-f3e0bd9fe174"
      },
      "source": [
        "print(diabetes.DESCR)"
      ],
      "execution_count": 28,
      "outputs": [
        {
          "output_type": "stream",
          "text": [
            ".. _diabetes_dataset:\n",
            "\n",
            "Diabetes dataset\n",
            "----------------\n",
            "\n",
            "Ten baseline variables, age, sex, body mass index, average blood\n",
            "pressure, and six blood serum measurements were obtained for each of n =\n",
            "442 diabetes patients, as well as the response of interest, a\n",
            "quantitative measure of disease progression one year after baseline.\n",
            "\n",
            "**Data Set Characteristics:**\n",
            "\n",
            "  :Number of Instances: 442\n",
            "\n",
            "  :Number of Attributes: First 10 columns are numeric predictive values\n",
            "\n",
            "  :Target: Column 11 is a quantitative measure of disease progression one year after baseline\n",
            "\n",
            "  :Attribute Information:\n",
            "      - Age\n",
            "      - Sex\n",
            "      - Body mass index\n",
            "      - Average blood pressure\n",
            "      - S1\n",
            "      - S2\n",
            "      - S3\n",
            "      - S4\n",
            "      - S5\n",
            "      - S6\n",
            "\n",
            "Note: Each of these 10 feature variables have been mean centered and scaled by the standard deviation times `n_samples` (i.e. the sum of squares of each column totals 1).\n",
            "\n",
            "Source URL:\n",
            "https://www4.stat.ncsu.edu/~boos/var.select/diabetes.html\n",
            "\n",
            "For more information see:\n",
            "Bradley Efron, Trevor Hastie, Iain Johnstone and Robert Tibshirani (2004) \"Least Angle Regression,\" Annals of Statistics (with discussion), 407-499.\n",
            "(https://web.stanford.edu/~hastie/Papers/LARS/LeastAngle_2002.pdf)\n"
          ],
          "name": "stdout"
        }
      ]
    },
    {
      "cell_type": "code",
      "metadata": {
        "colab": {
          "base_uri": "https://localhost:8080/",
          "height": 224
        },
        "id": "D5M__YFL60xt",
        "outputId": "eff98eda-19a2-4af5-8ae9-df5e3db2a9dc"
      },
      "source": [
        "df = pd.DataFrame(diabetes.data, columns=diabetes.feature_names)\n",
        "df[\"target\"] = diabetes.target\n",
        "df.head()"
      ],
      "execution_count": 29,
      "outputs": [
        {
          "output_type": "execute_result",
          "data": {
            "text/html": [
              "<div>\n",
              "<style scoped>\n",
              "    .dataframe tbody tr th:only-of-type {\n",
              "        vertical-align: middle;\n",
              "    }\n",
              "\n",
              "    .dataframe tbody tr th {\n",
              "        vertical-align: top;\n",
              "    }\n",
              "\n",
              "    .dataframe thead th {\n",
              "        text-align: right;\n",
              "    }\n",
              "</style>\n",
              "<table border=\"1\" class=\"dataframe\">\n",
              "  <thead>\n",
              "    <tr style=\"text-align: right;\">\n",
              "      <th></th>\n",
              "      <th>age</th>\n",
              "      <th>sex</th>\n",
              "      <th>bmi</th>\n",
              "      <th>bp</th>\n",
              "      <th>s1</th>\n",
              "      <th>s2</th>\n",
              "      <th>s3</th>\n",
              "      <th>s4</th>\n",
              "      <th>s5</th>\n",
              "      <th>s6</th>\n",
              "      <th>target</th>\n",
              "    </tr>\n",
              "  </thead>\n",
              "  <tbody>\n",
              "    <tr>\n",
              "      <th>0</th>\n",
              "      <td>0.038076</td>\n",
              "      <td>0.050680</td>\n",
              "      <td>0.061696</td>\n",
              "      <td>0.021872</td>\n",
              "      <td>-0.044223</td>\n",
              "      <td>-0.034821</td>\n",
              "      <td>-0.043401</td>\n",
              "      <td>-0.002592</td>\n",
              "      <td>0.019908</td>\n",
              "      <td>-0.017646</td>\n",
              "      <td>151.0</td>\n",
              "    </tr>\n",
              "    <tr>\n",
              "      <th>1</th>\n",
              "      <td>-0.001882</td>\n",
              "      <td>-0.044642</td>\n",
              "      <td>-0.051474</td>\n",
              "      <td>-0.026328</td>\n",
              "      <td>-0.008449</td>\n",
              "      <td>-0.019163</td>\n",
              "      <td>0.074412</td>\n",
              "      <td>-0.039493</td>\n",
              "      <td>-0.068330</td>\n",
              "      <td>-0.092204</td>\n",
              "      <td>75.0</td>\n",
              "    </tr>\n",
              "    <tr>\n",
              "      <th>2</th>\n",
              "      <td>0.085299</td>\n",
              "      <td>0.050680</td>\n",
              "      <td>0.044451</td>\n",
              "      <td>-0.005671</td>\n",
              "      <td>-0.045599</td>\n",
              "      <td>-0.034194</td>\n",
              "      <td>-0.032356</td>\n",
              "      <td>-0.002592</td>\n",
              "      <td>0.002864</td>\n",
              "      <td>-0.025930</td>\n",
              "      <td>141.0</td>\n",
              "    </tr>\n",
              "    <tr>\n",
              "      <th>3</th>\n",
              "      <td>-0.089063</td>\n",
              "      <td>-0.044642</td>\n",
              "      <td>-0.011595</td>\n",
              "      <td>-0.036656</td>\n",
              "      <td>0.012191</td>\n",
              "      <td>0.024991</td>\n",
              "      <td>-0.036038</td>\n",
              "      <td>0.034309</td>\n",
              "      <td>0.022692</td>\n",
              "      <td>-0.009362</td>\n",
              "      <td>206.0</td>\n",
              "    </tr>\n",
              "    <tr>\n",
              "      <th>4</th>\n",
              "      <td>0.005383</td>\n",
              "      <td>-0.044642</td>\n",
              "      <td>-0.036385</td>\n",
              "      <td>0.021872</td>\n",
              "      <td>0.003935</td>\n",
              "      <td>0.015596</td>\n",
              "      <td>0.008142</td>\n",
              "      <td>-0.002592</td>\n",
              "      <td>-0.031991</td>\n",
              "      <td>-0.046641</td>\n",
              "      <td>135.0</td>\n",
              "    </tr>\n",
              "  </tbody>\n",
              "</table>\n",
              "</div>"
            ],
            "text/plain": [
              "        age       sex       bmi        bp  ...        s4        s5        s6  target\n",
              "0  0.038076  0.050680  0.061696  0.021872  ... -0.002592  0.019908 -0.017646   151.0\n",
              "1 -0.001882 -0.044642 -0.051474 -0.026328  ... -0.039493 -0.068330 -0.092204    75.0\n",
              "2  0.085299  0.050680  0.044451 -0.005671  ... -0.002592  0.002864 -0.025930   141.0\n",
              "3 -0.089063 -0.044642 -0.011595 -0.036656  ...  0.034309  0.022692 -0.009362   206.0\n",
              "4  0.005383 -0.044642 -0.036385  0.021872  ... -0.002592 -0.031991 -0.046641   135.0\n",
              "\n",
              "[5 rows x 11 columns]"
            ]
          },
          "metadata": {
            "tags": []
          },
          "execution_count": 29
        }
      ]
    },
    {
      "cell_type": "code",
      "metadata": {
        "colab": {
          "base_uri": "https://localhost:8080/",
          "height": 385
        },
        "id": "8L1BmuNU7sqb",
        "outputId": "662a7084-a2d2-45fc-b38f-230d6862b1f9"
      },
      "source": [
        "df.describe()"
      ],
      "execution_count": 30,
      "outputs": [
        {
          "output_type": "execute_result",
          "data": {
            "text/html": [
              "<div>\n",
              "<style scoped>\n",
              "    .dataframe tbody tr th:only-of-type {\n",
              "        vertical-align: middle;\n",
              "    }\n",
              "\n",
              "    .dataframe tbody tr th {\n",
              "        vertical-align: top;\n",
              "    }\n",
              "\n",
              "    .dataframe thead th {\n",
              "        text-align: right;\n",
              "    }\n",
              "</style>\n",
              "<table border=\"1\" class=\"dataframe\">\n",
              "  <thead>\n",
              "    <tr style=\"text-align: right;\">\n",
              "      <th></th>\n",
              "      <th>age</th>\n",
              "      <th>sex</th>\n",
              "      <th>bmi</th>\n",
              "      <th>bp</th>\n",
              "      <th>s1</th>\n",
              "      <th>s2</th>\n",
              "      <th>s3</th>\n",
              "      <th>s4</th>\n",
              "      <th>s5</th>\n",
              "      <th>s6</th>\n",
              "      <th>target</th>\n",
              "    </tr>\n",
              "  </thead>\n",
              "  <tbody>\n",
              "    <tr>\n",
              "      <th>count</th>\n",
              "      <td>4.420000e+02</td>\n",
              "      <td>4.420000e+02</td>\n",
              "      <td>4.420000e+02</td>\n",
              "      <td>4.420000e+02</td>\n",
              "      <td>4.420000e+02</td>\n",
              "      <td>4.420000e+02</td>\n",
              "      <td>4.420000e+02</td>\n",
              "      <td>4.420000e+02</td>\n",
              "      <td>4.420000e+02</td>\n",
              "      <td>4.420000e+02</td>\n",
              "      <td>442.000000</td>\n",
              "    </tr>\n",
              "    <tr>\n",
              "      <th>mean</th>\n",
              "      <td>-3.634285e-16</td>\n",
              "      <td>1.308343e-16</td>\n",
              "      <td>-8.045349e-16</td>\n",
              "      <td>1.281655e-16</td>\n",
              "      <td>-8.835316e-17</td>\n",
              "      <td>1.327024e-16</td>\n",
              "      <td>-4.574646e-16</td>\n",
              "      <td>3.777301e-16</td>\n",
              "      <td>-3.830854e-16</td>\n",
              "      <td>-3.412882e-16</td>\n",
              "      <td>152.133484</td>\n",
              "    </tr>\n",
              "    <tr>\n",
              "      <th>std</th>\n",
              "      <td>4.761905e-02</td>\n",
              "      <td>4.761905e-02</td>\n",
              "      <td>4.761905e-02</td>\n",
              "      <td>4.761905e-02</td>\n",
              "      <td>4.761905e-02</td>\n",
              "      <td>4.761905e-02</td>\n",
              "      <td>4.761905e-02</td>\n",
              "      <td>4.761905e-02</td>\n",
              "      <td>4.761905e-02</td>\n",
              "      <td>4.761905e-02</td>\n",
              "      <td>77.093005</td>\n",
              "    </tr>\n",
              "    <tr>\n",
              "      <th>min</th>\n",
              "      <td>-1.072256e-01</td>\n",
              "      <td>-4.464164e-02</td>\n",
              "      <td>-9.027530e-02</td>\n",
              "      <td>-1.123996e-01</td>\n",
              "      <td>-1.267807e-01</td>\n",
              "      <td>-1.156131e-01</td>\n",
              "      <td>-1.023071e-01</td>\n",
              "      <td>-7.639450e-02</td>\n",
              "      <td>-1.260974e-01</td>\n",
              "      <td>-1.377672e-01</td>\n",
              "      <td>25.000000</td>\n",
              "    </tr>\n",
              "    <tr>\n",
              "      <th>25%</th>\n",
              "      <td>-3.729927e-02</td>\n",
              "      <td>-4.464164e-02</td>\n",
              "      <td>-3.422907e-02</td>\n",
              "      <td>-3.665645e-02</td>\n",
              "      <td>-3.424784e-02</td>\n",
              "      <td>-3.035840e-02</td>\n",
              "      <td>-3.511716e-02</td>\n",
              "      <td>-3.949338e-02</td>\n",
              "      <td>-3.324879e-02</td>\n",
              "      <td>-3.317903e-02</td>\n",
              "      <td>87.000000</td>\n",
              "    </tr>\n",
              "    <tr>\n",
              "      <th>50%</th>\n",
              "      <td>5.383060e-03</td>\n",
              "      <td>-4.464164e-02</td>\n",
              "      <td>-7.283766e-03</td>\n",
              "      <td>-5.670611e-03</td>\n",
              "      <td>-4.320866e-03</td>\n",
              "      <td>-3.819065e-03</td>\n",
              "      <td>-6.584468e-03</td>\n",
              "      <td>-2.592262e-03</td>\n",
              "      <td>-1.947634e-03</td>\n",
              "      <td>-1.077698e-03</td>\n",
              "      <td>140.500000</td>\n",
              "    </tr>\n",
              "    <tr>\n",
              "      <th>75%</th>\n",
              "      <td>3.807591e-02</td>\n",
              "      <td>5.068012e-02</td>\n",
              "      <td>3.124802e-02</td>\n",
              "      <td>3.564384e-02</td>\n",
              "      <td>2.835801e-02</td>\n",
              "      <td>2.984439e-02</td>\n",
              "      <td>2.931150e-02</td>\n",
              "      <td>3.430886e-02</td>\n",
              "      <td>3.243323e-02</td>\n",
              "      <td>2.791705e-02</td>\n",
              "      <td>211.500000</td>\n",
              "    </tr>\n",
              "    <tr>\n",
              "      <th>max</th>\n",
              "      <td>1.107267e-01</td>\n",
              "      <td>5.068012e-02</td>\n",
              "      <td>1.705552e-01</td>\n",
              "      <td>1.320442e-01</td>\n",
              "      <td>1.539137e-01</td>\n",
              "      <td>1.987880e-01</td>\n",
              "      <td>1.811791e-01</td>\n",
              "      <td>1.852344e-01</td>\n",
              "      <td>1.335990e-01</td>\n",
              "      <td>1.356118e-01</td>\n",
              "      <td>346.000000</td>\n",
              "    </tr>\n",
              "  </tbody>\n",
              "</table>\n",
              "</div>"
            ],
            "text/plain": [
              "                age           sex  ...            s6      target\n",
              "count  4.420000e+02  4.420000e+02  ...  4.420000e+02  442.000000\n",
              "mean  -3.634285e-16  1.308343e-16  ... -3.412882e-16  152.133484\n",
              "std    4.761905e-02  4.761905e-02  ...  4.761905e-02   77.093005\n",
              "min   -1.072256e-01 -4.464164e-02  ... -1.377672e-01   25.000000\n",
              "25%   -3.729927e-02 -4.464164e-02  ... -3.317903e-02   87.000000\n",
              "50%    5.383060e-03 -4.464164e-02  ... -1.077698e-03  140.500000\n",
              "75%    3.807591e-02  5.068012e-02  ...  2.791705e-02  211.500000\n",
              "max    1.107267e-01  5.068012e-02  ...  1.356118e-01  346.000000\n",
              "\n",
              "[8 rows x 11 columns]"
            ]
          },
          "metadata": {
            "tags": []
          },
          "execution_count": 30
        }
      ]
    },
    {
      "cell_type": "code",
      "metadata": {
        "colab": {
          "base_uri": "https://localhost:8080/",
          "height": 119
        },
        "id": "VOJ2fGZ47wQQ",
        "outputId": "686ac7d2-e6ca-4f72-9076-89b40d86469a"
      },
      "source": [
        "sns.pairplot(df, x_vars=diabetes.feature_names, y_vars=\"target\")"
      ],
      "execution_count": 31,
      "outputs": [
        {
          "output_type": "execute_result",
          "data": {
            "text/plain": [
              "<seaborn.axisgrid.PairGrid at 0x7fdb745165c0>"
            ]
          },
          "metadata": {
            "tags": []
          },
          "execution_count": 31
        },
        {
          "output_type": "display_data",
          "data": {
            "image/png": "[encoded data removed]",
            "text/plain": [
              "<Figure size 1800x180 with 10 Axes>"
            ]
          },
          "metadata": {
            "tags": [],
            "needs_background": "light"
          }
        }
      ]
    },
    {
      "cell_type": "markdown",
      "metadata": {
        "id": "kwo9G5zv8XBr"
      },
      "source": [
        "## Section 3.2 前準備(パッケージのインポート)"
      ]
    },
    {
      "cell_type": "code",
      "metadata": {
        "colab": {
          "base_uri": "https://localhost:8080/"
        },
        "id": "WnRqvh6B79_0",
        "outputId": "4a3f5292-201e-4d50-b52d-345b45d2c5a9"
      },
      "source": [
        "data = diabetes.data\n",
        "label = diabetes.target.reshape(-1, 1)\n",
        "\n",
        "data.shape, label.shape"
      ],
      "execution_count": 32,
      "outputs": [
        {
          "output_type": "execute_result",
          "data": {
            "text/plain": [
              "((442, 10), (442, 1))"
            ]
          },
          "metadata": {
            "tags": []
          },
          "execution_count": 32
        }
      ]
    },
    {
      "cell_type": "markdown",
      "metadata": {
        "id": "vNVdYTaZSP9m"
      },
      "source": [
        "## Section 3.3 訓練データとテストデータの用意"
      ]
    },
    {
      "cell_type": "code",
      "metadata": {
        "colab": {
          "base_uri": "https://localhost:8080/"
        },
        "id": "OPPhG2yf8kh7",
        "outputId": "ec1e20b3-4e23-4a31-b046-61fe5828c193"
      },
      "source": [
        "train_data, test_data, train_label, test_label = train_test_split(\n",
        "    data, label, test_size=0.2\n",
        ")\n",
        "\n",
        "train_data.shape, test_data.shape, train_label.shape, test_label.shape"
      ],
      "execution_count": 33,
      "outputs": [
        {
          "output_type": "execute_result",
          "data": {
            "text/plain": [
              "((353, 10), (89, 10), (353, 1), (89, 1))"
            ]
          },
          "metadata": {
            "tags": []
          },
          "execution_count": 33
        }
      ]
    },
    {
      "cell_type": "code",
      "metadata": {
        "id": "c0fdKGb080Hi"
      },
      "source": [
        "train_x = torch.Tensor(train_data)\n",
        "test_x = torch.Tensor(test_data)\n",
        "train_y = torch.Tensor(train_label)\n",
        "test_y = torch.Tensor(test_label)"
      ],
      "execution_count": 34,
      "outputs": []
    },
    {
      "cell_type": "code",
      "metadata": {
        "id": "rl42pFFe9FLH"
      },
      "source": [
        "train_dataset = TensorDataset(train_x, train_y)\n",
        "test_dataset = TensorDataset(test_x, test_y)"
      ],
      "execution_count": 35,
      "outputs": []
    },
    {
      "cell_type": "code",
      "metadata": {
        "colab": {
          "base_uri": "https://localhost:8080/"
        },
        "id": "V095mHs69Lss",
        "outputId": "bb2e1338-82ab-4413-ee88-2cfd7f5bb68a"
      },
      "source": [
        "train_batch = DataLoader(\n",
        "    dataset=train_dataset,\n",
        "    batch_size=20,\n",
        "    shuffle=True,\n",
        "    num_workers=2\n",
        ")\n",
        "\n",
        "test_batch = DataLoader(\n",
        "    dataset=test_dataset,\n",
        "    batch_size=20,\n",
        "    shuffle=False,\n",
        "    num_workers=2\n",
        ")\n",
        "\n",
        "for data, label in train_batch:\n",
        "  print(f\"batch data size: {data.size()}\")\n",
        "  print(f\"batch label size: {label.size()}\")\n",
        "  break"
      ],
      "execution_count": 36,
      "outputs": [
        {
          "output_type": "stream",
          "text": [
            "batch data size: torch.Size([20, 10])\n",
            "batch label size: torch.Size([20, 1])\n"
          ],
          "name": "stdout"
        }
      ]
    },
    {
      "cell_type": "markdown",
      "metadata": {
        "id": "PRwjii2b-n_p"
      },
      "source": [
        "## Section 3.4 ニューラルネットワークの定義"
      ]
    },
    {
      "cell_type": "code",
      "metadata": {
        "id": "4c7x4nKc-KQt"
      },
      "source": [
        "class Net(nn.Module):\n",
        "  def __init__(self, D_in, H, D_out):\n",
        "    super(Net, self).__init__()\n",
        "    self.linear1 = nn.Linear(D_in, H)\n",
        "    self.linear2 = nn.Linear(H, H)\n",
        "    self.linear3 = nn.Linear(H, D_out)\n",
        "    self.dropout = nn.Dropout(p=0.5)\n",
        "  \n",
        "  def forward(self, x):\n",
        "    x = F.relu(self.linear1(x))\n",
        "    x = F.relu(self.linear2(x))\n",
        "    x = F.relu(self.linear2(x))\n",
        "    x = self.dropout(x)\n",
        "    x = self.linear3(x)\n",
        "    return x"
      ],
      "execution_count": 37,
      "outputs": []
    },
    {
      "cell_type": "code",
      "metadata": {
        "id": "rSj8-rXuQB7o"
      },
      "source": [
        "D_in = 10\n",
        "H = 200\n",
        "D_out = 1\n",
        "epoch = 100"
      ],
      "execution_count": 38,
      "outputs": []
    },
    {
      "cell_type": "code",
      "metadata": {
        "colab": {
          "base_uri": "https://localhost:8080/"
        },
        "id": "n73djlTfQnTc",
        "outputId": "c8854972-8221-4e0e-bcd8-237b71c7f70d"
      },
      "source": [
        "device = torch.device(\"gpu\" if torch.cuda.is_available() else \"cpu\")\n",
        "device"
      ],
      "execution_count": 39,
      "outputs": [
        {
          "output_type": "execute_result",
          "data": {
            "text/plain": [
              "device(type='cpu')"
            ]
          },
          "metadata": {
            "tags": []
          },
          "execution_count": 39
        }
      ]
    },
    {
      "cell_type": "code",
      "metadata": {
        "colab": {
          "base_uri": "https://localhost:8080/"
        },
        "id": "2vbHHorPSa9x",
        "outputId": "89ecadba-30f0-46ea-9230-eaecbaeecf1c"
      },
      "source": [
        "net = Net(D_in, H, D_out)\n",
        "net"
      ],
      "execution_count": 40,
      "outputs": [
        {
          "output_type": "execute_result",
          "data": {
            "text/plain": [
              "Net(\n",
              "  (linear1): Linear(in_features=10, out_features=200, bias=True)\n",
              "  (linear2): Linear(in_features=200, out_features=200, bias=True)\n",
              "  (linear3): Linear(in_features=200, out_features=1, bias=True)\n",
              "  (dropout): Dropout(p=0.5, inplace=False)\n",
              ")"
            ]
          },
          "metadata": {
            "tags": []
          },
          "execution_count": 40
        }
      ]
    },
    {
      "cell_type": "markdown",
      "metadata": {
        "id": "1faNbBuYQz6M"
      },
      "source": [
        "## Section 3.5 損失関数と最適化関数の定義"
      ]
    },
    {
      "cell_type": "code",
      "metadata": {
        "id": "vcFMd1-3QvHH"
      },
      "source": [
        "criterion = nn.MSELoss()\n",
        "criterion2 = nn.L1Loss()\n",
        "\n",
        "optimizer = optim.Adam(net.parameters())"
      ],
      "execution_count": 41,
      "outputs": []
    },
    {
      "cell_type": "markdown",
      "metadata": {
        "id": "kCBnxnDoRM94"
      },
      "source": [
        "## Section 3.6 学習"
      ]
    },
    {
      "cell_type": "code",
      "metadata": {
        "colab": {
          "base_uri": "https://localhost:8080/"
        },
        "id": "-FduCQypRDk2",
        "outputId": "c7e5bb3d-de7f-478b-a44e-9ca5974ee253"
      },
      "source": [
        "train_loss_list = []\n",
        "train_mae_list = []\n",
        "test_loss_list = []\n",
        "test_mae_list = []\n",
        "\n",
        "for i in range(epoch):\n",
        "  print(\"-\" * 100)\n",
        "  print(f\"Epoch: {i + 1}/{epoch}\")\n",
        "\n",
        "  train_loss = 0\n",
        "  train_mae = 0\n",
        "  test_loss = 0\n",
        "  test_mae = 0\n",
        "\n",
        "  # train part\n",
        "  net.train()\n",
        "  for data, label in train_batch:\n",
        "    data = data.to(device)\n",
        "    label = label.to(device)\n",
        "\n",
        "    optimizer.zero_grad()\n",
        "\n",
        "    y_pred = net(data)\n",
        "    loss = criterion(y_pred, label)\n",
        "    mae = criterion2(y_pred, label)\n",
        "    loss.backward()\n",
        "    optimizer.step()\n",
        "\n",
        "    train_loss += loss.item()\n",
        "    train_mae += mae.item()\n",
        "  \n",
        "  batch_train_loss = train_loss / len(train_batch)\n",
        "  batch_train_mae = train_mae / len(train_batch)\n",
        "\n",
        "  # eval part\n",
        "  net.eval()\n",
        "  \n",
        "  with torch.no_grad():\n",
        "    for data, label in test_batch:\n",
        "      data = data.to(device)\n",
        "      label = label.to(device)\n",
        "\n",
        "      y_pred = net(data)\n",
        "      loss = criterion(y_pred, label)\n",
        "      mae = criterion2(y_pred, label)\n",
        "\n",
        "      test_loss += loss.item()\n",
        "      test_mae += mae.item()\n",
        "  \n",
        "  batch_test_loss = test_loss / len(test_batch)\n",
        "  batch_test_mae = test_mae / len(test_batch)\n",
        "\n",
        "  print(f\"Train_Loss: {batch_train_loss:.4f} Train_MAE: {batch_train_mae:.4f}\")\n",
        "  print(f\"Test_Loss: {batch_test_loss:.4f} Test_MAE: {batch_test_mae:.4f}\")\n",
        "\n",
        "  train_loss_list.append(batch_train_loss)\n",
        "  train_mae_list.append(batch_train_mae)\n",
        "  test_loss_list.append(batch_test_loss)\n",
        "  test_mae_list.append(batch_test_mae)"
      ],
      "execution_count": 42,
      "outputs": [
        {
          "output_type": "stream",
          "text": [
            "----------------------------------------------------------------------------------------------------\n",
            "Epoch: 1/100\n",
            "Train_Loss: 28629.2053 Train_MAE: 150.9655\n",
            "Test_Loss: 28000.4750 Test_MAE: 148.1119\n",
            "----------------------------------------------------------------------------------------------------\n",
            "Epoch: 2/100\n",
            "Train_Loss: 26820.1243 Train_MAE: 144.8391\n",
            "Test_Loss: 23630.8424 Test_MAE: 132.7731\n",
            "----------------------------------------------------------------------------------------------------\n",
            "Epoch: 3/100\n",
            "Train_Loss: 18228.2825 Train_MAE: 111.7304\n",
            "Test_Loss: 10679.4427 Test_MAE: 79.6307\n",
            "----------------------------------------------------------------------------------------------------\n",
            "Epoch: 4/100\n",
            "Train_Loss: 6665.3529 Train_MAE: 67.2437\n",
            "Test_Loss: 5454.4469 Test_MAE: 62.9837\n",
            "----------------------------------------------------------------------------------------------------\n",
            "Epoch: 5/100\n",
            "Train_Loss: 5064.8283 Train_MAE: 60.4393\n",
            "Test_Loss: 4847.4945 Test_MAE: 57.7349\n",
            "----------------------------------------------------------------------------------------------------\n",
            "Epoch: 6/100\n",
            "Train_Loss: 4781.7982 Train_MAE: 58.6258\n",
            "Test_Loss: 4463.6077 Test_MAE: 55.6916\n",
            "----------------------------------------------------------------------------------------------------\n",
            "Epoch: 7/100\n",
            "Train_Loss: 4628.7060 Train_MAE: 57.7888\n",
            "Test_Loss: 4355.0712 Test_MAE: 54.4629\n",
            "----------------------------------------------------------------------------------------------------\n",
            "Epoch: 8/100\n",
            "Train_Loss: 4299.5467 Train_MAE: 56.0526\n",
            "Test_Loss: 4115.1650 Test_MAE: 52.8719\n",
            "----------------------------------------------------------------------------------------------------\n",
            "Epoch: 9/100\n",
            "Train_Loss: 4178.2483 Train_MAE: 53.8951\n",
            "Test_Loss: 4104.7952 Test_MAE: 52.2105\n",
            "----------------------------------------------------------------------------------------------------\n",
            "Epoch: 10/100\n",
            "Train_Loss: 3976.6814 Train_MAE: 52.1190\n",
            "Test_Loss: 3863.5445 Test_MAE: 50.6579\n",
            "----------------------------------------------------------------------------------------------------\n",
            "Epoch: 11/100\n",
            "Train_Loss: 3979.3656 Train_MAE: 53.1855\n",
            "Test_Loss: 3926.0971 Test_MAE: 50.3816\n",
            "----------------------------------------------------------------------------------------------------\n",
            "Epoch: 12/100\n",
            "Train_Loss: 3551.7299 Train_MAE: 49.1137\n",
            "Test_Loss: 3760.4163 Test_MAE: 49.2252\n",
            "----------------------------------------------------------------------------------------------------\n",
            "Epoch: 13/100\n",
            "Train_Loss: 3854.0083 Train_MAE: 51.8118\n",
            "Test_Loss: 3756.7756 Test_MAE: 48.8949\n",
            "----------------------------------------------------------------------------------------------------\n",
            "Epoch: 14/100\n",
            "Train_Loss: 3714.6304 Train_MAE: 50.7849\n",
            "Test_Loss: 3758.2838 Test_MAE: 48.7155\n",
            "----------------------------------------------------------------------------------------------------\n",
            "Epoch: 15/100\n",
            "Train_Loss: 3392.3685 Train_MAE: 48.9553\n",
            "Test_Loss: 3543.4050 Test_MAE: 47.2081\n",
            "----------------------------------------------------------------------------------------------------\n",
            "Epoch: 16/100\n",
            "Train_Loss: 3566.8579 Train_MAE: 49.1494\n",
            "Test_Loss: 3657.7401 Test_MAE: 47.8809\n",
            "----------------------------------------------------------------------------------------------------\n",
            "Epoch: 17/100\n",
            "Train_Loss: 3597.5399 Train_MAE: 49.6064\n",
            "Test_Loss: 3472.8896 Test_MAE: 46.5269\n",
            "----------------------------------------------------------------------------------------------------\n",
            "Epoch: 18/100\n",
            "Train_Loss: 3612.8658 Train_MAE: 49.3470\n",
            "Test_Loss: 3537.7198 Test_MAE: 46.8680\n",
            "----------------------------------------------------------------------------------------------------\n",
            "Epoch: 19/100\n",
            "Train_Loss: 3245.6797 Train_MAE: 46.9796\n",
            "Test_Loss: 3468.5535 Test_MAE: 46.3120\n",
            "----------------------------------------------------------------------------------------------------\n",
            "Epoch: 20/100\n",
            "Train_Loss: 3228.9344 Train_MAE: 46.6522\n",
            "Test_Loss: 3458.9389 Test_MAE: 46.1222\n",
            "----------------------------------------------------------------------------------------------------\n",
            "Epoch: 21/100\n",
            "Train_Loss: 3164.7394 Train_MAE: 45.8481\n",
            "Test_Loss: 3411.9888 Test_MAE: 45.6924\n",
            "----------------------------------------------------------------------------------------------------\n",
            "Epoch: 22/100\n",
            "Train_Loss: 3318.4241 Train_MAE: 47.5329\n",
            "Test_Loss: 3606.8835 Test_MAE: 47.0239\n",
            "----------------------------------------------------------------------------------------------------\n",
            "Epoch: 23/100\n",
            "Train_Loss: 3144.0327 Train_MAE: 46.0106\n",
            "Test_Loss: 3292.3303 Test_MAE: 44.8264\n",
            "----------------------------------------------------------------------------------------------------\n",
            "Epoch: 24/100\n",
            "Train_Loss: 3283.6482 Train_MAE: 47.1592\n",
            "Test_Loss: 3277.9504 Test_MAE: 44.6991\n",
            "----------------------------------------------------------------------------------------------------\n",
            "Epoch: 25/100\n",
            "Train_Loss: 3043.3206 Train_MAE: 44.7212\n",
            "Test_Loss: 3445.0127 Test_MAE: 45.8906\n",
            "----------------------------------------------------------------------------------------------------\n",
            "Epoch: 26/100\n",
            "Train_Loss: 3365.8778 Train_MAE: 46.6652\n",
            "Test_Loss: 3270.3416 Test_MAE: 44.6812\n",
            "----------------------------------------------------------------------------------------------------\n",
            "Epoch: 27/100\n",
            "Train_Loss: 3093.5075 Train_MAE: 45.3400\n",
            "Test_Loss: 3269.5778 Test_MAE: 44.7290\n",
            "----------------------------------------------------------------------------------------------------\n",
            "Epoch: 28/100\n",
            "Train_Loss: 3227.6694 Train_MAE: 45.5306\n",
            "Test_Loss: 3176.3575 Test_MAE: 44.0765\n",
            "----------------------------------------------------------------------------------------------------\n",
            "Epoch: 29/100\n",
            "Train_Loss: 3044.2834 Train_MAE: 44.6370\n",
            "Test_Loss: 3232.6300 Test_MAE: 44.5095\n",
            "----------------------------------------------------------------------------------------------------\n",
            "Epoch: 30/100\n",
            "Train_Loss: 3030.6931 Train_MAE: 44.6243\n",
            "Test_Loss: 3117.4882 Test_MAE: 43.7488\n",
            "----------------------------------------------------------------------------------------------------\n",
            "Epoch: 31/100\n",
            "Train_Loss: 3159.4480 Train_MAE: 45.9073\n",
            "Test_Loss: 3413.5890 Test_MAE: 45.7045\n",
            "----------------------------------------------------------------------------------------------------\n",
            "Epoch: 32/100\n",
            "Train_Loss: 3132.9979 Train_MAE: 45.3612\n",
            "Test_Loss: 3182.6675 Test_MAE: 44.1247\n",
            "----------------------------------------------------------------------------------------------------\n",
            "Epoch: 33/100\n",
            "Train_Loss: 3336.8059 Train_MAE: 46.0392\n",
            "Test_Loss: 3237.8068 Test_MAE: 44.5016\n",
            "----------------------------------------------------------------------------------------------------\n",
            "Epoch: 34/100\n",
            "Train_Loss: 3009.1429 Train_MAE: 44.0569\n",
            "Test_Loss: 3231.7873 Test_MAE: 44.4151\n",
            "----------------------------------------------------------------------------------------------------\n",
            "Epoch: 35/100\n",
            "Train_Loss: 2998.8622 Train_MAE: 44.1280\n",
            "Test_Loss: 3184.2868 Test_MAE: 44.0951\n",
            "----------------------------------------------------------------------------------------------------\n",
            "Epoch: 36/100\n",
            "Train_Loss: 3069.7290 Train_MAE: 43.9600\n",
            "Test_Loss: 3071.9517 Test_MAE: 43.2958\n",
            "----------------------------------------------------------------------------------------------------\n",
            "Epoch: 37/100\n",
            "Train_Loss: 3177.1780 Train_MAE: 45.3813\n",
            "Test_Loss: 3255.4128 Test_MAE: 44.5308\n",
            "----------------------------------------------------------------------------------------------------\n",
            "Epoch: 38/100\n",
            "Train_Loss: 3197.0806 Train_MAE: 44.9914\n",
            "Test_Loss: 3092.8985 Test_MAE: 43.5329\n",
            "----------------------------------------------------------------------------------------------------\n",
            "Epoch: 39/100\n",
            "Train_Loss: 3104.8200 Train_MAE: 44.4371\n",
            "Test_Loss: 3214.4132 Test_MAE: 44.2870\n",
            "----------------------------------------------------------------------------------------------------\n",
            "Epoch: 40/100\n",
            "Train_Loss: 2991.6333 Train_MAE: 44.5301\n",
            "Test_Loss: 3071.7793 Test_MAE: 43.3091\n",
            "----------------------------------------------------------------------------------------------------\n",
            "Epoch: 41/100\n",
            "Train_Loss: 3170.7833 Train_MAE: 45.6025\n",
            "Test_Loss: 3417.3260 Test_MAE: 45.5032\n",
            "----------------------------------------------------------------------------------------------------\n",
            "Epoch: 42/100\n",
            "Train_Loss: 3037.6182 Train_MAE: 44.4875\n",
            "Test_Loss: 3075.8393 Test_MAE: 43.3531\n",
            "----------------------------------------------------------------------------------------------------\n",
            "Epoch: 43/100\n",
            "Train_Loss: 2971.2711 Train_MAE: 44.2003\n",
            "Test_Loss: 3056.0236 Test_MAE: 43.4079\n",
            "----------------------------------------------------------------------------------------------------\n",
            "Epoch: 44/100\n",
            "Train_Loss: 3053.4014 Train_MAE: 45.0164\n",
            "Test_Loss: 3285.1975 Test_MAE: 44.9255\n",
            "----------------------------------------------------------------------------------------------------\n",
            "Epoch: 45/100\n",
            "Train_Loss: 3165.4477 Train_MAE: 44.6965\n",
            "Test_Loss: 3219.2587 Test_MAE: 44.4086\n",
            "----------------------------------------------------------------------------------------------------\n",
            "Epoch: 46/100\n",
            "Train_Loss: 2881.9457 Train_MAE: 43.4900\n",
            "Test_Loss: 3007.8374 Test_MAE: 42.9332\n",
            "----------------------------------------------------------------------------------------------------\n",
            "Epoch: 47/100\n",
            "Train_Loss: 3013.1805 Train_MAE: 44.6274\n",
            "Test_Loss: 3117.4078 Test_MAE: 43.6594\n",
            "----------------------------------------------------------------------------------------------------\n",
            "Epoch: 48/100\n",
            "Train_Loss: 3235.6094 Train_MAE: 45.5195\n",
            "Test_Loss: 3069.7571 Test_MAE: 43.4322\n",
            "----------------------------------------------------------------------------------------------------\n",
            "Epoch: 49/100\n",
            "Train_Loss: 2926.7716 Train_MAE: 43.2761\n",
            "Test_Loss: 3181.9834 Test_MAE: 44.1934\n",
            "----------------------------------------------------------------------------------------------------\n",
            "Epoch: 50/100\n",
            "Train_Loss: 3137.0571 Train_MAE: 44.9058\n",
            "Test_Loss: 3137.7259 Test_MAE: 43.9775\n",
            "----------------------------------------------------------------------------------------------------\n",
            "Epoch: 51/100\n",
            "Train_Loss: 3152.6838 Train_MAE: 45.0678\n",
            "Test_Loss: 3174.7788 Test_MAE: 44.1796\n",
            "----------------------------------------------------------------------------------------------------\n",
            "Epoch: 52/100\n",
            "Train_Loss: 3058.2938 Train_MAE: 44.3178\n",
            "Test_Loss: 2992.5779 Test_MAE: 42.9383\n",
            "----------------------------------------------------------------------------------------------------\n",
            "Epoch: 53/100\n",
            "Train_Loss: 3278.1758 Train_MAE: 45.5130\n",
            "Test_Loss: 3092.9363 Test_MAE: 43.4918\n",
            "----------------------------------------------------------------------------------------------------\n",
            "Epoch: 54/100\n",
            "Train_Loss: 3022.1437 Train_MAE: 44.2019\n",
            "Test_Loss: 3086.9592 Test_MAE: 43.4917\n",
            "----------------------------------------------------------------------------------------------------\n",
            "Epoch: 55/100\n",
            "Train_Loss: 3049.8740 Train_MAE: 45.0693\n",
            "Test_Loss: 3169.8668 Test_MAE: 44.1472\n",
            "----------------------------------------------------------------------------------------------------\n",
            "Epoch: 56/100\n",
            "Train_Loss: 3119.2189 Train_MAE: 44.6425\n",
            "Test_Loss: 3057.3160 Test_MAE: 43.4300\n",
            "----------------------------------------------------------------------------------------------------\n",
            "Epoch: 57/100\n",
            "Train_Loss: 3030.1659 Train_MAE: 44.0966\n",
            "Test_Loss: 3212.5183 Test_MAE: 44.3794\n",
            "----------------------------------------------------------------------------------------------------\n",
            "Epoch: 58/100\n",
            "Train_Loss: 3034.8821 Train_MAE: 44.3258\n",
            "Test_Loss: 3074.9129 Test_MAE: 43.3951\n",
            "----------------------------------------------------------------------------------------------------\n",
            "Epoch: 59/100\n",
            "Train_Loss: 3062.2516 Train_MAE: 44.5451\n",
            "Test_Loss: 3034.4714 Test_MAE: 43.2191\n",
            "----------------------------------------------------------------------------------------------------\n",
            "Epoch: 60/100\n",
            "Train_Loss: 3139.4270 Train_MAE: 44.8949\n",
            "Test_Loss: 3046.9873 Test_MAE: 43.2163\n",
            "----------------------------------------------------------------------------------------------------\n",
            "Epoch: 61/100\n",
            "Train_Loss: 2944.2724 Train_MAE: 44.0448\n",
            "Test_Loss: 3126.3900 Test_MAE: 43.8019\n",
            "----------------------------------------------------------------------------------------------------\n",
            "Epoch: 62/100\n",
            "Train_Loss: 3083.1424 Train_MAE: 44.9798\n",
            "Test_Loss: 2982.3918 Test_MAE: 42.9241\n",
            "----------------------------------------------------------------------------------------------------\n",
            "Epoch: 63/100\n",
            "Train_Loss: 3097.0623 Train_MAE: 44.6822\n",
            "Test_Loss: 3303.7109 Test_MAE: 45.0367\n",
            "----------------------------------------------------------------------------------------------------\n",
            "Epoch: 64/100\n",
            "Train_Loss: 2962.5164 Train_MAE: 43.2105\n",
            "Test_Loss: 2965.8626 Test_MAE: 42.8553\n",
            "----------------------------------------------------------------------------------------------------\n",
            "Epoch: 65/100\n",
            "Train_Loss: 2932.1001 Train_MAE: 43.4630\n",
            "Test_Loss: 2951.7366 Test_MAE: 42.7636\n",
            "----------------------------------------------------------------------------------------------------\n",
            "Epoch: 66/100\n",
            "Train_Loss: 3024.5688 Train_MAE: 44.1657\n",
            "Test_Loss: 3037.0716 Test_MAE: 43.1959\n",
            "----------------------------------------------------------------------------------------------------\n",
            "Epoch: 67/100\n",
            "Train_Loss: 3078.0232 Train_MAE: 44.6514\n",
            "Test_Loss: 3077.7654 Test_MAE: 43.4627\n",
            "----------------------------------------------------------------------------------------------------\n",
            "Epoch: 68/100\n",
            "Train_Loss: 2874.6668 Train_MAE: 42.5627\n",
            "Test_Loss: 3045.7466 Test_MAE: 43.3541\n",
            "----------------------------------------------------------------------------------------------------\n",
            "Epoch: 69/100\n",
            "Train_Loss: 2898.1281 Train_MAE: 43.1815\n",
            "Test_Loss: 2995.8789 Test_MAE: 43.0471\n",
            "----------------------------------------------------------------------------------------------------\n",
            "Epoch: 70/100\n",
            "Train_Loss: 3135.4151 Train_MAE: 45.1590\n",
            "Test_Loss: 3090.0553 Test_MAE: 43.5304\n",
            "----------------------------------------------------------------------------------------------------\n",
            "Epoch: 71/100\n",
            "Train_Loss: 3072.2731 Train_MAE: 44.0636\n",
            "Test_Loss: 3161.4574 Test_MAE: 44.1124\n",
            "----------------------------------------------------------------------------------------------------\n",
            "Epoch: 72/100\n",
            "Train_Loss: 2982.9822 Train_MAE: 43.5497\n",
            "Test_Loss: 3006.0971 Test_MAE: 43.0524\n",
            "----------------------------------------------------------------------------------------------------\n",
            "Epoch: 73/100\n",
            "Train_Loss: 3008.2612 Train_MAE: 44.1988\n",
            "Test_Loss: 3054.2227 Test_MAE: 43.3568\n",
            "----------------------------------------------------------------------------------------------------\n",
            "Epoch: 74/100\n",
            "Train_Loss: 3011.2890 Train_MAE: 44.3261\n",
            "Test_Loss: 2914.4438 Test_MAE: 42.4004\n",
            "----------------------------------------------------------------------------------------------------\n",
            "Epoch: 75/100\n",
            "Train_Loss: 3055.3441 Train_MAE: 45.2171\n",
            "Test_Loss: 3167.2451 Test_MAE: 44.1438\n",
            "----------------------------------------------------------------------------------------------------\n",
            "Epoch: 76/100\n",
            "Train_Loss: 3032.7873 Train_MAE: 44.4272\n",
            "Test_Loss: 3049.8276 Test_MAE: 43.3986\n",
            "----------------------------------------------------------------------------------------------------\n",
            "Epoch: 77/100\n",
            "Train_Loss: 2917.3293 Train_MAE: 43.9520\n",
            "Test_Loss: 2961.5862 Test_MAE: 42.7612\n",
            "----------------------------------------------------------------------------------------------------\n",
            "Epoch: 78/100\n",
            "Train_Loss: 3122.7236 Train_MAE: 44.4837\n",
            "Test_Loss: 3144.3626 Test_MAE: 43.9983\n",
            "----------------------------------------------------------------------------------------------------\n",
            "Epoch: 79/100\n",
            "Train_Loss: 2946.7268 Train_MAE: 43.4435\n",
            "Test_Loss: 2988.5163 Test_MAE: 43.0874\n",
            "----------------------------------------------------------------------------------------------------\n",
            "Epoch: 80/100\n",
            "Train_Loss: 2983.4202 Train_MAE: 44.0540\n",
            "Test_Loss: 3150.9938 Test_MAE: 43.9777\n",
            "----------------------------------------------------------------------------------------------------\n",
            "Epoch: 81/100\n",
            "Train_Loss: 3109.3149 Train_MAE: 45.5138\n",
            "Test_Loss: 3108.1097 Test_MAE: 43.7398\n",
            "----------------------------------------------------------------------------------------------------\n",
            "Epoch: 82/100\n",
            "Train_Loss: 3125.0430 Train_MAE: 44.7799\n",
            "Test_Loss: 3109.7494 Test_MAE: 43.7443\n",
            "----------------------------------------------------------------------------------------------------\n",
            "Epoch: 83/100\n",
            "Train_Loss: 3135.7731 Train_MAE: 44.9780\n",
            "Test_Loss: 2989.3638 Test_MAE: 42.8243\n",
            "----------------------------------------------------------------------------------------------------\n",
            "Epoch: 84/100\n",
            "Train_Loss: 2925.1318 Train_MAE: 43.7394\n",
            "Test_Loss: 3273.2745 Test_MAE: 44.8465\n",
            "----------------------------------------------------------------------------------------------------\n",
            "Epoch: 85/100\n",
            "Train_Loss: 2995.0313 Train_MAE: 43.5965\n",
            "Test_Loss: 3112.8785 Test_MAE: 43.6666\n",
            "----------------------------------------------------------------------------------------------------\n",
            "Epoch: 86/100\n",
            "Train_Loss: 2948.4396 Train_MAE: 43.3870\n",
            "Test_Loss: 2997.8688 Test_MAE: 42.9553\n",
            "----------------------------------------------------------------------------------------------------\n",
            "Epoch: 87/100\n",
            "Train_Loss: 2921.6085 Train_MAE: 42.8478\n",
            "Test_Loss: 2984.1904 Test_MAE: 42.8524\n",
            "----------------------------------------------------------------------------------------------------\n",
            "Epoch: 88/100\n",
            "Train_Loss: 2942.0074 Train_MAE: 43.9338\n",
            "Test_Loss: 3209.6201 Test_MAE: 44.3753\n",
            "----------------------------------------------------------------------------------------------------\n",
            "Epoch: 89/100\n",
            "Train_Loss: 3007.4697 Train_MAE: 43.7929\n",
            "Test_Loss: 2922.4297 Test_MAE: 42.3436\n",
            "----------------------------------------------------------------------------------------------------\n",
            "Epoch: 90/100\n",
            "Train_Loss: 2996.0790 Train_MAE: 44.5841\n",
            "Test_Loss: 3136.1561 Test_MAE: 43.9178\n",
            "----------------------------------------------------------------------------------------------------\n",
            "Epoch: 91/100\n",
            "Train_Loss: 2930.5962 Train_MAE: 43.2626\n",
            "Test_Loss: 3082.3398 Test_MAE: 43.5241\n",
            "----------------------------------------------------------------------------------------------------\n",
            "Epoch: 92/100\n",
            "Train_Loss: 3059.0140 Train_MAE: 43.9535\n",
            "Test_Loss: 3030.7365 Test_MAE: 43.0646\n",
            "----------------------------------------------------------------------------------------------------\n",
            "Epoch: 93/100\n",
            "Train_Loss: 3032.7199 Train_MAE: 43.9374\n",
            "Test_Loss: 3183.4267 Test_MAE: 44.2442\n",
            "----------------------------------------------------------------------------------------------------\n",
            "Epoch: 94/100\n",
            "Train_Loss: 2885.3850 Train_MAE: 42.5064\n",
            "Test_Loss: 3068.0463 Test_MAE: 43.6553\n",
            "----------------------------------------------------------------------------------------------------\n",
            "Epoch: 95/100\n",
            "Train_Loss: 2935.7791 Train_MAE: 43.1044\n",
            "Test_Loss: 3078.9079 Test_MAE: 43.6654\n",
            "----------------------------------------------------------------------------------------------------\n",
            "Epoch: 96/100\n",
            "Train_Loss: 2969.6202 Train_MAE: 43.4290\n",
            "Test_Loss: 2974.9696 Test_MAE: 42.9667\n",
            "----------------------------------------------------------------------------------------------------\n",
            "Epoch: 97/100\n",
            "Train_Loss: 2874.8143 Train_MAE: 42.5406\n",
            "Test_Loss: 3003.0833 Test_MAE: 43.1473\n",
            "----------------------------------------------------------------------------------------------------\n",
            "Epoch: 98/100\n",
            "Train_Loss: 2909.8084 Train_MAE: 43.0872\n",
            "Test_Loss: 3066.6165 Test_MAE: 43.5030\n",
            "----------------------------------------------------------------------------------------------------\n",
            "Epoch: 99/100\n",
            "Train_Loss: 3109.4477 Train_MAE: 44.7098\n",
            "Test_Loss: 2895.2673 Test_MAE: 42.1717\n",
            "----------------------------------------------------------------------------------------------------\n",
            "Epoch: 100/100\n",
            "Train_Loss: 2914.7821 Train_MAE: 43.2184\n",
            "Test_Loss: 3209.6433 Test_MAE: 44.3688\n"
          ],
          "name": "stdout"
        }
      ]
    },
    {
      "cell_type": "markdown",
      "metadata": {
        "id": "eKEMdP3DTNDT"
      },
      "source": [
        "## Section 3.7 結果の可視化"
      ]
    },
    {
      "cell_type": "code",
      "metadata": {
        "colab": {
          "base_uri": "https://localhost:8080/"
        },
        "id": "y72IO6BkTleJ",
        "outputId": "587363ad-3ccc-4791-ce08-24d2356cb343"
      },
      "source": [
        "len(train_loss_list)"
      ],
      "execution_count": 43,
      "outputs": [
        {
          "output_type": "execute_result",
          "data": {
            "text/plain": [
              "100"
            ]
          },
          "metadata": {
            "tags": []
          },
          "execution_count": 43
        }
      ]
    },
    {
      "cell_type": "code",
      "metadata": {
        "colab": {
          "base_uri": "https://localhost:8080/",
          "height": 295
        },
        "id": "vUcHHqE_SARC",
        "outputId": "c384419c-ba13-420b-b27f-f14ac0592b6e"
      },
      "source": [
        "plt.figure()\n",
        "plt.title('Train and Test Loss')\n",
        "plt.xlabel('Epoch')\n",
        "plt.ylabel('Loss')\n",
        "plt.plot(range(1, epoch + 1), train_loss_list, color=\"blue\", linestyle=\"-\", label=\"Train_Loss\")\n",
        "plt.plot(range(1, epoch + 1), test_loss_list, color=\"red\", linestyle=\"--\", label=\"Test_Loss\")\n",
        "plt.legend()\n",
        "plt.show()"
      ],
      "execution_count": 44,
      "outputs": [
        {
          "output_type": "display_data",
          "data": {
            "image/png": "[encoded data removed]",
            "text/plain": [
              "<Figure size 432x288 with 1 Axes>"
            ]
          },
          "metadata": {
            "tags": [],
            "needs_background": "light"
          }
        }
      ]
    },
    {
      "cell_type": "code",
      "metadata": {
        "colab": {
          "base_uri": "https://localhost:8080/",
          "height": 295
        },
        "id": "NyE3pMd2Ta6S",
        "outputId": "4092eea2-bece-4878-aa2f-326992fc086c"
      },
      "source": [
        "plt.figure()\n",
        "plt.title('Train and Test MAE')\n",
        "plt.xlabel('Epoch')\n",
        "plt.ylabel('MAE')\n",
        "plt.plot(range(1, epoch + 1), train_mae_list, color=\"blue\", linestyle=\"-\", label=\"Train_MAE\")\n",
        "plt.plot(range(1, epoch + 1), test_mae_list, color=\"red\", linestyle=\"--\", label=\"Test_MAE\")\n",
        "plt.legend()\n",
        "plt.show()"
      ],
      "execution_count": 45,
      "outputs": [
        {
          "output_type": "display_data",
          "data": {
            "image/png": "[encoded data removed]",
            "text/plain": [
              "<Figure size 432x288 with 1 Axes>"
            ]
          },
          "metadata": {
            "tags": [],
            "needs_background": "light"
          }
        }
      ]
    },
    {
      "cell_type": "code",
      "metadata": {
        "id": "75eUx1bfUN1u"
      },
      "source": [
        ""
      ],
      "execution_count": 45,
      "outputs": []
    }
  ]
}