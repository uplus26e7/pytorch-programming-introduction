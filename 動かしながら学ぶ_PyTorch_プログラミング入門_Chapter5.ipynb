{
  "nbformat": 4,
  "nbformat_minor": 0,
  "metadata": {
    "colab": {
      "name": "動かしながら学ぶ PyTorch プログラミング入門 Chapter5.ipynb",
      "provenance": [],
      "authorship_tag": "ABX9TyNwZ8JNpG0QXaLtuNGZOE1B",
      "include_colab_link": true
    },
    "kernelspec": {
      "name": "python3",
      "display_name": "Python 3"
    }
  },
  "cells": [
    {
      "cell_type": "markdown",
      "metadata": {
        "id": "view-in-github",
        "colab_type": "text"
      },
      "source": [
        "<a href=\"https://colab.research.google.com/github/uplus26e7/pytorch-programming-introduction/blob/master/%E5%8B%95%E3%81%8B%E3%81%97%E3%81%AA%E3%81%8C%E3%82%89%E5%AD%A6%E3%81%B6_PyTorch_%E3%83%97%E3%83%AD%E3%82%B0%E3%83%A9%E3%83%9F%E3%83%B3%E3%82%B0%E5%85%A5%E9%96%80_Chapter5.ipynb\" target=\"_parent\"><img src=\"https://colab.research.google.com/assets/colab-badge.svg\" alt=\"Open In Colab\"/></a>"
      ]
    },
    {
      "cell_type": "markdown",
      "metadata": {
        "id": "eZoZm0jEBiv5"
      },
      "source": [
        "# Imports"
      ]
    },
    {
      "cell_type": "code",
      "metadata": {
        "id": "ryPiHOs0BdTk"
      },
      "source": [
        "import numpy as np\n",
        "import pandas as pd\n",
        "import matplotlib.pyplot as plt\n",
        "from sklearn.preprocessing import StandardScaler\n",
        "from sklearn.metrics import mean_absolute_error\n",
        "import torch\n",
        "from torch.utils.data import TensorDataset, DataLoader\n",
        "from torch import nn\n",
        "import torch.nn.functional as F\n",
        "from torch import optim"
      ],
      "execution_count": 45,
      "outputs": []
    },
    {
      "cell_type": "markdown",
      "metadata": {
        "id": "Ves9qZtlElNt"
      },
      "source": [
        "# Section 2 株価予測【サンプルコード】"
      ]
    },
    {
      "cell_type": "markdown",
      "metadata": {
        "id": "fuzgAClYExWy"
      },
      "source": [
        "## Section 2.1 訓練データとテストデータの用意"
      ]
    },
    {
      "cell_type": "code",
      "metadata": {
        "colab": {
          "base_uri": "https://localhost:8080/",
          "height": 204
        },
        "id": "7L4xmkDrEPjA",
        "outputId": "16474984-13bf-446a-901f-c4e90ef28063"
      },
      "source": [
        "dataset = pd.read_csv(\"prices.csv\")\n",
        "dataset.head()"
      ],
      "execution_count": 46,
      "outputs": [
        {
          "output_type": "execute_result",
          "data": {
            "text/html": [
              "<div>\n",
              "<style scoped>\n",
              "    .dataframe tbody tr th:only-of-type {\n",
              "        vertical-align: middle;\n",
              "    }\n",
              "\n",
              "    .dataframe tbody tr th {\n",
              "        vertical-align: top;\n",
              "    }\n",
              "\n",
              "    .dataframe thead th {\n",
              "        text-align: right;\n",
              "    }\n",
              "</style>\n",
              "<table border=\"1\" class=\"dataframe\">\n",
              "  <thead>\n",
              "    <tr style=\"text-align: right;\">\n",
              "      <th></th>\n",
              "      <th>date</th>\n",
              "      <th>symbol</th>\n",
              "      <th>open</th>\n",
              "      <th>close</th>\n",
              "      <th>low</th>\n",
              "      <th>high</th>\n",
              "      <th>volume</th>\n",
              "    </tr>\n",
              "  </thead>\n",
              "  <tbody>\n",
              "    <tr>\n",
              "      <th>0</th>\n",
              "      <td>2016-01-05 00:00:00</td>\n",
              "      <td>WLTW</td>\n",
              "      <td>123.430000</td>\n",
              "      <td>125.839996</td>\n",
              "      <td>122.309998</td>\n",
              "      <td>126.250000</td>\n",
              "      <td>2163600.0</td>\n",
              "    </tr>\n",
              "    <tr>\n",
              "      <th>1</th>\n",
              "      <td>2016-01-06 00:00:00</td>\n",
              "      <td>WLTW</td>\n",
              "      <td>125.239998</td>\n",
              "      <td>119.980003</td>\n",
              "      <td>119.940002</td>\n",
              "      <td>125.540001</td>\n",
              "      <td>2386400.0</td>\n",
              "    </tr>\n",
              "    <tr>\n",
              "      <th>2</th>\n",
              "      <td>2016-01-07 00:00:00</td>\n",
              "      <td>WLTW</td>\n",
              "      <td>116.379997</td>\n",
              "      <td>114.949997</td>\n",
              "      <td>114.930000</td>\n",
              "      <td>119.739998</td>\n",
              "      <td>2489500.0</td>\n",
              "    </tr>\n",
              "    <tr>\n",
              "      <th>3</th>\n",
              "      <td>2016-01-08 00:00:00</td>\n",
              "      <td>WLTW</td>\n",
              "      <td>115.480003</td>\n",
              "      <td>116.620003</td>\n",
              "      <td>113.500000</td>\n",
              "      <td>117.440002</td>\n",
              "      <td>2006300.0</td>\n",
              "    </tr>\n",
              "    <tr>\n",
              "      <th>4</th>\n",
              "      <td>2016-01-11 00:00:00</td>\n",
              "      <td>WLTW</td>\n",
              "      <td>117.010002</td>\n",
              "      <td>114.970001</td>\n",
              "      <td>114.089996</td>\n",
              "      <td>117.330002</td>\n",
              "      <td>1408600.0</td>\n",
              "    </tr>\n",
              "  </tbody>\n",
              "</table>\n",
              "</div>"
            ],
            "text/plain": [
              "                  date symbol        open  ...         low        high     volume\n",
              "0  2016-01-05 00:00:00   WLTW  123.430000  ...  122.309998  126.250000  2163600.0\n",
              "1  2016-01-06 00:00:00   WLTW  125.239998  ...  119.940002  125.540001  2386400.0\n",
              "2  2016-01-07 00:00:00   WLTW  116.379997  ...  114.930000  119.739998  2489500.0\n",
              "3  2016-01-08 00:00:00   WLTW  115.480003  ...  113.500000  117.440002  2006300.0\n",
              "4  2016-01-11 00:00:00   WLTW  117.010002  ...  114.089996  117.330002  1408600.0\n",
              "\n",
              "[5 rows x 7 columns]"
            ]
          },
          "metadata": {
            "tags": []
          },
          "execution_count": 46
        }
      ]
    },
    {
      "cell_type": "code",
      "metadata": {
        "colab": {
          "base_uri": "https://localhost:8080/"
        },
        "id": "YUhi4jKME6Gb",
        "outputId": "ff2766e8-816e-4ef2-d324-6da1265734c3"
      },
      "source": [
        "symbols = list(set(dataset.symbol))\n",
        "print(len(symbols))\n",
        "print(symbols)"
      ],
      "execution_count": 47,
      "outputs": [
        {
          "output_type": "stream",
          "text": [
            "501\n",
            "['TDG', 'CBS', 'LLTC', 'XRX', 'PG', 'CTAS', 'SWKS', 'ADBE', 'UDR', 'LKQ', 'PCAR', 'DD', 'LNT', 'D', 'SCHW', 'ZTS', 'CTXS', 'COH', 'VZ', 'MPC', 'FITB', 'RAI', 'HES', 'SRCL', 'TDC', 'MNK', 'LVLT', 'DIS', 'SYK', 'PVH', 'HAR', 'NBL', 'INTC', 'NRG', 'EIX', 'ROK', 'PAYX', 'WAT', 'PLD', 'EOG', 'AIZ', 'LNC', 'XOM', 'ITW', 'DG', 'FFIV', 'KORS', 'APD', 'GD', 'ARNC', 'SYY', 'REGN', 'DVA', 'NEE', 'RCL', 'COTY', 'HRL', 'PXD', 'FTV', 'JEC', 'DLR', 'NOC', 'STI', 'ABC', 'EBAY', 'PNW', 'DGX', 'GWW', 'PPL', 'PRU', 'BWA', 'MU', 'IVZ', 'CMA', 'FCX', 'EA', 'UPS', 'MCHP', 'LYB', 'LH', 'DHR', 'MMM', 'XL', 'BEN', 'HAS', 'SO', 'GOOG', 'ALLE', 'MTD', 'IFF', 'WDC', 'KLAC', 'MJN', 'K', 'URI', 'SNI', 'SIG', 'EQT', 'OXY', 'BMY', 'LRCX', 'CA', 'DISCA', 'HD', 'QRVO', 'MAT', 'SHW', 'IDXX', 'OMC', 'DISCK', 'IP', 'MTB', 'WMT', 'GPS', 'MSFT', 'PFE', 'NAVI', 'ALL', 'UTX', 'COP', 'MRO', 'FBHS', 'AAP', 'CERN', 'ED', 'SPG', 'A', 'SNA', 'AN', 'CSX', 'QCOM', 'COG', 'LLL', 'IR', 'DTE', 'SYF', 'AMAT', 'AWK', 'BAX', 'EQR', 'BSX', 'ABT', 'PCG', 'C', 'SPGI', 'GS', 'INTU', 'NTRS', 'NI', 'FRT', 'JNPR', 'STT', 'XEL', 'PHM', 'STX', 'NUE', 'KR', 'MRK', 'BBY', 'WYN', 'HPQ', 'SJM', 'NFLX', 'AZO', 'WFC', 'APA', 'RF', 'CMCSA', 'FOXA', 'XRAY', 'AMT', 'CRM', 'PRGO', 'FISV', 'TWX', 'HOG', 'GGP', 'MNST', 'MET', 'HCA', 'GPC', 'AEP', 'BCR', 'BLK', 'EXC', 'GOOGL', 'ADSK', 'CMG', 'WHR', 'CPB', 'SPLS', 'LLY', 'FSLR', 'HON', 'CHTR', 'URBN', 'DPS', 'GE', 'ROP', 'HRB', 'TXN', 'RIG', 'NLSN', 'NVDA', 'PBCT', 'NWSA', 'KSS', 'UNM', 'CXO', 'CVX', 'DLPH', 'UAL', 'VFC', 'PH', 'PKI', 'HP', 'MHK', 'SWN', 'FTR', 'HRS', 'ADM', 'UNH', 'HPE', 'HSIC', 'JCI', 'FAST', 'NFX', 'DRI', 'WYNN', 'CBG', 'HOLX', 'ADP', 'MDLZ', 'AYI', 'ES', 'MMC', 'CNC', 'CMS', 'AFL', 'NEM', 'NTAP', 'AMZN', 'EL', 'AMP', 'COL', 'COST', 'ISRG', 'ICE', 'XEC', 'CTL', 'RHI', 'CHK', 'HCP', 'FMC', 'SE', 'GT', 'TXT', 'NKE', 'COO', 'CVS', 'PPG', 'CLX', 'EW', 'IBM', 'VRSN', 'T', 'BAC', 'AON', 'TEL', 'UNP', 'PYPL', 'WY', 'DE', 'ANTM', 'CELG', 'CAT', 'LB', 'MOS', 'DOV', 'AJG', 'ADI', 'NDAQ', 'ALB', 'WFM', 'ALK', 'NWL', 'TMO', 'PDCO', 'ETN', 'CAG', 'PNC', 'AIG', 'FOX', 'SBUX', 'GLW', 'F', 'WLTW', 'MCO', 'GILD', 'YUM', 'AKAM', 'EXPE', 'ROST', 'AET', 'LOW', 'TSCO', 'VRTX', 'KMB', 'RSG', 'LUK', 'MO', 'HUM', 'EFX', 'USB', 'SWK', 'KO', 'CF', 'TMK', 'CTSH', 'VAR', 'NOV', 'MUR', 'PEP', 'RHT', 'LEN', 'DLTR', 'VNO', 'STZ', 'FIS', 'JNJ', 'ZBH', 'AGN', 'MYL', 'SEE', 'SRE', 'KSU', 'VRSK', 'CB', 'TRIP', 'APC', 'RRC', 'PX', 'HCN', 'BIIB', 'CHD', 'TGNA', 'MAR', 'R', 'MAS', 'WRK', 'GRMN', 'BHI', 'MON', 'FDX', 'ABBV', 'ESRX', 'WEC', 'CFG', 'SLG', 'MLM', 'KIM', 'M', 'FTI', 'TAP', 'MSI', 'TSO', 'ADS', 'AVGO', 'DHI', 'UAA', 'TRV', 'ESS', 'CSRA', 'AES', 'EVHC', 'O', 'EMN', 'XYL', 'AVB', 'ECL', 'DVN', 'DUK', 'RL', 'LEG', 'EMR', 'SLB', 'FLS', 'FLIR', 'ETFC', 'DFS', 'PSX', 'LMT', 'HST', 'UHS', 'V', 'TIF', 'HIG', 'PWR', 'CL', 'BXP', 'LUV', 'PCLN', 'PM', 'ETR', 'IRM', 'JBHT', 'RTN', 'PNR', 'VMC', 'ACN', 'PEG', 'EQIX', 'MAA', 'DNB', 'TSS', 'FL', 'PFG', 'EXPD', 'ILMN', 'SYMC', 'COF', 'YHOO', 'BBBY', 'CHRW', 'ORLY', 'FB', 'JPM', 'PSA', 'MCD', 'HSY', 'MDT', 'MCK', 'AEE', 'CME', 'ZION', 'L', 'PGR', 'HBAN', 'IPG', 'OKE', 'PBI', 'KMX', 'AMG', 'VTR', 'BA', 'AIV', 'HBI', 'CI', 'KMI', 'CAH', 'ATVI', 'GIS', 'ULTA', 'ENDP', 'KEY', 'CCL', 'DOW', 'MA', 'JWN', 'KHC', 'BLL', 'FE', 'AVY', 'AXP', 'VLO', 'AME', 'BDX', 'AAL', 'ORCL', 'HAL', 'CINF', 'WM', 'APH', 'NWS', 'SCG', 'GPN', 'AMGN', 'AAPL', 'BBT', 'MAC', 'WBA', 'MKC', 'TROW', 'TJX', 'EXR', 'WU', 'FLR', 'ALXN', 'CSCO', 'TSN', 'CCI', 'WMB', 'VIAB', 'NSC', 'XLNX', 'BK', 'TGT', 'CMI', 'GM', 'DAL', 'CNP']\n"
          ],
          "name": "stdout"
        }
      ]
    },
    {
      "cell_type": "code",
      "metadata": {
        "colab": {
          "base_uri": "https://localhost:8080/",
          "height": 204
        },
        "id": "UC_hq-J7FPWV",
        "outputId": "8f97fafb-7847-49b6-a57e-1765fad8bd96"
      },
      "source": [
        "dataset = dataset[dataset[\"symbol\"] == \"YHOO\"]\n",
        "dataset.head()"
      ],
      "execution_count": 48,
      "outputs": [
        {
          "output_type": "execute_result",
          "data": {
            "text/html": [
              "<div>\n",
              "<style scoped>\n",
              "    .dataframe tbody tr th:only-of-type {\n",
              "        vertical-align: middle;\n",
              "    }\n",
              "\n",
              "    .dataframe tbody tr th {\n",
              "        vertical-align: top;\n",
              "    }\n",
              "\n",
              "    .dataframe thead th {\n",
              "        text-align: right;\n",
              "    }\n",
              "</style>\n",
              "<table border=\"1\" class=\"dataframe\">\n",
              "  <thead>\n",
              "    <tr style=\"text-align: right;\">\n",
              "      <th></th>\n",
              "      <th>date</th>\n",
              "      <th>symbol</th>\n",
              "      <th>open</th>\n",
              "      <th>close</th>\n",
              "      <th>low</th>\n",
              "      <th>high</th>\n",
              "      <th>volume</th>\n",
              "    </tr>\n",
              "  </thead>\n",
              "  <tbody>\n",
              "    <tr>\n",
              "      <th>713</th>\n",
              "      <td>2010-01-04</td>\n",
              "      <td>YHOO</td>\n",
              "      <td>16.940001</td>\n",
              "      <td>17.100000</td>\n",
              "      <td>16.879999</td>\n",
              "      <td>17.200001</td>\n",
              "      <td>16587400.0</td>\n",
              "    </tr>\n",
              "    <tr>\n",
              "      <th>1181</th>\n",
              "      <td>2010-01-05</td>\n",
              "      <td>YHOO</td>\n",
              "      <td>17.219999</td>\n",
              "      <td>17.230000</td>\n",
              "      <td>17.000000</td>\n",
              "      <td>17.230000</td>\n",
              "      <td>11718100.0</td>\n",
              "    </tr>\n",
              "    <tr>\n",
              "      <th>1649</th>\n",
              "      <td>2010-01-06</td>\n",
              "      <td>YHOO</td>\n",
              "      <td>17.170000</td>\n",
              "      <td>17.170000</td>\n",
              "      <td>17.070000</td>\n",
              "      <td>17.299999</td>\n",
              "      <td>16422000.0</td>\n",
              "    </tr>\n",
              "    <tr>\n",
              "      <th>2117</th>\n",
              "      <td>2010-01-07</td>\n",
              "      <td>YHOO</td>\n",
              "      <td>16.809999</td>\n",
              "      <td>16.700001</td>\n",
              "      <td>16.570000</td>\n",
              "      <td>16.900000</td>\n",
              "      <td>31816300.0</td>\n",
              "    </tr>\n",
              "    <tr>\n",
              "      <th>2585</th>\n",
              "      <td>2010-01-08</td>\n",
              "      <td>YHOO</td>\n",
              "      <td>16.680000</td>\n",
              "      <td>16.700001</td>\n",
              "      <td>16.620001</td>\n",
              "      <td>16.760000</td>\n",
              "      <td>15470000.0</td>\n",
              "    </tr>\n",
              "  </tbody>\n",
              "</table>\n",
              "</div>"
            ],
            "text/plain": [
              "            date symbol       open      close        low       high      volume\n",
              "713   2010-01-04   YHOO  16.940001  17.100000  16.879999  17.200001  16587400.0\n",
              "1181  2010-01-05   YHOO  17.219999  17.230000  17.000000  17.230000  11718100.0\n",
              "1649  2010-01-06   YHOO  17.170000  17.170000  17.070000  17.299999  16422000.0\n",
              "2117  2010-01-07   YHOO  16.809999  16.700001  16.570000  16.900000  31816300.0\n",
              "2585  2010-01-08   YHOO  16.680000  16.700001  16.620001  16.760000  15470000.0"
            ]
          },
          "metadata": {
            "tags": []
          },
          "execution_count": 48
        }
      ]
    },
    {
      "cell_type": "code",
      "metadata": {
        "colab": {
          "base_uri": "https://localhost:8080/",
          "height": 204
        },
        "id": "NQ7Su0aZFndz",
        "outputId": "f1a71cce-9f1b-4ab3-e15f-a3ee315c30cd"
      },
      "source": [
        "dataset = dataset.drop([\"open\", \"low\", \"high\", \"volume\"], axis=1)\n",
        "dataset.head()"
      ],
      "execution_count": 49,
      "outputs": [
        {
          "output_type": "execute_result",
          "data": {
            "text/html": [
              "<div>\n",
              "<style scoped>\n",
              "    .dataframe tbody tr th:only-of-type {\n",
              "        vertical-align: middle;\n",
              "    }\n",
              "\n",
              "    .dataframe tbody tr th {\n",
              "        vertical-align: top;\n",
              "    }\n",
              "\n",
              "    .dataframe thead th {\n",
              "        text-align: right;\n",
              "    }\n",
              "</style>\n",
              "<table border=\"1\" class=\"dataframe\">\n",
              "  <thead>\n",
              "    <tr style=\"text-align: right;\">\n",
              "      <th></th>\n",
              "      <th>date</th>\n",
              "      <th>symbol</th>\n",
              "      <th>close</th>\n",
              "    </tr>\n",
              "  </thead>\n",
              "  <tbody>\n",
              "    <tr>\n",
              "      <th>713</th>\n",
              "      <td>2010-01-04</td>\n",
              "      <td>YHOO</td>\n",
              "      <td>17.100000</td>\n",
              "    </tr>\n",
              "    <tr>\n",
              "      <th>1181</th>\n",
              "      <td>2010-01-05</td>\n",
              "      <td>YHOO</td>\n",
              "      <td>17.230000</td>\n",
              "    </tr>\n",
              "    <tr>\n",
              "      <th>1649</th>\n",
              "      <td>2010-01-06</td>\n",
              "      <td>YHOO</td>\n",
              "      <td>17.170000</td>\n",
              "    </tr>\n",
              "    <tr>\n",
              "      <th>2117</th>\n",
              "      <td>2010-01-07</td>\n",
              "      <td>YHOO</td>\n",
              "      <td>16.700001</td>\n",
              "    </tr>\n",
              "    <tr>\n",
              "      <th>2585</th>\n",
              "      <td>2010-01-08</td>\n",
              "      <td>YHOO</td>\n",
              "      <td>16.700001</td>\n",
              "    </tr>\n",
              "  </tbody>\n",
              "</table>\n",
              "</div>"
            ],
            "text/plain": [
              "            date symbol      close\n",
              "713   2010-01-04   YHOO  17.100000\n",
              "1181  2010-01-05   YHOO  17.230000\n",
              "1649  2010-01-06   YHOO  17.170000\n",
              "2117  2010-01-07   YHOO  16.700001\n",
              "2585  2010-01-08   YHOO  16.700001"
            ]
          },
          "metadata": {
            "tags": []
          },
          "execution_count": 49
        }
      ]
    },
    {
      "cell_type": "code",
      "metadata": {
        "colab": {
          "base_uri": "https://localhost:8080/",
          "height": 204
        },
        "id": "vwhRnpctF1dV",
        "outputId": "95380039-0be4-4b49-c084-d389c09db2a1"
      },
      "source": [
        "dataset[\"25MA\"] = dataset[\"close\"].rolling(window=25, min_periods=0).mean()\n",
        "dataset.head()"
      ],
      "execution_count": 50,
      "outputs": [
        {
          "output_type": "execute_result",
          "data": {
            "text/html": [
              "<div>\n",
              "<style scoped>\n",
              "    .dataframe tbody tr th:only-of-type {\n",
              "        vertical-align: middle;\n",
              "    }\n",
              "\n",
              "    .dataframe tbody tr th {\n",
              "        vertical-align: top;\n",
              "    }\n",
              "\n",
              "    .dataframe thead th {\n",
              "        text-align: right;\n",
              "    }\n",
              "</style>\n",
              "<table border=\"1\" class=\"dataframe\">\n",
              "  <thead>\n",
              "    <tr style=\"text-align: right;\">\n",
              "      <th></th>\n",
              "      <th>date</th>\n",
              "      <th>symbol</th>\n",
              "      <th>close</th>\n",
              "      <th>25MA</th>\n",
              "    </tr>\n",
              "  </thead>\n",
              "  <tbody>\n",
              "    <tr>\n",
              "      <th>713</th>\n",
              "      <td>2010-01-04</td>\n",
              "      <td>YHOO</td>\n",
              "      <td>17.100000</td>\n",
              "      <td>17.100000</td>\n",
              "    </tr>\n",
              "    <tr>\n",
              "      <th>1181</th>\n",
              "      <td>2010-01-05</td>\n",
              "      <td>YHOO</td>\n",
              "      <td>17.230000</td>\n",
              "      <td>17.165000</td>\n",
              "    </tr>\n",
              "    <tr>\n",
              "      <th>1649</th>\n",
              "      <td>2010-01-06</td>\n",
              "      <td>YHOO</td>\n",
              "      <td>17.170000</td>\n",
              "      <td>17.166667</td>\n",
              "    </tr>\n",
              "    <tr>\n",
              "      <th>2117</th>\n",
              "      <td>2010-01-07</td>\n",
              "      <td>YHOO</td>\n",
              "      <td>16.700001</td>\n",
              "      <td>17.050000</td>\n",
              "    </tr>\n",
              "    <tr>\n",
              "      <th>2585</th>\n",
              "      <td>2010-01-08</td>\n",
              "      <td>YHOO</td>\n",
              "      <td>16.700001</td>\n",
              "      <td>16.980000</td>\n",
              "    </tr>\n",
              "  </tbody>\n",
              "</table>\n",
              "</div>"
            ],
            "text/plain": [
              "            date symbol      close       25MA\n",
              "713   2010-01-04   YHOO  17.100000  17.100000\n",
              "1181  2010-01-05   YHOO  17.230000  17.165000\n",
              "1649  2010-01-06   YHOO  17.170000  17.166667\n",
              "2117  2010-01-07   YHOO  16.700001  17.050000\n",
              "2585  2010-01-08   YHOO  16.700001  16.980000"
            ]
          },
          "metadata": {
            "tags": []
          },
          "execution_count": 50
        }
      ]
    },
    {
      "cell_type": "code",
      "metadata": {
        "colab": {
          "base_uri": "https://localhost:8080/"
        },
        "id": "YgI7RaHEGERv",
        "outputId": "3b964791-49cc-4a02-9866-51a3a998dc2d"
      },
      "source": [
        "print(dataset[\"date\"].dtype)\n",
        "dataset[\"date\"] = pd.to_datetime(dataset[\"date\"])\n",
        "print(dataset[\"date\"].dtype)"
      ],
      "execution_count": 51,
      "outputs": [
        {
          "output_type": "stream",
          "text": [
            "object\n",
            "datetime64[ns]\n"
          ],
          "name": "stdout"
        }
      ]
    },
    {
      "cell_type": "code",
      "metadata": {
        "colab": {
          "base_uri": "https://localhost:8080/",
          "height": 295
        },
        "id": "tQflZC_ZGss_",
        "outputId": "21cf1f7c-c6f2-465c-fb59-af5fa652357e"
      },
      "source": [
        "plt.figure()\n",
        "plt.title(\"YHOO stock price\")\n",
        "plt.xlabel(\"Date\")\n",
        "plt.ylabel(\"Stock Price\")\n",
        "plt.plot(dataset[\"date\"], dataset[\"close\"], color=\"black\", linestyle=\"-\", label=\"close\")\n",
        "plt.plot(dataset[\"date\"], dataset[\"25MA\"], color=\"dodgerblue\", linestyle=\"--\", label=\"25MA\")\n",
        "plt.legend()\n",
        "plt.show()"
      ],
      "execution_count": 52,
      "outputs": [
        {
          "output_type": "display_data",
          "data": {
            "image/png": "[encoded data removed]",
            "text/plain": [
              "<Figure size 432x288 with 1 Axes>"
            ]
          },
          "metadata": {
            "tags": [],
            "needs_background": "light"
          }
        }
      ]
    },
    {
      "cell_type": "code",
      "metadata": {
        "colab": {
          "base_uri": "https://localhost:8080/"
        },
        "id": "5exe2se1HQmm",
        "outputId": "c7436f5b-d24e-4e15-fafc-afaa679096e6"
      },
      "source": [
        "ma = dataset[\"25MA\"].values.reshape(-1, 1)\n",
        "scaler = StandardScaler()\n",
        "ma_std = scaler.fit_transform(ma)\n",
        "print(f\"ma: {ma[:10]}\")\n",
        "print(f\"ma_std: {ma_std[:10]}\")"
      ],
      "execution_count": 53,
      "outputs": [
        {
          "output_type": "stream",
          "text": [
            "ma: [[17.1       ]\n",
            " [17.165     ]\n",
            " [17.16666667]\n",
            " [17.05000025]\n",
            " [16.9800004 ]\n",
            " [16.94000033]\n",
            " [16.90285743]\n",
            " [16.90250025]\n",
            " [16.926667  ]\n",
            " [16.9160003 ]]\n",
            "ma_std: [[-0.88504099]\n",
            " [-0.87931043]\n",
            " [-0.8791635 ]\n",
            " [-0.88944909]\n",
            " [-0.89562044]\n",
            " [-0.89914695]\n",
            " [-0.90242155]\n",
            " [-0.90245304]\n",
            " [-0.90032244]\n",
            " [-0.90126285]]\n"
          ],
          "name": "stdout"
        }
      ]
    },
    {
      "cell_type": "code",
      "metadata": {
        "colab": {
          "base_uri": "https://localhost:8080/"
        },
        "id": "bRP_4QJpHmf8",
        "outputId": "abdf9a2e-1f53-4591-8625-ed0e5c63f60c"
      },
      "source": [
        "data = []\n",
        "label = []\n",
        "\n",
        "for i in range(len(ma_std) - 25):\n",
        "  data.append(ma_std[i:i + 25])\n",
        "  label.append(ma_std[i + 25])\n",
        "\n",
        "data = np.array(data)\n",
        "label = np.array(label)\n",
        "\n",
        "data.shape, label.shape"
      ],
      "execution_count": 54,
      "outputs": [
        {
          "output_type": "execute_result",
          "data": {
            "text/plain": [
              "((1737, 25, 1), (1737, 1))"
            ]
          },
          "metadata": {
            "tags": []
          },
          "execution_count": 54
        }
      ]
    },
    {
      "cell_type": "code",
      "metadata": {
        "colab": {
          "base_uri": "https://localhost:8080/"
        },
        "id": "3yzpmF1PIX8Q",
        "outputId": "f8717378-eee9-4b73-9b3b-988fa12ea943"
      },
      "source": [
        "test_len = int(252)\n",
        "train_len = int(data.shape[0] - test_len)\n",
        "\n",
        "train_data = data[:train_len]\n",
        "train_label = label[:train_len]\n",
        "test_data = data[train_len:]\n",
        "test_label = data[train_len:]\n",
        "\n",
        "train_data.shape, test_data.shape, train_label.shape, test_label.shape"
      ],
      "execution_count": 55,
      "outputs": [
        {
          "output_type": "execute_result",
          "data": {
            "text/plain": [
              "((1485, 25, 1), (252, 25, 1), (1485, 1), (252, 25, 1))"
            ]
          },
          "metadata": {
            "tags": []
          },
          "execution_count": 55
        }
      ]
    },
    {
      "cell_type": "code",
      "metadata": {
        "id": "VxEH9dLlJEGD"
      },
      "source": [
        "train_x = torch.Tensor(train_data)\n",
        "test_x = torch.Tensor(test_data)\n",
        "train_y = torch.Tensor(train_label)\n",
        "test_y = torch.Tensor(test_label)"
      ],
      "execution_count": 56,
      "outputs": []
    },
    {
      "cell_type": "code",
      "metadata": {
        "colab": {
          "base_uri": "https://localhost:8080/"
        },
        "id": "6S80YSx_JWkM",
        "outputId": "1241b4e3-7550-4820-c6c0-10630f9236a3"
      },
      "source": [
        "train_dataset = TensorDataset(train_x, train_y)\n",
        "test_dataset = TensorDataset(test_x, test_y)\n",
        "\n",
        "train_batch = DataLoader(\n",
        "    dataset=train_dataset,\n",
        "    batch_size=128,\n",
        "    shuffle=True,\n",
        "    num_workers=2\n",
        ")\n",
        "\n",
        "test_batch = DataLoader(\n",
        "    dataset=test_dataset,\n",
        "    batch_size=128,\n",
        "    shuffle=False,\n",
        "    num_workers=2\n",
        ")\n",
        "\n",
        "for data, label in train_batch:\n",
        "  print(f\"batch data size: {data.size()}\")\n",
        "  print(f\"batch label size: {label.size()}\")\n",
        "  break"
      ],
      "execution_count": 57,
      "outputs": [
        {
          "output_type": "stream",
          "text": [
            "batch data size: torch.Size([128, 25, 1])\n",
            "batch label size: torch.Size([128, 1])\n"
          ],
          "name": "stdout"
        }
      ]
    },
    {
      "cell_type": "markdown",
      "metadata": {
        "id": "99-_u_RfKO5O"
      },
      "source": [
        "## Section 2.3 ニューラルネットワークの定義"
      ]
    },
    {
      "cell_type": "code",
      "metadata": {
        "id": "iLXdlGOAJ7Ts"
      },
      "source": [
        "class Net(nn.Module):\n",
        "    def __init__(self, D_in, H, D_out):\n",
        "        super(Net, self).__init__()\n",
        "        self.lstm = nn.LSTM(D_in, H, batch_first=True,\n",
        "                            num_layers=1)\n",
        "        self.linear = nn.Linear(H, D_out)\n",
        "\n",
        "    def forward(self, x):\n",
        "        output, (hidden, cell) = self.lstm(x)\n",
        "        output = self.linear(output[:, -1, :])  # 最後のステップのみを入力\n",
        "        return output"
      ],
      "execution_count": 77,
      "outputs": []
    },
    {
      "cell_type": "code",
      "metadata": {
        "id": "vEpHnOzlKzKD"
      },
      "source": [
        "D_in = 1\n",
        "H = 200\n",
        "D_out = 1\n",
        "epoch = 100"
      ],
      "execution_count": 78,
      "outputs": []
    },
    {
      "cell_type": "code",
      "metadata": {
        "colab": {
          "base_uri": "https://localhost:8080/"
        },
        "id": "plNeQobfK59K",
        "outputId": "680f2abf-866c-4fe9-d9e7-c13cc58232c3"
      },
      "source": [
        "device = torch.device(\"cuda\" if torch.cuda.is_available() else \"cpu\")\n",
        "device"
      ],
      "execution_count": 79,
      "outputs": [
        {
          "output_type": "execute_result",
          "data": {
            "text/plain": [
              "device(type='cpu')"
            ]
          },
          "metadata": {
            "tags": []
          },
          "execution_count": 79
        }
      ]
    },
    {
      "cell_type": "code",
      "metadata": {
        "colab": {
          "base_uri": "https://localhost:8080/"
        },
        "id": "em5GEW7iPL3u",
        "outputId": "8222cca0-d0d9-4edb-ecf4-1e031404bf3b"
      },
      "source": [
        "net = Net(D_in, H, D_out).to(device)\n",
        "net"
      ],
      "execution_count": 80,
      "outputs": [
        {
          "output_type": "execute_result",
          "data": {
            "text/plain": [
              "Net(\n",
              "  (lstm): LSTM(1, 200, batch_first=True)\n",
              "  (linear): Linear(in_features=200, out_features=1, bias=True)\n",
              ")"
            ]
          },
          "metadata": {
            "tags": []
          },
          "execution_count": 80
        }
      ]
    },
    {
      "cell_type": "markdown",
      "metadata": {
        "id": "nGbMXIZTPSWD"
      },
      "source": [
        "## Section 2.4 損失関数と最適化関数の定義"
      ]
    },
    {
      "cell_type": "code",
      "metadata": {
        "id": "pF-0XLHrLCP2"
      },
      "source": [
        "criterion = nn.MSELoss()\n",
        "optimizer = optim.Adam(net.parameters())"
      ],
      "execution_count": 81,
      "outputs": []
    },
    {
      "cell_type": "markdown",
      "metadata": {
        "id": "IBX9S8dMPWIj"
      },
      "source": [
        "## Section 2.5 学習"
      ]
    },
    {
      "cell_type": "code",
      "metadata": {
        "colab": {
          "base_uri": "https://localhost:8080/"
        },
        "id": "XwB3afUIPQ9-",
        "outputId": "585ad937-b80f-4e48-cf6d-8124e588459f"
      },
      "source": [
        "train_loss_list = []\n",
        "test_loss_list = []\n",
        "\n",
        "for i in range(epoch):\n",
        "  print(\"-\" * 100)\n",
        "  print(f\"Epoch: {i + 1}/{epoch}\")\n",
        "\n",
        "  train_loss = 0\n",
        "  test_loss = 0\n",
        "\n",
        "  # train part\n",
        "  net.train()\n",
        "  for data, label in train_batch:\n",
        "    data = data.to(device)\n",
        "    label = label.to(device)\n",
        "\n",
        "    optimizer.zero_grad()\n",
        "    y_pred = net(data)\n",
        "    loss = criterion(y_pred, label)\n",
        "    loss.backward()\n",
        "    optimizer.step()\n",
        "    \n",
        "    train_loss += loss.item()\n",
        "  batch_train_loss = train_loss / len(train_batch)\n",
        "\n",
        "  # eval part\n",
        "  net.eval()\n",
        "  with torch.no_grad():\n",
        "    for data, label in test_batch:\n",
        "      data = data.to(device)\n",
        "      label = data.to(device)\n",
        "      \n",
        "      y_pred = net(data)\n",
        "      loss = criterion(y_pred.view(1, -1), label)\n",
        "      test_loss += loss.item()\n",
        "  batch_test_loss = test_loss / len(test_batch)\n",
        "\n",
        "  print(f\"Train_Loss: {batch_train_loss:.2E}\")\n",
        "  print(f\"Test_Loss: {batch_test_loss:.2E}\")\n",
        "\n",
        "  train_loss_list.append(batch_train_loss)\n",
        "  test_loss_list.append(batch_test_loss)"
      ],
      "execution_count": 82,
      "outputs": [
        {
          "output_type": "stream",
          "text": [
            "----------------------------------------------------------------------------------------------------\n",
            "Epoch: 1/100\n",
            "Train_Loss: 7.20E-01\n",
            "Test_Loss: 3.86E-01\n",
            "----------------------------------------------------------------------------------------------------\n",
            "Epoch: 2/100\n"
          ],
          "name": "stdout"
        },
        {
          "output_type": "stream",
          "text": [
            "/usr/local/lib/python3.6/dist-packages/torch/nn/modules/loss.py:446: UserWarning: Using a target size (torch.Size([128, 25, 1])) that is different to the input size (torch.Size([1, 128])). This will likely lead to incorrect results due to broadcasting. Please ensure they have the same size.\n",
            "  return F.mse_loss(input, target, reduction=self.reduction)\n",
            "/usr/local/lib/python3.6/dist-packages/torch/nn/modules/loss.py:446: UserWarning: Using a target size (torch.Size([124, 25, 1])) that is different to the input size (torch.Size([1, 124])). This will likely lead to incorrect results due to broadcasting. Please ensure they have the same size.\n",
            "  return F.mse_loss(input, target, reduction=self.reduction)\n"
          ],
          "name": "stderr"
        },
        {
          "output_type": "stream",
          "text": [
            "Train_Loss: 9.91E-02\n",
            "Test_Loss: 9.39E-02\n",
            "----------------------------------------------------------------------------------------------------\n",
            "Epoch: 3/100\n",
            "Train_Loss: 2.57E-02\n",
            "Test_Loss: 9.98E-02\n",
            "----------------------------------------------------------------------------------------------------\n",
            "Epoch: 4/100\n",
            "Train_Loss: 1.75E-02\n",
            "Test_Loss: 1.02E-01\n",
            "----------------------------------------------------------------------------------------------------\n",
            "Epoch: 5/100\n",
            "Train_Loss: 1.11E-02\n",
            "Test_Loss: 1.05E-01\n",
            "----------------------------------------------------------------------------------------------------\n",
            "Epoch: 6/100\n",
            "Train_Loss: 7.11E-03\n",
            "Test_Loss: 9.92E-02\n",
            "----------------------------------------------------------------------------------------------------\n",
            "Epoch: 7/100\n",
            "Train_Loss: 5.25E-03\n",
            "Test_Loss: 1.00E-01\n",
            "----------------------------------------------------------------------------------------------------\n",
            "Epoch: 8/100\n",
            "Train_Loss: 4.02E-03\n",
            "Test_Loss: 1.00E-01\n",
            "----------------------------------------------------------------------------------------------------\n",
            "Epoch: 9/100\n",
            "Train_Loss: 3.04E-03\n",
            "Test_Loss: 1.04E-01\n",
            "----------------------------------------------------------------------------------------------------\n",
            "Epoch: 10/100\n",
            "Train_Loss: 2.68E-03\n",
            "Test_Loss: 1.01E-01\n",
            "----------------------------------------------------------------------------------------------------\n",
            "Epoch: 11/100\n",
            "Train_Loss: 2.25E-03\n",
            "Test_Loss: 9.49E-02\n",
            "----------------------------------------------------------------------------------------------------\n",
            "Epoch: 12/100\n",
            "Train_Loss: 2.12E-03\n",
            "Test_Loss: 9.97E-02\n",
            "----------------------------------------------------------------------------------------------------\n",
            "Epoch: 13/100\n",
            "Train_Loss: 1.76E-03\n",
            "Test_Loss: 9.73E-02\n",
            "----------------------------------------------------------------------------------------------------\n",
            "Epoch: 14/100\n",
            "Train_Loss: 1.64E-03\n",
            "Test_Loss: 1.03E-01\n",
            "----------------------------------------------------------------------------------------------------\n",
            "Epoch: 15/100\n",
            "Train_Loss: 1.46E-03\n",
            "Test_Loss: 9.97E-02\n",
            "----------------------------------------------------------------------------------------------------\n",
            "Epoch: 16/100\n",
            "Train_Loss: 1.21E-03\n",
            "Test_Loss: 9.89E-02\n",
            "----------------------------------------------------------------------------------------------------\n",
            "Epoch: 17/100\n",
            "Train_Loss: 1.14E-03\n",
            "Test_Loss: 9.96E-02\n",
            "----------------------------------------------------------------------------------------------------\n",
            "Epoch: 18/100\n",
            "Train_Loss: 1.12E-03\n",
            "Test_Loss: 1.02E-01\n",
            "----------------------------------------------------------------------------------------------------\n",
            "Epoch: 19/100\n",
            "Train_Loss: 1.13E-03\n",
            "Test_Loss: 1.03E-01\n",
            "----------------------------------------------------------------------------------------------------\n",
            "Epoch: 20/100\n",
            "Train_Loss: 1.17E-03\n",
            "Test_Loss: 1.06E-01\n",
            "----------------------------------------------------------------------------------------------------\n",
            "Epoch: 21/100\n",
            "Train_Loss: 1.35E-03\n",
            "Test_Loss: 1.04E-01\n",
            "----------------------------------------------------------------------------------------------------\n",
            "Epoch: 22/100\n",
            "Train_Loss: 1.10E-03\n",
            "Test_Loss: 1.00E-01\n",
            "----------------------------------------------------------------------------------------------------\n",
            "Epoch: 23/100\n",
            "Train_Loss: 1.03E-03\n",
            "Test_Loss: 9.98E-02\n",
            "----------------------------------------------------------------------------------------------------\n",
            "Epoch: 24/100\n",
            "Train_Loss: 8.73E-04\n",
            "Test_Loss: 9.99E-02\n",
            "----------------------------------------------------------------------------------------------------\n",
            "Epoch: 25/100\n",
            "Train_Loss: 8.34E-04\n",
            "Test_Loss: 1.01E-01\n",
            "----------------------------------------------------------------------------------------------------\n",
            "Epoch: 26/100\n",
            "Train_Loss: 7.95E-04\n",
            "Test_Loss: 1.04E-01\n",
            "----------------------------------------------------------------------------------------------------\n",
            "Epoch: 27/100\n",
            "Train_Loss: 7.85E-04\n",
            "Test_Loss: 1.04E-01\n",
            "----------------------------------------------------------------------------------------------------\n",
            "Epoch: 28/100\n",
            "Train_Loss: 7.60E-04\n",
            "Test_Loss: 1.02E-01\n",
            "----------------------------------------------------------------------------------------------------\n",
            "Epoch: 29/100\n",
            "Train_Loss: 7.15E-04\n",
            "Test_Loss: 1.02E-01\n",
            "----------------------------------------------------------------------------------------------------\n",
            "Epoch: 30/100\n",
            "Train_Loss: 6.43E-04\n",
            "Test_Loss: 1.03E-01\n",
            "----------------------------------------------------------------------------------------------------\n",
            "Epoch: 31/100\n",
            "Train_Loss: 6.28E-04\n",
            "Test_Loss: 1.03E-01\n",
            "----------------------------------------------------------------------------------------------------\n",
            "Epoch: 32/100\n",
            "Train_Loss: 6.40E-04\n",
            "Test_Loss: 1.01E-01\n",
            "----------------------------------------------------------------------------------------------------\n",
            "Epoch: 33/100\n",
            "Train_Loss: 6.64E-04\n",
            "Test_Loss: 1.04E-01\n",
            "----------------------------------------------------------------------------------------------------\n",
            "Epoch: 34/100\n",
            "Train_Loss: 6.54E-04\n",
            "Test_Loss: 1.04E-01\n",
            "----------------------------------------------------------------------------------------------------\n",
            "Epoch: 35/100\n",
            "Train_Loss: 6.26E-04\n",
            "Test_Loss: 1.02E-01\n",
            "----------------------------------------------------------------------------------------------------\n",
            "Epoch: 36/100\n",
            "Train_Loss: 5.77E-04\n",
            "Test_Loss: 1.03E-01\n",
            "----------------------------------------------------------------------------------------------------\n",
            "Epoch: 37/100\n",
            "Train_Loss: 5.66E-04\n",
            "Test_Loss: 1.02E-01\n",
            "----------------------------------------------------------------------------------------------------\n",
            "Epoch: 38/100\n",
            "Train_Loss: 5.70E-04\n",
            "Test_Loss: 1.02E-01\n",
            "----------------------------------------------------------------------------------------------------\n",
            "Epoch: 39/100\n",
            "Train_Loss: 5.82E-04\n",
            "Test_Loss: 1.02E-01\n",
            "----------------------------------------------------------------------------------------------------\n",
            "Epoch: 40/100\n",
            "Train_Loss: 5.50E-04\n",
            "Test_Loss: 1.02E-01\n",
            "----------------------------------------------------------------------------------------------------\n",
            "Epoch: 41/100\n",
            "Train_Loss: 5.23E-04\n",
            "Test_Loss: 1.03E-01\n",
            "----------------------------------------------------------------------------------------------------\n",
            "Epoch: 42/100\n",
            "Train_Loss: 5.52E-04\n",
            "Test_Loss: 1.03E-01\n",
            "----------------------------------------------------------------------------------------------------\n",
            "Epoch: 43/100\n",
            "Train_Loss: 5.30E-04\n",
            "Test_Loss: 1.02E-01\n",
            "----------------------------------------------------------------------------------------------------\n",
            "Epoch: 44/100\n",
            "Train_Loss: 5.08E-04\n",
            "Test_Loss: 1.02E-01\n",
            "----------------------------------------------------------------------------------------------------\n",
            "Epoch: 45/100\n",
            "Train_Loss: 5.03E-04\n",
            "Test_Loss: 1.04E-01\n",
            "----------------------------------------------------------------------------------------------------\n",
            "Epoch: 46/100\n",
            "Train_Loss: 5.14E-04\n",
            "Test_Loss: 1.03E-01\n",
            "----------------------------------------------------------------------------------------------------\n",
            "Epoch: 47/100\n",
            "Train_Loss: 4.91E-04\n",
            "Test_Loss: 1.02E-01\n",
            "----------------------------------------------------------------------------------------------------\n",
            "Epoch: 48/100\n",
            "Train_Loss: 5.01E-04\n",
            "Test_Loss: 1.02E-01\n",
            "----------------------------------------------------------------------------------------------------\n",
            "Epoch: 49/100\n",
            "Train_Loss: 5.23E-04\n",
            "Test_Loss: 1.02E-01\n",
            "----------------------------------------------------------------------------------------------------\n",
            "Epoch: 50/100\n",
            "Train_Loss: 5.06E-04\n",
            "Test_Loss: 1.02E-01\n",
            "----------------------------------------------------------------------------------------------------\n",
            "Epoch: 51/100\n",
            "Train_Loss: 4.74E-04\n",
            "Test_Loss: 1.02E-01\n",
            "----------------------------------------------------------------------------------------------------\n",
            "Epoch: 52/100\n",
            "Train_Loss: 4.59E-04\n",
            "Test_Loss: 1.02E-01\n",
            "----------------------------------------------------------------------------------------------------\n",
            "Epoch: 53/100\n",
            "Train_Loss: 4.61E-04\n",
            "Test_Loss: 1.01E-01\n",
            "----------------------------------------------------------------------------------------------------\n",
            "Epoch: 54/100\n",
            "Train_Loss: 4.74E-04\n",
            "Test_Loss: 1.03E-01\n",
            "----------------------------------------------------------------------------------------------------\n",
            "Epoch: 55/100\n",
            "Train_Loss: 4.59E-04\n",
            "Test_Loss: 1.02E-01\n",
            "----------------------------------------------------------------------------------------------------\n",
            "Epoch: 56/100\n",
            "Train_Loss: 4.71E-04\n",
            "Test_Loss: 1.02E-01\n",
            "----------------------------------------------------------------------------------------------------\n",
            "Epoch: 57/100\n",
            "Train_Loss: 4.39E-04\n",
            "Test_Loss: 1.02E-01\n",
            "----------------------------------------------------------------------------------------------------\n",
            "Epoch: 58/100\n",
            "Train_Loss: 4.53E-04\n",
            "Test_Loss: 1.02E-01\n",
            "----------------------------------------------------------------------------------------------------\n",
            "Epoch: 59/100\n",
            "Train_Loss: 4.42E-04\n",
            "Test_Loss: 1.02E-01\n",
            "----------------------------------------------------------------------------------------------------\n",
            "Epoch: 60/100\n",
            "Train_Loss: 4.83E-04\n",
            "Test_Loss: 1.01E-01\n",
            "----------------------------------------------------------------------------------------------------\n",
            "Epoch: 61/100\n",
            "Train_Loss: 4.47E-04\n",
            "Test_Loss: 1.03E-01\n",
            "----------------------------------------------------------------------------------------------------\n",
            "Epoch: 62/100\n",
            "Train_Loss: 4.06E-04\n",
            "Test_Loss: 1.03E-01\n",
            "----------------------------------------------------------------------------------------------------\n",
            "Epoch: 63/100\n",
            "Train_Loss: 3.98E-04\n",
            "Test_Loss: 1.02E-01\n",
            "----------------------------------------------------------------------------------------------------\n",
            "Epoch: 64/100\n",
            "Train_Loss: 3.84E-04\n",
            "Test_Loss: 1.02E-01\n",
            "----------------------------------------------------------------------------------------------------\n",
            "Epoch: 65/100\n",
            "Train_Loss: 3.82E-04\n",
            "Test_Loss: 1.03E-01\n",
            "----------------------------------------------------------------------------------------------------\n",
            "Epoch: 66/100\n",
            "Train_Loss: 4.39E-04\n",
            "Test_Loss: 1.02E-01\n",
            "----------------------------------------------------------------------------------------------------\n",
            "Epoch: 67/100\n",
            "Train_Loss: 3.99E-04\n",
            "Test_Loss: 1.02E-01\n",
            "----------------------------------------------------------------------------------------------------\n",
            "Epoch: 68/100\n",
            "Train_Loss: 3.85E-04\n",
            "Test_Loss: 1.01E-01\n",
            "----------------------------------------------------------------------------------------------------\n",
            "Epoch: 69/100\n",
            "Train_Loss: 3.82E-04\n",
            "Test_Loss: 1.03E-01\n",
            "----------------------------------------------------------------------------------------------------\n",
            "Epoch: 70/100\n",
            "Train_Loss: 3.63E-04\n",
            "Test_Loss: 1.02E-01\n",
            "----------------------------------------------------------------------------------------------------\n",
            "Epoch: 71/100\n",
            "Train_Loss: 3.43E-04\n",
            "Test_Loss: 1.03E-01\n",
            "----------------------------------------------------------------------------------------------------\n",
            "Epoch: 72/100\n",
            "Train_Loss: 3.56E-04\n",
            "Test_Loss: 1.02E-01\n",
            "----------------------------------------------------------------------------------------------------\n",
            "Epoch: 73/100\n",
            "Train_Loss: 4.06E-04\n",
            "Test_Loss: 1.04E-01\n",
            "----------------------------------------------------------------------------------------------------\n",
            "Epoch: 74/100\n",
            "Train_Loss: 3.67E-04\n",
            "Test_Loss: 1.01E-01\n",
            "----------------------------------------------------------------------------------------------------\n",
            "Epoch: 75/100\n",
            "Train_Loss: 3.53E-04\n",
            "Test_Loss: 1.04E-01\n",
            "----------------------------------------------------------------------------------------------------\n",
            "Epoch: 76/100\n",
            "Train_Loss: 3.65E-04\n",
            "Test_Loss: 1.03E-01\n",
            "----------------------------------------------------------------------------------------------------\n",
            "Epoch: 77/100\n",
            "Train_Loss: 3.57E-04\n",
            "Test_Loss: 1.02E-01\n",
            "----------------------------------------------------------------------------------------------------\n",
            "Epoch: 78/100\n",
            "Train_Loss: 3.37E-04\n",
            "Test_Loss: 1.01E-01\n",
            "----------------------------------------------------------------------------------------------------\n",
            "Epoch: 79/100\n",
            "Train_Loss: 3.43E-04\n",
            "Test_Loss: 1.03E-01\n",
            "----------------------------------------------------------------------------------------------------\n",
            "Epoch: 80/100\n",
            "Train_Loss: 3.26E-04\n",
            "Test_Loss: 1.03E-01\n",
            "----------------------------------------------------------------------------------------------------\n",
            "Epoch: 81/100\n",
            "Train_Loss: 3.21E-04\n",
            "Test_Loss: 1.03E-01\n",
            "----------------------------------------------------------------------------------------------------\n",
            "Epoch: 82/100\n",
            "Train_Loss: 3.17E-04\n",
            "Test_Loss: 1.03E-01\n",
            "----------------------------------------------------------------------------------------------------\n",
            "Epoch: 83/100\n",
            "Train_Loss: 3.07E-04\n",
            "Test_Loss: 1.02E-01\n",
            "----------------------------------------------------------------------------------------------------\n",
            "Epoch: 84/100\n",
            "Train_Loss: 3.44E-04\n",
            "Test_Loss: 1.02E-01\n",
            "----------------------------------------------------------------------------------------------------\n",
            "Epoch: 85/100\n",
            "Train_Loss: 3.48E-04\n",
            "Test_Loss: 1.03E-01\n",
            "----------------------------------------------------------------------------------------------------\n",
            "Epoch: 86/100\n",
            "Train_Loss: 3.65E-04\n",
            "Test_Loss: 1.01E-01\n",
            "----------------------------------------------------------------------------------------------------\n",
            "Epoch: 87/100\n",
            "Train_Loss: 3.65E-04\n",
            "Test_Loss: 1.03E-01\n",
            "----------------------------------------------------------------------------------------------------\n",
            "Epoch: 88/100\n",
            "Train_Loss: 3.19E-04\n",
            "Test_Loss: 1.02E-01\n",
            "----------------------------------------------------------------------------------------------------\n",
            "Epoch: 89/100\n",
            "Train_Loss: 3.24E-04\n",
            "Test_Loss: 1.02E-01\n",
            "----------------------------------------------------------------------------------------------------\n",
            "Epoch: 90/100\n",
            "Train_Loss: 3.11E-04\n",
            "Test_Loss: 1.02E-01\n",
            "----------------------------------------------------------------------------------------------------\n",
            "Epoch: 91/100\n",
            "Train_Loss: 2.96E-04\n",
            "Test_Loss: 1.02E-01\n",
            "----------------------------------------------------------------------------------------------------\n",
            "Epoch: 92/100\n",
            "Train_Loss: 2.96E-04\n",
            "Test_Loss: 1.02E-01\n",
            "----------------------------------------------------------------------------------------------------\n",
            "Epoch: 93/100\n",
            "Train_Loss: 2.99E-04\n",
            "Test_Loss: 1.02E-01\n",
            "----------------------------------------------------------------------------------------------------\n",
            "Epoch: 94/100\n",
            "Train_Loss: 3.03E-04\n",
            "Test_Loss: 1.01E-01\n",
            "----------------------------------------------------------------------------------------------------\n",
            "Epoch: 95/100\n",
            "Train_Loss: 3.41E-04\n",
            "Test_Loss: 1.01E-01\n",
            "----------------------------------------------------------------------------------------------------\n",
            "Epoch: 96/100\n",
            "Train_Loss: 3.08E-04\n",
            "Test_Loss: 1.01E-01\n",
            "----------------------------------------------------------------------------------------------------\n",
            "Epoch: 97/100\n",
            "Train_Loss: 3.41E-04\n",
            "Test_Loss: 1.01E-01\n",
            "----------------------------------------------------------------------------------------------------\n",
            "Epoch: 98/100\n",
            "Train_Loss: 3.19E-04\n",
            "Test_Loss: 1.03E-01\n",
            "----------------------------------------------------------------------------------------------------\n",
            "Epoch: 99/100\n",
            "Train_Loss: 3.27E-04\n",
            "Test_Loss: 1.00E-01\n",
            "----------------------------------------------------------------------------------------------------\n",
            "Epoch: 100/100\n",
            "Train_Loss: 3.14E-04\n",
            "Test_Loss: 1.01E-01\n"
          ],
          "name": "stdout"
        }
      ]
    },
    {
      "cell_type": "markdown",
      "metadata": {
        "id": "BFB2lASPUhrn"
      },
      "source": [
        "## Section 2.6 結果の可視化"
      ]
    },
    {
      "cell_type": "code",
      "metadata": {
        "colab": {
          "base_uri": "https://localhost:8080/",
          "height": 295
        },
        "id": "V3FJjiU5TiaL",
        "outputId": "b98b584a-86cf-4355-803f-257066836543"
      },
      "source": [
        "plt.figure()\n",
        "plt.title('Train and Test Loss')\n",
        "plt.xlabel('Epoch')\n",
        "plt.ylabel('Loss')\n",
        "plt.plot(range(1, epoch + 1), train_loss_list, color=\"blue\", linestyle=\"-\", label=\"Train_Loss\")\n",
        "plt.plot(range(1, epoch + 1), test_loss_list, color=\"red\", linestyle=\"--\", label=\"Test_Loss\")\n",
        "plt.legend()\n",
        "plt.show()"
      ],
      "execution_count": 83,
      "outputs": [
        {
          "output_type": "display_data",
          "data": {
            "image/png": "[encoded data removed]",
            "text/plain": [
              "<Figure size 432x288 with 1 Axes>"
            ]
          },
          "metadata": {
            "tags": [],
            "needs_background": "light"
          }
        }
      ]
    },
    {
      "cell_type": "markdown",
      "metadata": {
        "id": "_laLh4UkVX9c"
      },
      "source": [
        "## Section 2.7 テストデータに対する予測の評価"
      ]
    },
    {
      "cell_type": "code",
      "metadata": {
        "id": "QlyEiwTeUsdT"
      },
      "source": [
        "net.eval()\n",
        "with torch.no_grad():\n",
        "  pred_ma = []\n",
        "  true_ma = []\n",
        "  for data, label in test_batch:\n",
        "    data = data.to(device)\n",
        "    label = label.to(device)[:, -1, :]\n",
        "    y_pred = net(data)\n",
        "    pred_ma.append(y_pred.view(-1).tolist())\n",
        "    true_ma.append(label.view(-1).tolist())"
      ],
      "execution_count": 105,
      "outputs": []
    },
    {
      "cell_type": "code",
      "metadata": {
        "id": "N5wLuWFVV_HV"
      },
      "source": [
        "pred_ma = [elem for lst in pred_ma for elem in lst]\n",
        "true_ma = [elem for lst in true_ma for elem in lst]\n",
        "\n",
        "pred_ma = scaler.inverse_transform(pred_ma)\n",
        "true_ma = scaler.inverse_transform(true_ma)"
      ],
      "execution_count": 106,
      "outputs": []
    },
    {
      "cell_type": "code",
      "metadata": {
        "colab": {
          "base_uri": "https://localhost:8080/"
        },
        "id": "Q7gJtJxbWYcR",
        "outputId": "1d23defd-6873-479c-c404-5e88d0cc7259"
      },
      "source": [
        "mae = mean_absolute_error(true_ma, pred_ma)\n",
        "mae"
      ],
      "execution_count": 107,
      "outputs": [
        {
          "output_type": "execute_result",
          "data": {
            "text/plain": [
              "0.1240280226639014"
            ]
          },
          "metadata": {
            "tags": []
          },
          "execution_count": 107
        }
      ]
    },
    {
      "cell_type": "code",
      "metadata": {
        "colab": {
          "base_uri": "https://localhost:8080/",
          "height": 315
        },
        "id": "ffbkHGoVWsFP",
        "outputId": "ffb6bd14-ab81-43b5-9512-055c6acbae6d"
      },
      "source": [
        "date = dataset[\"date\"][-1 * test_len:]\n",
        "test_close = dataset[\"close\"][-1 * test_len:].values.reshape(-1)\n",
        "\n",
        "plt.figure()\n",
        "plt.title(\"YHOO Stock Price Prediction\")\n",
        "plt.xlabel(\"Date\")\n",
        "plt.ylabel(\"Stock Price\")\n",
        "plt.plot(date, test_close, color=\"black\", linestyle=\"-\", label=\"close\")\n",
        "plt.plot(date, true_ma, color=\"dodgerblue\", linestyle=\"--\", label=\"true_25MA\")\n",
        "plt.plot(date, pred_ma, color=\"red\", linestyle=\":\", label=\"predicted_25MA\")\n",
        "plt.legend()\n",
        "plt.xticks(rotation=30)\n",
        "plt.show()"
      ],
      "execution_count": 109,
      "outputs": [
        {
          "output_type": "display_data",
          "data": {
            "image/png": "[encoded data removed]",
            "text/plain": [
              "<Figure size 432x288 with 1 Axes>"
            ]
          },
          "metadata": {
            "tags": [],
            "needs_background": "light"
          }
        }
      ]
    },
    {
      "cell_type": "code",
      "metadata": {
        "id": "7-MJE-PzZE61"
      },
      "source": [
        ""
      ],
      "execution_count": null,
      "outputs": []
    }
  ]
}