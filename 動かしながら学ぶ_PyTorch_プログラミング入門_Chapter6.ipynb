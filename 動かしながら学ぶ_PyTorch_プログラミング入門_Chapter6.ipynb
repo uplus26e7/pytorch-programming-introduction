{
  "nbformat": 4,
  "nbformat_minor": 0,
  "metadata": {
    "colab": {
      "name": "動かしながら学ぶ PyTorch プログラミング入門 Chapter6.ipynb",
      "provenance": [],
      "collapsed_sections": [],
      "authorship_tag": "ABX9TyPlmYpQqHhKIkd7ufLeZv/v",
      "include_colab_link": true
    },
    "kernelspec": {
      "name": "python3",
      "display_name": "Python 3"
    },
    "accelerator": "GPU"
  },
  "cells": [
    {
      "cell_type": "markdown",
      "metadata": {
        "id": "view-in-github",
        "colab_type": "text"
      },
      "source": [
        "<a href=\"https://colab.research.google.com/github/uplus26e7/pytorch-programming-introduction/blob/master/%E5%8B%95%E3%81%8B%E3%81%97%E3%81%AA%E3%81%8C%E3%82%89%E5%AD%A6%E3%81%B6_PyTorch_%E3%83%97%E3%83%AD%E3%82%B0%E3%83%A9%E3%83%9F%E3%83%B3%E3%82%B0%E5%85%A5%E9%96%80_Chapter6.ipynb\" target=\"_parent\"><img src=\"https://colab.research.google.com/assets/colab-badge.svg\" alt=\"Open In Colab\"/></a>"
      ]
    },
    {
      "cell_type": "markdown",
      "metadata": {
        "id": "EPDA6qjTvorm"
      },
      "source": [
        "# Imports"
      ]
    },
    {
      "cell_type": "code",
      "metadata": {
        "id": "g5NH1bR7vkgB"
      },
      "source": [
        "import numpy as np\n",
        "import spacy\n",
        "import matplotlib.pyplot as plt\n",
        "import torch\n",
        "from torchtext import data\n",
        "from torchtext import datasets\n",
        "from torch import nn\n",
        "import torch.nn.functional as F\n",
        "from torch import optim"
      ],
      "execution_count": 1,
      "outputs": []
    },
    {
      "cell_type": "markdown",
      "metadata": {
        "id": "AvBlCSUjwMrR"
      },
      "source": [
        "# Section 2 感情分析の基本【サンプルコード　】"
      ]
    },
    {
      "cell_type": "markdown",
      "metadata": {
        "id": "sNASaPk0wQx7"
      },
      "source": [
        "## Section 2.3 訓練データとテストデータの用意"
      ]
    },
    {
      "cell_type": "code",
      "metadata": {
        "id": "d2JCYTZTv1YD"
      },
      "source": [
        "all_texts = data.Field(tokenize='spacy')\n",
        "all_labels = data.LabelField(dtype=torch.float)"
      ],
      "execution_count": 2,
      "outputs": []
    },
    {
      "cell_type": "code",
      "metadata": {
        "colab": {
          "base_uri": "https://localhost:8080/"
        },
        "id": "cogOO9PLwdlO",
        "outputId": "51b673a2-5df5-4b76-a190-7dc0be50069f"
      },
      "source": [
        "train_dataset, test_dataset = datasets.IMDB.splits(all_texts, all_labels)\n",
        "\n",
        "len(train_dataset), len(test_dataset)"
      ],
      "execution_count": 3,
      "outputs": [
        {
          "output_type": "stream",
          "text": [
            "\raclImdb_v1.tar.gz:   0%|          | 0.00/84.1M [00:00<?, ?B/s]"
          ],
          "name": "stderr"
        },
        {
          "output_type": "stream",
          "text": [
            "downloading aclImdb_v1.tar.gz\n"
          ],
          "name": "stdout"
        },
        {
          "output_type": "stream",
          "text": [
            "aclImdb_v1.tar.gz: 100%|██████████| 84.1M/84.1M [00:03<00:00, 21.7MB/s]\n"
          ],
          "name": "stderr"
        },
        {
          "output_type": "execute_result",
          "data": {
            "text/plain": [
              "(25000, 25000)"
            ]
          },
          "metadata": {
            "tags": []
          },
          "execution_count": 3
        }
      ]
    },
    {
      "cell_type": "code",
      "metadata": {
        "colab": {
          "base_uri": "https://localhost:8080/"
        },
        "id": "UYU_cSk4wqRd",
        "outputId": "81d62c4d-1b8a-4a21-e634-ababdd15c3f0"
      },
      "source": [
        "print(vars(train_dataset.examples[0]))"
      ],
      "execution_count": 4,
      "outputs": [
        {
          "output_type": "stream",
          "text": [
            "{'text': ['This', 'may', 'just', 'be', 'the', 'most', 'nostalgic', 'journey', 'back', 'in', 'time', '&', 'through', 'time', 'to', 'when', 'one', \"'s\", 'childhood', 'starts', 'a', 'journey', 'to', 'reminiscences', 'back', '&', 'forth', 'onwards', '&', 'upwards', ',', 'forwards', '&', 'backwards', ',', 'up', '&', 'down', '&', 'all', 'around', '.', 'The', 'boy', 'Jimmy', ',', 'H.R.', 'Puffinstuff', ',', 'Dr', '.', 'Blinky', ',', 'Cling', '&', 'Clang', ',', 'Ludicrous', 'Lion', ',', '&', 'even', 'the', 'evil', 'Witchie', 'Poo', 'too', 'through', '&', 'through', '.', 'The', 'latter', 'day', 'inspirations', 'of', 'Lidsville,\"The', 'Brady', 'Kids', 'Saturday', 'Morning', 'Preview', 'Special', '\"', 'Sigmund', '&', 'the', 'Sea', 'Monsters', ',', 'and', 'Land', 'of', 'the', 'lost', 'both', 'the', 'new', '&', 'old', 'are', 'what', 'this', 'very', 'show', 'bridged', 'the', 'gap', 'to', 'as', 'well', 'as', 'The', 'Donny', '&', 'Marie', 'Show', ',', 'The', 'Brady', 'Bunch', 'Variety', 'Hour', 'a.k.a', '.', 'Brady', 'Bunch', 'Hour', '&', 'Even', 'The', 'Paul', 'Lynde', 'Halloween', 'Special', '.', 'Maybe', 'even', 'other', 'things', 'in', 'between', '&', 'Beyond', 'the', 'Buck', 'just', 'keeps', 'on', 'moving', 'on', '&', 'on', '&', 'even', 'beyond', 'expectations', '&', 'as', 'well', 'as', 'unexpected', 'bounds', '.', 'Now', 'as', 'we', 'get', 'updated', 'in', 'March', 'of', \"'\", '06', 'we', 'know', 'that', 'Jack', 'Wild', \"'s\", 'gone', '&', 'so', 'now', 'it', 'make', \"'s\", 'it', 'even', 'more', 'symbolic', 'for', 'us', 'to', 'really', 'get', 'nostalgic', '.', 'Including', 'now', 'in', 'August', 'of', \"'\", '06', 'both', 'when', 'Jack', 'Wild', 'guest', 'stars', 'as', 'himself', 'on', 'Sigmund', 'and', 'The', 'Sea', 'Monsters', 'as', 'well', 'as', 'when', 'on', 'a', 'latter', 'episode', 'H.R.Puffinstuff', 'does', 'too', 'and', 'to', 'recall', 'all', 'of', 'the', 'other', 'nostalgic', 'journeys', 'of', 'all', 'the', 'Syd', '&', 'Marty', 'Kroft', 'Characters', 'as', 'well', 'including', 'The', 'H.R.Puffinstuff', 'Goodtime', 'Club;The', 'Donny', 'and', 'Marie', 'Show;The', 'Brady', 'Bunch', 'Variety', 'Hour', 'a.k.a', '.', 'The', 'Brady', 'Bunch', 'Hour;etc', '.', 'Truthfully', ',', 'Stephen', '\"', 'Steve', '\"', 'G.', 'Baer', 'a.k.a', '.', '\"', 'Ste', '\"', 'of', 'Framingham', ',', 'Ma', '.', 'USA', '.'], 'label': 'pos'}\n"
          ],
          "name": "stdout"
        }
      ]
    },
    {
      "cell_type": "code",
      "metadata": {
        "colab": {
          "base_uri": "https://localhost:8080/"
        },
        "id": "EIlMTEqaw4Zv",
        "outputId": "f1ad5bee-a6fa-4b2f-ac1d-80bda626046c"
      },
      "source": [
        "max_vocal_size = 25_000\n",
        "all_texts.build_vocab(train_dataset, max_size=max_vocal_size)\n",
        "all_labels.build_vocab(train_dataset)\n",
        "\n",
        "len(all_texts.vocab), len(all_labels.vocab)"
      ],
      "execution_count": 5,
      "outputs": [
        {
          "output_type": "execute_result",
          "data": {
            "text/plain": [
              "(25002, 2)"
            ]
          },
          "metadata": {
            "tags": []
          },
          "execution_count": 5
        }
      ]
    },
    {
      "cell_type": "code",
      "metadata": {
        "colab": {
          "base_uri": "https://localhost:8080/"
        },
        "id": "q9QQzwTCxwDR",
        "outputId": "b66fc343-2a68-4d59-c0a6-cc70cad5b019"
      },
      "source": [
        "all_texts.vocab.freqs.most_common(20)"
      ],
      "execution_count": 6,
      "outputs": [
        {
          "output_type": "execute_result",
          "data": {
            "text/plain": [
              "[('the', 289838),\n",
              " (',', 275296),\n",
              " ('.', 236843),\n",
              " ('and', 156483),\n",
              " ('a', 156282),\n",
              " ('of', 144055),\n",
              " ('to', 133886),\n",
              " ('is', 109095),\n",
              " ('in', 87676),\n",
              " ('I', 77546),\n",
              " ('it', 76545),\n",
              " ('that', 70355),\n",
              " ('\"', 63329),\n",
              " (\"'s\", 61928),\n",
              " ('this', 60483),\n",
              " ('-', 52863),\n",
              " ('/><br', 50935),\n",
              " ('was', 50013),\n",
              " ('as', 43508),\n",
              " ('with', 42807)]"
            ]
          },
          "metadata": {
            "tags": []
          },
          "execution_count": 6
        }
      ]
    },
    {
      "cell_type": "code",
      "metadata": {
        "colab": {
          "base_uri": "https://localhost:8080/"
        },
        "id": "cLlvKl3byEWW",
        "outputId": "e4ed7253-17c0-4f92-e942-3e172707223e"
      },
      "source": [
        "all_texts.vocab.itos[:10]"
      ],
      "execution_count": 7,
      "outputs": [
        {
          "output_type": "execute_result",
          "data": {
            "text/plain": [
              "['<unk>', '<pad>', 'the', ',', '.', 'and', 'a', 'of', 'to', 'is']"
            ]
          },
          "metadata": {
            "tags": []
          },
          "execution_count": 7
        }
      ]
    },
    {
      "cell_type": "code",
      "metadata": {
        "colab": {
          "base_uri": "https://localhost:8080/"
        },
        "id": "peMiLTJqyNYs",
        "outputId": "8b077c60-5923-4df3-b907-6a45491fd8d4"
      },
      "source": [
        "all_labels.vocab.stoi"
      ],
      "execution_count": 8,
      "outputs": [
        {
          "output_type": "execute_result",
          "data": {
            "text/plain": [
              "defaultdict(<function torchtext.vocab._default_unk_index>,\n",
              "            {'neg': 0, 'pos': 1})"
            ]
          },
          "metadata": {
            "tags": []
          },
          "execution_count": 8
        }
      ]
    },
    {
      "cell_type": "code",
      "metadata": {
        "colab": {
          "base_uri": "https://localhost:8080/"
        },
        "id": "waK9XyxuyRfb",
        "outputId": "a4f008dc-8cfc-4827-9674-09de99d4200e"
      },
      "source": [
        "batch_size = 64\n",
        "device = torch.device(\"cuda\" if torch.cuda.is_available() else \"cpu\")\n",
        "device"
      ],
      "execution_count": 9,
      "outputs": [
        {
          "output_type": "execute_result",
          "data": {
            "text/plain": [
              "device(type='cuda')"
            ]
          },
          "metadata": {
            "tags": []
          },
          "execution_count": 9
        }
      ]
    },
    {
      "cell_type": "code",
      "metadata": {
        "colab": {
          "base_uri": "https://localhost:8080/"
        },
        "id": "ot2Wl_B1yhS4",
        "outputId": "11e6bab0-1d96-4bed-b6d7-c714559831f1"
      },
      "source": [
        "train_batch, test_batch = data.BucketIterator.splits(\n",
        "    (train_dataset, test_dataset),\n",
        "    batch_size=batch_size,\n",
        "    device=device\n",
        ")\n",
        "\n",
        "for batch in train_batch:\n",
        "  print(f\"text size: {batch.text.size()}\")\n",
        "  print(f\"label size: {batch.label.size()}\")\n",
        "  break"
      ],
      "execution_count": 10,
      "outputs": [
        {
          "output_type": "stream",
          "text": [
            "text size: torch.Size([965, 64])\n",
            "label size: torch.Size([64])\n"
          ],
          "name": "stdout"
        }
      ]
    },
    {
      "cell_type": "markdown",
      "metadata": {
        "id": "LFzdBvEez9YB"
      },
      "source": [
        "## Section 2.4 ニューラルネットワークの定義"
      ]
    },
    {
      "cell_type": "code",
      "metadata": {
        "id": "_iEmybBjzlOI"
      },
      "source": [
        "class Net(nn.Module):\n",
        "  def __init__(self, D_in, D_embedding, H, D_out):\n",
        "    super(Net, self).__init__()\n",
        "    self.embedding = nn.Embedding(D_in, D_embedding)\n",
        "    self.lstm = nn.LSTM(D_embedding, H, num_layers=1)\n",
        "    self.linear = nn.Linear(H, D_out)\n",
        "  \n",
        "  def forward(self, x):\n",
        "    embedded = self.embedding(x)\n",
        "    output, (hidden, cell) = self.lstm(embedded)\n",
        "    output = self.linear(output[-1, :, :])\n",
        "    return output"
      ],
      "execution_count": 16,
      "outputs": []
    },
    {
      "cell_type": "code",
      "metadata": {
        "colab": {
          "base_uri": "https://localhost:8080/"
        },
        "id": "7ro6Mana1ZGP",
        "outputId": "b1fa5a4f-691f-4152-8a95-3ecb0159a4b5"
      },
      "source": [
        "D_in = len(all_texts.vocab)\n",
        "D_embedding = 100\n",
        "H = 256\n",
        "D_out = 1\n",
        "\n",
        "net = Net(D_in, D_embedding, H, D_out).to(device)\n",
        "net"
      ],
      "execution_count": 17,
      "outputs": [
        {
          "output_type": "execute_result",
          "data": {
            "text/plain": [
              "Net(\n",
              "  (embedding): Embedding(25002, 100)\n",
              "  (lstm): LSTM(100, 256)\n",
              "  (linear): Linear(in_features=256, out_features=1, bias=True)\n",
              ")"
            ]
          },
          "metadata": {
            "tags": []
          },
          "execution_count": 17
        }
      ]
    },
    {
      "cell_type": "markdown",
      "metadata": {
        "id": "uoQe9UfB1smz"
      },
      "source": [
        "## Section 2.5 損失関数と最適化関数の定義"
      ]
    },
    {
      "cell_type": "code",
      "metadata": {
        "id": "vYGxH6Hz1qnA"
      },
      "source": [
        "criterion = nn.BCEWithLogitsLoss()\n",
        "optimizer = optim.Adam(net.parameters())"
      ],
      "execution_count": 18,
      "outputs": []
    },
    {
      "cell_type": "markdown",
      "metadata": {
        "id": "ZGV2_h8E1-Ys"
      },
      "source": [
        "## Section 2.6 学習"
      ]
    },
    {
      "cell_type": "code",
      "metadata": {
        "colab": {
          "base_uri": "https://localhost:8080/"
        },
        "id": "sAfMlyA213pd",
        "outputId": "4ddc58e8-68cc-473a-98d2-77ced298291b"
      },
      "source": [
        "train_loss_list = []\n",
        "test_loss_list = []\n",
        "train_accuracy_list = []\n",
        "test_accuracy_list = []\n",
        "\n",
        "epoch = 10\n",
        "for i in range(epoch):\n",
        "  print(\"-\" * 100)\n",
        "  print(f\"Epoch: {i + 1}/{epoch}\")\n",
        "  train_loss = 0\n",
        "  train_accuracy = 0\n",
        "  test_loss = 0\n",
        "  test_accuracy = 0\n",
        "\n",
        "  # train part\n",
        "  net.train()\n",
        "  for batch in train_batch:\n",
        "    texts = batch.text\n",
        "    labels = batch.label\n",
        "\n",
        "    optimizer.zero_grad()\n",
        "    y_pred_prob = net(texts).squeeze(1)\n",
        "    loss = criterion(y_pred_prob, labels)\n",
        "    loss.backward()\n",
        "    optimizer.step()\n",
        "\n",
        "    train_loss += loss.item()\n",
        "\n",
        "    y_pred_labels = torch.round(torch.sigmoid(y_pred_prob))\n",
        "    train_accuracy += torch.sum(y_pred_labels == labels).item() / len(labels)\n",
        "  \n",
        "  epoch_train_loss = train_loss / len(train_batch)\n",
        "  epoch_train_accuracy = train_accuracy / len(train_batch)\n",
        "\n",
        "  # eval part\n",
        "  net.eval()\n",
        "  with torch.no_grad():\n",
        "    for batch in test_batch:\n",
        "      texts = batch.text\n",
        "      labels = batch.label\n",
        "\n",
        "      y_pred_prob = net(texts).squeeze(1)\n",
        "      loss = criterion(y_pred_prob, labels)\n",
        "      test_loss += loss.item()\n",
        "\n",
        "      y_pred_labels = torch.round(torch.sigmoid(y_pred_prob))\n",
        "      test_accuracy += torch.sum(y_pred_labels == labels).item() / len(labels)\n",
        "  \n",
        "  epoch_test_loss = test_loss / len(test_batch)\n",
        "  epoch_test_accuracy = test_accuracy / len(test_batch)\n",
        "\n",
        "  print(f\"Train_Loss: {epoch_train_loss:.4f}, Train_Accuracy: {epoch_train_accuracy:.4f}\")\n",
        "  print(f\"Test_Loss: {epoch_test_loss:.4f}, Test_Accuracy: {epoch_test_accuracy:.4f}\")\n",
        "\n",
        "  train_loss_list.append(epoch_train_loss)\n",
        "  train_accuracy_list.append(epoch_train_accuracy)\n",
        "  test_loss_list.append(epoch_test_loss)\n",
        "  test_accuracy_list.append(epoch_test_accuracy)"
      ],
      "execution_count": 19,
      "outputs": [
        {
          "output_type": "stream",
          "text": [
            "----------------------------------------------------------------------------------------------------\n",
            "Epoch: 1/10\n",
            "Train_Loss: 0.6941, Train_Accuracy: 0.5029\n",
            "Test_Loss: 0.6866, Test_Accuracy: 0.5522\n",
            "----------------------------------------------------------------------------------------------------\n",
            "Epoch: 2/10\n",
            "Train_Loss: 0.6932, Train_Accuracy: 0.5017\n",
            "Test_Loss: 0.6871, Test_Accuracy: 0.5196\n",
            "----------------------------------------------------------------------------------------------------\n",
            "Epoch: 3/10\n",
            "Train_Loss: 0.6928, Train_Accuracy: 0.4982\n",
            "Test_Loss: 0.6800, Test_Accuracy: 0.4815\n",
            "----------------------------------------------------------------------------------------------------\n",
            "Epoch: 4/10\n",
            "Train_Loss: 0.6926, Train_Accuracy: 0.4951\n",
            "Test_Loss: 0.6712, Test_Accuracy: 0.5374\n",
            "----------------------------------------------------------------------------------------------------\n",
            "Epoch: 5/10\n",
            "Train_Loss: 0.6909, Train_Accuracy: 0.5016\n",
            "Test_Loss: 0.7064, Test_Accuracy: 0.4931\n",
            "----------------------------------------------------------------------------------------------------\n",
            "Epoch: 6/10\n",
            "Train_Loss: 0.6900, Train_Accuracy: 0.5045\n",
            "Test_Loss: 0.7112, Test_Accuracy: 0.5806\n",
            "----------------------------------------------------------------------------------------------------\n",
            "Epoch: 7/10\n",
            "Train_Loss: 0.6893, Train_Accuracy: 0.4992\n",
            "Test_Loss: 0.7417, Test_Accuracy: 0.5583\n",
            "----------------------------------------------------------------------------------------------------\n",
            "Epoch: 8/10\n",
            "Train_Loss: 0.6878, Train_Accuracy: 0.5047\n",
            "Test_Loss: 0.7610, Test_Accuracy: 0.5316\n",
            "----------------------------------------------------------------------------------------------------\n",
            "Epoch: 9/10\n",
            "Train_Loss: 0.6870, Train_Accuracy: 0.5019\n",
            "Test_Loss: 0.7486, Test_Accuracy: 0.5418\n",
            "----------------------------------------------------------------------------------------------------\n",
            "Epoch: 10/10\n",
            "Train_Loss: 0.6797, Train_Accuracy: 0.5356\n",
            "Test_Loss: 0.7422, Test_Accuracy: 0.6211\n"
          ],
          "name": "stdout"
        }
      ]
    },
    {
      "cell_type": "markdown",
      "metadata": {
        "id": "4_80MP_q6Ude"
      },
      "source": [
        "## Section 2.7 結果の可視化"
      ]
    },
    {
      "cell_type": "code",
      "metadata": {
        "colab": {
          "base_uri": "https://localhost:8080/",
          "height": 0
        },
        "id": "AHwUUw-n6P8P",
        "outputId": "de6477d0-1c73-4a65-f382-27b277bd6bf3"
      },
      "source": [
        "plt.figure()\n",
        "plt.title('Train and Test Loss')\n",
        "plt.xlabel('Epoch')\n",
        "plt.ylabel('Loss')\n",
        "plt.plot(range(1, epoch+1), train_loss_list, color=\"blue\", linestyle=\"-\", label=\"Train_Loss\")\n",
        "plt.plot(range(1, epoch+1), test_loss_list, color='red', linestyle='--', label='Test_Loss')\n",
        "plt.legend()\n",
        "\n",
        "plt.figure()\n",
        "plt.title('Train and Test Accuracy')\n",
        "plt.xlabel('Epoch')\n",
        "plt.ylabel(\"Accuracy\")\n",
        "plt.plot(range(1, epoch+1), train_accuracy_list, color='blue', linestyle='-', label='Train_Accuracy')\n",
        "plt.plot(range(1, epoch+1), test_accuracy_list, color='red', linestyle='--', label='Test_Accuracy')\n",
        "plt.legend()\n",
        "\n",
        "plt.show()"
      ],
      "execution_count": 22,
      "outputs": [
        {
          "output_type": "display_data",
          "data": {
            "image/png": "[encoded data removed]",
            "text/plain": [
              "<Figure size 432x288 with 1 Axes>"
            ]
          },
          "metadata": {
            "tags": [],
            "needs_background": "light"
          }
        },
        {
          "output_type": "display_data",
          "data": {
            "image/png": "[encoded data removed]",
            "text/plain": [
              "<Figure size 432x288 with 1 Axes>"
            ]
          },
          "metadata": {
            "tags": [],
            "needs_background": "light"
          }
        }
      ]
    },
    {
      "cell_type": "markdown",
      "metadata": {
        "id": "5_6CNMl27WCw"
      },
      "source": [
        "# Section 3 感情分析の応用【サンプルコード】"
      ]
    },
    {
      "cell_type": "markdown",
      "metadata": {
        "id": "s4TcnqXS71HS"
      },
      "source": [
        "## Section 3.2 訓練データとテストデータの用意"
      ]
    },
    {
      "cell_type": "code",
      "metadata": {
        "id": "v8EchxLi7W0a"
      },
      "source": [
        "all_texts = data.Field(tokenize=\"spacy\", include_lengths=True)\n",
        "all_labels = data.LabelField(dtype=torch.float)"
      ],
      "execution_count": 24,
      "outputs": []
    },
    {
      "cell_type": "code",
      "metadata": {
        "colab": {
          "base_uri": "https://localhost:8080/"
        },
        "id": "SxcsAxHh8d1r",
        "outputId": "b23d2971-1664-4774-a576-34d7a7653ed9"
      },
      "source": [
        "train_dataset, test_dataset = datasets.IMDB.splits(all_texts, all_labels)\n",
        "\n",
        "len(train_dataset), len(test_dataset)"
      ],
      "execution_count": 25,
      "outputs": [
        {
          "output_type": "execute_result",
          "data": {
            "text/plain": [
              "(25000, 25000)"
            ]
          },
          "metadata": {
            "tags": []
          },
          "execution_count": 25
        }
      ]
    },
    {
      "cell_type": "code",
      "metadata": {
        "colab": {
          "base_uri": "https://localhost:8080/"
        },
        "id": "LRzn9gjm86b8",
        "outputId": "04dcc323-eba3-42f0-8913-aae37b4fcf9f"
      },
      "source": [
        "max_vocab_size = 25_000\n",
        "\n",
        "all_texts.build_vocab(\n",
        "    train_dataset,\n",
        "    max_size=max_vocab_size,\n",
        "    vectors=\"glove.6B.100d\",\n",
        "    unk_init=torch.Tensor.normal_\n",
        ")\n",
        "\n",
        "all_labels.build_vocab(train_dataset)\n",
        "\n",
        "len(all_texts.vocab), len(all_labels.vocab)"
      ],
      "execution_count": 26,
      "outputs": [
        {
          "output_type": "stream",
          "text": [
            "100%|█████████▉| 398589/400000 [00:15<00:00, 25813.87it/s]"
          ],
          "name": "stderr"
        },
        {
          "output_type": "execute_result",
          "data": {
            "text/plain": [
              "(25002, 2)"
            ]
          },
          "metadata": {
            "tags": []
          },
          "execution_count": 26
        }
      ]
    },
    {
      "cell_type": "code",
      "metadata": {
        "colab": {
          "base_uri": "https://localhost:8080/"
        },
        "id": "eoXTkDtM_FIp",
        "outputId": "73ff8525-569f-4c4d-ba63-b9d4756d1d71"
      },
      "source": [
        "print(all_texts.vocab.freqs.most_common(20))\n",
        "print(all_texts.vocab.itos[:10])\n",
        "print(all_labels.vocab.stoi)"
      ],
      "execution_count": 27,
      "outputs": [
        {
          "output_type": "stream",
          "text": [
            "[('the', 289838), (',', 275296), ('.', 236843), ('and', 156483), ('a', 156282), ('of', 144055), ('to', 133886), ('is', 109095), ('in', 87676), ('I', 77546), ('it', 76545), ('that', 70355), ('\"', 63329), (\"'s\", 61928), ('this', 60483), ('-', 52863), ('/><br', 50935), ('was', 50013), ('as', 43508), ('with', 42807)]\n",
            "['<unk>', '<pad>', 'the', ',', '.', 'and', 'a', 'of', 'to', 'is']\n",
            "defaultdict(<function _default_unk_index at 0x7fb8bd01bae8>, {'neg': 0, 'pos': 1})\n"
          ],
          "name": "stdout"
        }
      ]
    },
    {
      "cell_type": "code",
      "metadata": {
        "colab": {
          "base_uri": "https://localhost:8080/"
        },
        "id": "4mJdae3xAnF0",
        "outputId": "293272d2-1e16-4c72-f5aa-8d756539a5d0"
      },
      "source": [
        "batch_size = 64\n",
        "\n",
        "device = torch.device(\"cuda\" if torch.cuda.is_available() else \"cpu\")\n",
        "device"
      ],
      "execution_count": 28,
      "outputs": [
        {
          "output_type": "execute_result",
          "data": {
            "text/plain": [
              "device(type='cuda')"
            ]
          },
          "metadata": {
            "tags": []
          },
          "execution_count": 28
        }
      ]
    },
    {
      "cell_type": "code",
      "metadata": {
        "colab": {
          "base_uri": "https://localhost:8080/"
        },
        "id": "5oqXqDolA3jw",
        "outputId": "5c1bf62b-16e4-4a45-a272-ce58f5a07137"
      },
      "source": [
        "train_batch, test_batch = data.BucketIterator.splits(\n",
        "    (train_dataset, test_dataset),\n",
        "    batch_size=batch_size,\n",
        "    sort_within_batch=True,\n",
        "    device=device\n",
        ")\n",
        "\n",
        "for batch in train_batch:\n",
        "  print(f\"text size: {batch.text[0].size()}\")\n",
        "  print(f\"seq size: {batch.text[1].size()}\")\n",
        "  print(f\"label size: {batch.label.size()}\")\n",
        "  break"
      ],
      "execution_count": 47,
      "outputs": [
        {
          "output_type": "stream",
          "text": [
            "text size: torch.Size([344, 64])\n",
            "seq size: torch.Size([64])\n",
            "label size: torch.Size([64])\n"
          ],
          "name": "stdout"
        }
      ]
    },
    {
      "cell_type": "markdown",
      "metadata": {
        "id": "_CCzHAniBp7j"
      },
      "source": [
        "## Section 3.3 ニューラルネットワークの定義"
      ]
    },
    {
      "cell_type": "code",
      "metadata": {
        "id": "JhJgpf-eBJ8u"
      },
      "source": [
        "class Net(nn.Module):\n",
        "  def __init__(self, D_in, D_embedding, H, D_out, n_layers, bidirectional, dropout, pad_idx):\n",
        "    super(Net, self).__init__()\n",
        "    self.embedding = nn.Embedding(D_in, D_embedding, padding_idx=pad_idx)\n",
        "    self.lstm = nn.LSTM(\n",
        "        D_embedding,\n",
        "        H,\n",
        "        num_layers=n_layers,\n",
        "        bidirectional=bidirectional,\n",
        "        dropout=dropout\n",
        "    )\n",
        "    self.linear = nn.Linear(H * 2, D_out)\n",
        "    self.dropout = nn.Dropout(dropout)\n",
        "  \n",
        "  def forward(self, x, x_lengths):\n",
        "    embedded = self.dropout(self.embedding(x))\n",
        "    packed_embedded = nn.utils.rnn.pack_padded_sequence(embedded, x_lengths)\n",
        "    packed_output, (hidden, cell) = self.lstm(packed_embedded)\n",
        "\n",
        "    output, output_lengths = nn.utils.rnn.pad_packed_sequence(packed_output)\n",
        "    hidden = self.dropout(torch.cat((hidden[-2, :, :], hidden[-1, :, :]), dim=1))\n",
        "    return self.linear(hidden)\n"
      ],
      "execution_count": 33,
      "outputs": []
    },
    {
      "cell_type": "code",
      "metadata": {
        "id": "XhI_bO-iE0A3"
      },
      "source": [
        "D_in = len(all_texts.vocab)\n",
        "D_embedding = 100\n",
        "H = 256\n",
        "D_out = 1\n",
        "n_layers = 2\n",
        "bidirectional = True\n",
        "dropout=0.5\n",
        "pad_idx = all_texts.vocab.stoi[all_texts.pad_token]"
      ],
      "execution_count": 36,
      "outputs": []
    },
    {
      "cell_type": "code",
      "metadata": {
        "colab": {
          "base_uri": "https://localhost:8080/"
        },
        "id": "iAec9gsqFbmR",
        "outputId": "3b20365c-e946-41be-8f4c-9b8895fbd6d7"
      },
      "source": [
        "net = Net(\n",
        "    D_in,\n",
        "    D_embedding,\n",
        "    H,\n",
        "    D_out,\n",
        "    n_layers,\n",
        "    bidirectional,\n",
        "    dropout,\n",
        "    pad_idx\n",
        ").to(device)\n",
        "net, device"
      ],
      "execution_count": 61,
      "outputs": [
        {
          "output_type": "execute_result",
          "data": {
            "text/plain": [
              "(Net(\n",
              "   (embedding): Embedding(25002, 100, padding_idx=1)\n",
              "   (lstm): LSTM(100, 256, num_layers=2, dropout=0.5, bidirectional=True)\n",
              "   (linear): Linear(in_features=512, out_features=1, bias=True)\n",
              "   (dropout): Dropout(p=0.5, inplace=False)\n",
              " ), device(type='cuda'))"
            ]
          },
          "metadata": {
            "tags": []
          },
          "execution_count": 61
        }
      ]
    },
    {
      "cell_type": "code",
      "metadata": {
        "colab": {
          "base_uri": "https://localhost:8080/"
        },
        "id": "1GCdQcRoFlc_",
        "outputId": "28f7b19b-b784-4760-e83b-2bafd4fecacd"
      },
      "source": [
        "pretrained_embeddings = all_texts.vocab.vectors\n",
        "pretrained_embeddings.shape"
      ],
      "execution_count": 62,
      "outputs": [
        {
          "output_type": "execute_result",
          "data": {
            "text/plain": [
              "torch.Size([25002, 100])"
            ]
          },
          "metadata": {
            "tags": []
          },
          "execution_count": 62
        }
      ]
    },
    {
      "cell_type": "code",
      "metadata": {
        "colab": {
          "base_uri": "https://localhost:8080/"
        },
        "id": "0PLcajhCGRpa",
        "outputId": "2c87a27c-1372-4ea8-d598-5a60209378f4"
      },
      "source": [
        "net.embedding.weight.data.copy_(pretrained_embeddings)"
      ],
      "execution_count": 63,
      "outputs": [
        {
          "output_type": "execute_result",
          "data": {
            "text/plain": [
              "tensor([[ 0.7119, -0.9147,  0.6500,  ..., -0.2260,  1.3059,  1.6226],\n",
              "        [-0.9387, -0.0342,  1.3879,  ..., -0.0255, -0.0368, -1.1419],\n",
              "        [-0.0382, -0.2449,  0.7281,  ..., -0.1459,  0.8278,  0.2706],\n",
              "        ...,\n",
              "        [-1.1413, -0.7184,  0.8533,  ...,  0.3553,  0.8598,  0.3467],\n",
              "        [-0.3562, -0.0575,  1.8366,  ...,  1.1560,  0.8474,  0.4031],\n",
              "        [ 2.1670,  1.0418,  0.9463,  ..., -0.0976, -0.0370, -1.1120]],\n",
              "       device='cuda:0')"
            ]
          },
          "metadata": {
            "tags": []
          },
          "execution_count": 63
        }
      ]
    },
    {
      "cell_type": "code",
      "metadata": {
        "colab": {
          "base_uri": "https://localhost:8080/"
        },
        "id": "EqrmBtqGGYL8",
        "outputId": "e02dc448-8582-4805-dcaa-5bc9a558c24f"
      },
      "source": [
        "unk_idx = all_texts.vocab.stoi[all_texts.unk_token]\n",
        "net.embedding.weight.data[unk_idx] = torch.zeros(D_embedding)\n",
        "net.embedding.weight.data[pad_idx] = torch.zeros(D_embedding)\n",
        "\n",
        "net.embedding.weight.data"
      ],
      "execution_count": 65,
      "outputs": [
        {
          "output_type": "execute_result",
          "data": {
            "text/plain": [
              "tensor([[ 0.0000,  0.0000,  0.0000,  ...,  0.0000,  0.0000,  0.0000],\n",
              "        [ 0.0000,  0.0000,  0.0000,  ...,  0.0000,  0.0000,  0.0000],\n",
              "        [-0.0382, -0.2449,  0.7281,  ..., -0.1459,  0.8278,  0.2706],\n",
              "        ...,\n",
              "        [-1.1413, -0.7184,  0.8533,  ...,  0.3553,  0.8598,  0.3467],\n",
              "        [-0.3562, -0.0575,  1.8366,  ...,  1.1560,  0.8474,  0.4031],\n",
              "        [ 2.1670,  1.0418,  0.9463,  ..., -0.0976, -0.0370, -1.1120]],\n",
              "       device='cuda:0')"
            ]
          },
          "metadata": {
            "tags": []
          },
          "execution_count": 65
        }
      ]
    },
    {
      "cell_type": "markdown",
      "metadata": {
        "id": "d_esR2PsG1VB"
      },
      "source": [
        "## Section 3.4 損失関数と最適化関数の定義"
      ]
    },
    {
      "cell_type": "code",
      "metadata": {
        "id": "hjhLsIBFGzO9"
      },
      "source": [
        "criterion = nn.BCEWithLogitsLoss()\n",
        "optimizer = optim.Adam(net.parameters())"
      ],
      "execution_count": 66,
      "outputs": []
    },
    {
      "cell_type": "markdown",
      "metadata": {
        "id": "Elsm441FHfUH"
      },
      "source": [
        "## Section 3.5 学習"
      ]
    },
    {
      "cell_type": "code",
      "metadata": {
        "colab": {
          "base_uri": "https://localhost:8080/"
        },
        "id": "v_e5A1y4Hd14",
        "outputId": "5a7126c4-d828-48e5-d084-53f39a6328c1"
      },
      "source": [
        "train_loss_list = []\n",
        "test_loss_list = []\n",
        "train_accuracy_list = []\n",
        "test_accuracy_list = []\n",
        "\n",
        "epoch = 10\n",
        "for i in range(epoch):\n",
        "  print(\"-\" * 100)\n",
        "  print(f\"Epoch: {i + 1}/{epoch}\")\n",
        "\n",
        "  train_loss = 0\n",
        "  test_loss = 0\n",
        "  train_accuracy = 0\n",
        "  test_accuracy = 0\n",
        "\n",
        "  # train part\n",
        "  net.train()\n",
        "  for batch in train_batch:\n",
        "    texts, text_lengths = batch.text\n",
        "    text_lengths = text_lengths.to(\"cpu\")\n",
        "    labels = batch.label\n",
        "\n",
        "    optimizer.zero_grad()\n",
        "    y_pred_prob = net(texts, text_lengths).squeeze(1)\n",
        "    loss = criterion(y_pred_prob, labels)\n",
        "    loss.backward()\n",
        "    optimizer.step()\n",
        "\n",
        "    train_loss += loss.item()\n",
        "\n",
        "    y_pred_labels = torch.round(torch.sigmoid(y_pred_prob))\n",
        "    train_accuracy += torch.sum(y_pred_labels == labels).item() / len(labels)\n",
        "  \n",
        "  epoch_train_loss = train_loss / len(train_batch)\n",
        "  epoch_train_accuracy = train_accuracy / len(train_batch)\n",
        "\n",
        "  # eval part\n",
        "  net.eval()\n",
        "  with torch.no_grad():\n",
        "    for batch in test_batch:\n",
        "      texts, text_lengths = batch.text\n",
        "      text_lengths = text_lengths.to(\"cpu\")\n",
        "      labels = batch.label\n",
        "\n",
        "      y_pred_prob = net(texts, text_lengths).squeeze(1)\n",
        "      loss = criterion(y_pred_prob, labels)\n",
        "      test_loss += loss.item()\n",
        "\n",
        "      y_pred_labels = torch.round(torch.sigmoid(y_pred_prob))\n",
        "      test_accuracy += torch.sum(y_pred_labels == labels).item() / len(labels)\n",
        "  \n",
        "  epoch_test_loss = test_loss / len(test_batch)\n",
        "  epoch_test_accuracy = test_accuracy / len(test_batch)\n",
        "\n",
        "  print(f\"Train_Loss: {epoch_train_loss:.4f}, Train_Accuracy: {epoch_train_accuracy:.4f}\")\n",
        "  print(f\"Test_Loss: {epoch_test_loss:.4f}, Test_Accuracy: {epoch_test_accuracy:.4f}\")\n",
        "\n",
        "  train_loss_list.append(epoch_train_loss)\n",
        "  train_accuracy_list.append(epoch_train_accuracy)\n",
        "  test_loss_list.append(epoch_test_loss)\n",
        "  test_accuracy_list.append(epoch_test_accuracy)"
      ],
      "execution_count": 67,
      "outputs": [
        {
          "output_type": "stream",
          "text": [
            "----------------------------------------------------------------------------------------------------\n",
            "Epoch: 1/10\n",
            "Train_Loss: 0.6185, Train_Accuracy: 0.6499\n",
            "Test_Loss: 0.6207, Test_Accuracy: 0.5826\n",
            "----------------------------------------------------------------------------------------------------\n",
            "Epoch: 2/10\n",
            "Train_Loss: 0.5013, Train_Accuracy: 0.7588\n",
            "Test_Loss: 0.3751, Test_Accuracy: 0.8419\n",
            "----------------------------------------------------------------------------------------------------\n",
            "Epoch: 3/10\n",
            "Train_Loss: 0.3951, Train_Accuracy: 0.8269\n",
            "Test_Loss: 0.3257, Test_Accuracy: 0.8655\n",
            "----------------------------------------------------------------------------------------------------\n",
            "Epoch: 4/10\n",
            "Train_Loss: 0.3022, Train_Accuracy: 0.8776\n",
            "Test_Loss: 0.2825, Test_Accuracy: 0.8887\n",
            "----------------------------------------------------------------------------------------------------\n",
            "Epoch: 5/10\n",
            "Train_Loss: 0.2550, Train_Accuracy: 0.9002\n",
            "Test_Loss: 0.2861, Test_Accuracy: 0.8906\n",
            "----------------------------------------------------------------------------------------------------\n",
            "Epoch: 6/10\n",
            "Train_Loss: 0.2208, Train_Accuracy: 0.9149\n",
            "Test_Loss: 0.2565, Test_Accuracy: 0.8971\n",
            "----------------------------------------------------------------------------------------------------\n",
            "Epoch: 7/10\n",
            "Train_Loss: 0.1985, Train_Accuracy: 0.9231\n",
            "Test_Loss: 0.2690, Test_Accuracy: 0.8965\n",
            "----------------------------------------------------------------------------------------------------\n",
            "Epoch: 8/10\n",
            "Train_Loss: 0.1793, Train_Accuracy: 0.9321\n",
            "Test_Loss: 0.2695, Test_Accuracy: 0.9011\n",
            "----------------------------------------------------------------------------------------------------\n",
            "Epoch: 9/10\n",
            "Train_Loss: 0.1599, Train_Accuracy: 0.9416\n",
            "Test_Loss: 0.2631, Test_Accuracy: 0.9014\n",
            "----------------------------------------------------------------------------------------------------\n",
            "Epoch: 10/10\n",
            "Train_Loss: 0.1406, Train_Accuracy: 0.9491\n",
            "Test_Loss: 0.2719, Test_Accuracy: 0.9025\n"
          ],
          "name": "stdout"
        }
      ]
    },
    {
      "cell_type": "markdown",
      "metadata": {
        "id": "UbE73Pv1Mhsr"
      },
      "source": [
        "## Section 3.6 結果の可視化"
      ]
    },
    {
      "cell_type": "code",
      "metadata": {
        "colab": {
          "base_uri": "https://localhost:8080/",
          "height": 573
        },
        "id": "hZqPtGGlKQ5x",
        "outputId": "e2f56cc0-093b-4efe-cabf-bb1392cc35af"
      },
      "source": [
        "plt.figure()\n",
        "plt.title('Train and Test Loss')\n",
        "plt.xlabel('Epoch')\n",
        "plt.ylabel('Loss')\n",
        "plt.plot(range(1, epoch+1), train_loss_list, color=\"blue\", linestyle=\"-\", label=\"Train_Loss\")\n",
        "plt.plot(range(1, epoch+1), test_loss_list, color='red', linestyle='--', label='Test_Loss')\n",
        "plt.legend()\n",
        "\n",
        "plt.figure()\n",
        "plt.title('Train and Test Accuracy')\n",
        "plt.xlabel('Epoch')\n",
        "plt.ylabel(\"Accuracy\")\n",
        "plt.plot(range(1, epoch+1), train_accuracy_list, color='blue', linestyle='-', label='Train_Accuracy')\n",
        "plt.plot(range(1, epoch+1), test_accuracy_list, color='red', linestyle='--', label='Test_Accuracy')\n",
        "plt.legend()\n",
        "\n",
        "plt.show()"
      ],
      "execution_count": 68,
      "outputs": [
        {
          "output_type": "display_data",
          "data": {
            "image/png": "[encoded data removed]",
            "text/plain": [
              "<Figure size 432x288 with 1 Axes>"
            ]
          },
          "metadata": {
            "tags": [],
            "needs_background": "light"
          }
        },
        {
          "output_type": "display_data",
          "data": {
            "image/png": "[encoded data removed]",
            "text/plain": [
              "<Figure size 432x288 with 1 Axes>"
            ]
          },
          "metadata": {
            "tags": [],
            "needs_background": "light"
          }
        }
      ]
    },
    {
      "cell_type": "markdown",
      "metadata": {
        "id": "H5AeAESeM8NP"
      },
      "source": [
        "## Section 3.7 新しいレビューに対する感情分析"
      ]
    },
    {
      "cell_type": "code",
      "metadata": {
        "id": "yVN0fFoKNBmv"
      },
      "source": [
        "nlp = spacy.load(\"en\")\n",
        "\n",
        "def predict_sentiment(net, sentence):\n",
        "  net.eval()\n",
        "  tokenized = [tok.text for tok in nlp.tokenizer(sentence)]\n",
        "  indexed = [all_texts.vocab.stoi[t] for t in tokenized]\n",
        "  length = [len(indexed)]\n",
        "  tensor = torch.LongTensor(indexed).to(device)\n",
        "  tensor = tensor.unsqueeze(1)\n",
        "  length_tensor = torch.LongTensor(length)\n",
        "  prediction = torch.sigmoid(net(tensor, length_tensor))\n",
        "  return prediction"
      ],
      "execution_count": 69,
      "outputs": []
    },
    {
      "cell_type": "code",
      "metadata": {
        "colab": {
          "base_uri": "https://localhost:8080/"
        },
        "id": "6QfD7bYFOUbB",
        "outputId": "27967cbb-8cac-49ec-b2a8-eb4440284a84"
      },
      "source": [
        "y_pred_prob = predict_sentiment(net, \"This film is terrible\")\n",
        "y_pred_label = torch.round(y_pred_prob)\n",
        "\n",
        "y_pred_prob.item(), y_pred_label.item()"
      ],
      "execution_count": 71,
      "outputs": [
        {
          "output_type": "execute_result",
          "data": {
            "text/plain": [
              "(0.004626254551112652, 0.0)"
            ]
          },
          "metadata": {
            "tags": []
          },
          "execution_count": 71
        }
      ]
    },
    {
      "cell_type": "code",
      "metadata": {
        "colab": {
          "base_uri": "https://localhost:8080/"
        },
        "id": "YfEk8FnyPWmj",
        "outputId": "b59dcea4-cb0e-4848-9f9c-355b96a790bb"
      },
      "source": [
        "y_pred_prob = predict_sentiment(net, \"This film is great\")\n",
        "y_pred_label = torch.round(y_pred_prob)\n",
        "\n",
        "y_pred_prob.item(), y_pred_label.item()"
      ],
      "execution_count": 72,
      "outputs": [
        {
          "output_type": "execute_result",
          "data": {
            "text/plain": [
              "(0.9407355785369873, 1.0)"
            ]
          },
          "metadata": {
            "tags": []
          },
          "execution_count": 72
        }
      ]
    },
    {
      "cell_type": "markdown",
      "metadata": {
        "id": "tEjn2yCuPkVw"
      },
      "source": [
        "# Section 4 感情分析の高速化【サンプルコード】"
      ]
    },
    {
      "cell_type": "markdown",
      "metadata": {
        "id": "kUxYcVWtQujy"
      },
      "source": [
        "## Section 4.3 訓練データとテストデータの用意"
      ]
    },
    {
      "cell_type": "code",
      "metadata": {
        "colab": {
          "base_uri": "https://localhost:8080/"
        },
        "id": "nhN5PdaSPo3H",
        "outputId": "314ff1f7-d56b-42d7-9422-8b3fcf5f4890"
      },
      "source": [
        "def generate_bigrams(x):\n",
        "  n_grams = set(zip(*[x[i:] for i in range(2)]))\n",
        "\n",
        "  for n_gram in n_grams:\n",
        "    x.append(\" \".join(n_gram))\n",
        "  return x\n",
        "\n",
        "generate_bigrams([\"This\", \"film\", \"is\", \"terrible\"])"
      ],
      "execution_count": 73,
      "outputs": [
        {
          "output_type": "execute_result",
          "data": {
            "text/plain": [
              "['This', 'film', 'is', 'terrible', 'is terrible', 'This film', 'film is']"
            ]
          },
          "metadata": {
            "tags": []
          },
          "execution_count": 73
        }
      ]
    },
    {
      "cell_type": "code",
      "metadata": {
        "id": "NGvBn1oERIwT"
      },
      "source": [
        "all_texts = data.Field(tokenize=\"spacy\", preprocessing=generate_bigrams)\n",
        "all_labels = data.LabelField(dtype=torch.float)"
      ],
      "execution_count": 74,
      "outputs": []
    },
    {
      "cell_type": "code",
      "metadata": {
        "colab": {
          "base_uri": "https://localhost:8080/"
        },
        "id": "gOUBTpxRRZPG",
        "outputId": "5714bf86-ae98-4b44-d29e-83fc6b2cec11"
      },
      "source": [
        "train_dataset, test_dataset = datasets.IMDB.splits(all_texts, all_labels)\n",
        "\n",
        "len(train_dataset), len(test_dataset)"
      ],
      "execution_count": 75,
      "outputs": [
        {
          "output_type": "execute_result",
          "data": {
            "text/plain": [
              "(25000, 25000)"
            ]
          },
          "metadata": {
            "tags": []
          },
          "execution_count": 75
        }
      ]
    },
    {
      "cell_type": "code",
      "metadata": {
        "colab": {
          "base_uri": "https://localhost:8080/"
        },
        "id": "aTMI2GqjRksv",
        "outputId": "3b6b2a6e-3e02-4d48-a409-d3081ad0d642"
      },
      "source": [
        "print(vars(train_dataset.examples[0]))"
      ],
      "execution_count": 76,
      "outputs": [
        {
          "output_type": "stream",
          "text": [
            "{'text': ['This', 'may', 'just', 'be', 'the', 'most', 'nostalgic', 'journey', 'back', 'in', 'time', '&', 'through', 'time', 'to', 'when', 'one', \"'s\", 'childhood', 'starts', 'a', 'journey', 'to', 'reminiscences', 'back', '&', 'forth', 'onwards', '&', 'upwards', ',', 'forwards', '&', 'backwards', ',', 'up', '&', 'down', '&', 'all', 'around', '.', 'The', 'boy', 'Jimmy', ',', 'H.R.', 'Puffinstuff', ',', 'Dr', '.', 'Blinky', ',', 'Cling', '&', 'Clang', ',', 'Ludicrous', 'Lion', ',', '&', 'even', 'the', 'evil', 'Witchie', 'Poo', 'too', 'through', '&', 'through', '.', 'The', 'latter', 'day', 'inspirations', 'of', 'Lidsville,\"The', 'Brady', 'Kids', 'Saturday', 'Morning', 'Preview', 'Special', '\"', 'Sigmund', '&', 'the', 'Sea', 'Monsters', ',', 'and', 'Land', 'of', 'the', 'lost', 'both', 'the', 'new', '&', 'old', 'are', 'what', 'this', 'very', 'show', 'bridged', 'the', 'gap', 'to', 'as', 'well', 'as', 'The', 'Donny', '&', 'Marie', 'Show', ',', 'The', 'Brady', 'Bunch', 'Variety', 'Hour', 'a.k.a', '.', 'Brady', 'Bunch', 'Hour', '&', 'Even', 'The', 'Paul', 'Lynde', 'Halloween', 'Special', '.', 'Maybe', 'even', 'other', 'things', 'in', 'between', '&', 'Beyond', 'the', 'Buck', 'just', 'keeps', 'on', 'moving', 'on', '&', 'on', '&', 'even', 'beyond', 'expectations', '&', 'as', 'well', 'as', 'unexpected', 'bounds', '.', 'Now', 'as', 'we', 'get', 'updated', 'in', 'March', 'of', \"'\", '06', 'we', 'know', 'that', 'Jack', 'Wild', \"'s\", 'gone', '&', 'so', 'now', 'it', 'make', \"'s\", 'it', 'even', 'more', 'symbolic', 'for', 'us', 'to', 'really', 'get', 'nostalgic', '.', 'Including', 'now', 'in', 'August', 'of', \"'\", '06', 'both', 'when', 'Jack', 'Wild', 'guest', 'stars', 'as', 'himself', 'on', 'Sigmund', 'and', 'The', 'Sea', 'Monsters', 'as', 'well', 'as', 'when', 'on', 'a', 'latter', 'episode', 'H.R.Puffinstuff', 'does', 'too', 'and', 'to', 'recall', 'all', 'of', 'the', 'other', 'nostalgic', 'journeys', 'of', 'all', 'the', 'Syd', '&', 'Marty', 'Kroft', 'Characters', 'as', 'well', 'including', 'The', 'H.R.Puffinstuff', 'Goodtime', 'Club;The', 'Donny', 'and', 'Marie', 'Show;The', 'Brady', 'Bunch', 'Variety', 'Hour', 'a.k.a', '.', 'The', 'Brady', 'Bunch', 'Hour;etc', '.', 'Truthfully', ',', 'Stephen', '\"', 'Steve', '\"', 'G.', 'Baer', 'a.k.a', '.', '\"', 'Ste', '\"', 'of', 'Framingham', ',', 'Ma', '.', 'USA', '.', 'Brady Bunch', 'a journey', 'other nostalgic', ', H.R.', 'Baer a.k.a', 'nostalgic journeys', 'all around', ', Cling', 'the Sea', 'Bunch Hour', 'Clang ,', 'the most', 'Goodtime Club;The', 'we get', 'Poo too', 'expectations &', '& down', 'day inspirations', 'Now as', 'forwards &', 'and The', 'This may', '\" of', 'may just', '. Brady', 'that Jack', 'on moving', '& backwards', 'are what', 'of the', 'even other', 'Dr .', 'on &', \"'s gone\", 'on Sigmund', 'Show ,', '. Truthfully', 'Blinky ,', ', and', 'other things', 'Special \"', 'Donny and', 'Jack Wild', 'Bunch Variety', 'keeps on', ', Dr', '06 we', 'through time', 'to really', '& Marie', 'to when', 'Special .', 'Characters as', '. Maybe', '& Marty', '& all', 'we know', 'even beyond', 'Land of', 'The Brady', 'recall all', ', Stephen', 'Sea Monsters', 'Monsters as', 'both when', 'and to', '\" Steve', 'bounds .', 'Beyond the', 'be the', '. \"', 'Jimmy ,', 'even more', 'Ste \"', 'too and', 'around .', 'in between', 'upwards ,', '& old', 'Syd &', 'time &', 'Even The', \"Wild 's\", 'Club;The Donny', 'The latter', 'new &', 'both the', ', The', 'on a', 'of all', 'Hour &', 'Sigmund and', '& so', 'know that', 'The Sea', 'starts a', \"of '\", 'guest stars', 'including The', 'Puffinstuff ,', 'Ludicrous Lion', 'to as', 'Halloween Special', 'latter day', 'Witchie Poo', 'of Framingham', '\" Ste', '. The', 'lost both', 'The Donny', 'Saturday Morning', 'Brady Kids', 'USA .', 'really get', '& the', 'as himself', 'March of', \"make 's\", 'Marie Show;The', 'gone &', 'down &', '& Beyond', 'when on', '& Clang', 'latter episode', 'episode H.R.Puffinstuff', 'Kids Saturday', 'time to', 'Lion ,', ', Ludicrous', 'and Land', \"'s childhood\", 'Paul Lynde', 'moving on', \"' 06\", 'bridged the', ', Ma', 'Including now', 'and Marie', 'through .', 'journey to', 'get updated', '06 both', \"one 's\", 'as when', '& even', 'Sigmund &', 'in August', 'the Syd', '. Including', 'Hour;etc .', 'nostalgic journey', '. USA', 'Cling &', 'Hour a.k.a', 'very show', 'a latter', 'Steve \"', 'all the', 'old are', 'Maybe even', 'unexpected bounds', 'Monsters ,', 'as The', '& forth', 'the gap', 'journey back', 'back in', 'Lynde Halloween', 'things in', 'beyond expectations', '& as', 'it make', \"'s it\", 'get nostalgic', 'now it', 'as unexpected', 'G. Baer', 'well including', 'most nostalgic', 'reminiscences back', 'Variety Hour', 'Marty Kroft', '\" Sigmund', 'Lidsville,\"The Brady', 'Preview Special', 'The Paul', 'H.R.Puffinstuff Goodtime', 'even the', 'Truthfully ,', 'nostalgic .', 'onwards &', 'backwards ,', 'the lost', 'this very', 'back &', 'the other', 'to reminiscences', '& through', 'the new', 'through &', ', &', 'too through', 'Bunch Hour;etc', 'Show;The Brady', 'Ma .', 'symbolic for', 'inspirations of', 'up &', 'in March', 'for us', 'when Jack', 'Buck just', 'The boy', ', forwards', 'just keeps', '& Even', 'when one', '& on', 'now in', 'the evil', 'H.R.Puffinstuff does', 'more symbolic', 'the Buck', 'of Lidsville,\"The', 'H.R. Puffinstuff', 'evil Witchie', 'himself on', 'as we', 'what this', 'to recall', 'The H.R.Puffinstuff', 'does too', ', up', 'forth onwards', '. Now', 'updated in', '\" G.', 'Marie Show', 'childhood starts', 'between &', 'stars as', 'as well', 'a.k.a .', 'Wild guest', 'Donny &', 'so now', 'Stephen \"', 'Framingham ,', 'all of', 'show bridged', 'just be', 'August of', 'well as', 'gap to', '. Blinky', 'in time', 'it even', '& upwards', 'Morning Preview', 'us to', 'Kroft Characters', 'boy Jimmy', 'journeys of'], 'label': 'pos'}\n"
          ],
          "name": "stdout"
        }
      ]
    },
    {
      "cell_type": "code",
      "metadata": {
        "colab": {
          "base_uri": "https://localhost:8080/"
        },
        "id": "eI-o9h1ORpXn",
        "outputId": "3f765b59-963d-428d-b1d5-d8c110702878"
      },
      "source": [
        "max_vocab_size = 25_000\n",
        "\n",
        "all_texts.build_vocab(\n",
        "    train_dataset,\n",
        "    max_size=max_vocab_size,\n",
        "    vectors=\"glove.6B.100d\",\n",
        "    unk_init=torch.Tensor.normal_\n",
        ")\n",
        "\n",
        "all_labels.build_vocab(train_dataset)\n",
        "\n",
        "len(all_texts.vocab), len(all_labels.vocab)"
      ],
      "execution_count": 77,
      "outputs": [
        {
          "output_type": "execute_result",
          "data": {
            "text/plain": [
              "(25002, 2)"
            ]
          },
          "metadata": {
            "tags": []
          },
          "execution_count": 77
        }
      ]
    },
    {
      "cell_type": "code",
      "metadata": {
        "colab": {
          "base_uri": "https://localhost:8080/"
        },
        "id": "G6h-Hj_WSK9u",
        "outputId": "ae430f4d-6711-48e3-80a6-c0b13ea7ae57"
      },
      "source": [
        "all_texts.vocab.freqs.most_common(20)"
      ],
      "execution_count": 78,
      "outputs": [
        {
          "output_type": "execute_result",
          "data": {
            "text/plain": [
              "[('the', 289838),\n",
              " (',', 275296),\n",
              " ('.', 236843),\n",
              " ('and', 156483),\n",
              " ('a', 156282),\n",
              " ('of', 144055),\n",
              " ('to', 133886),\n",
              " ('is', 109095),\n",
              " ('in', 87676),\n",
              " ('I', 77546),\n",
              " ('it', 76545),\n",
              " ('that', 70355),\n",
              " ('\"', 63329),\n",
              " (\"'s\", 61928),\n",
              " ('this', 60483),\n",
              " ('-', 52863),\n",
              " ('/><br', 50935),\n",
              " ('was', 50013),\n",
              " ('as', 43508),\n",
              " ('with', 42807)]"
            ]
          },
          "metadata": {
            "tags": []
          },
          "execution_count": 78
        }
      ]
    },
    {
      "cell_type": "code",
      "metadata": {
        "colab": {
          "base_uri": "https://localhost:8080/"
        },
        "id": "C9VWgKCPVg_x",
        "outputId": "a2dfa14d-24bf-4a6f-86ca-202d3f42ffa8"
      },
      "source": [
        "all_texts.vocab.itos[:10]"
      ],
      "execution_count": 79,
      "outputs": [
        {
          "output_type": "execute_result",
          "data": {
            "text/plain": [
              "['<unk>', '<pad>', 'the', ',', '.', 'and', 'a', 'of', 'to', 'is']"
            ]
          },
          "metadata": {
            "tags": []
          },
          "execution_count": 79
        }
      ]
    },
    {
      "cell_type": "code",
      "metadata": {
        "colab": {
          "base_uri": "https://localhost:8080/"
        },
        "id": "lxswA5ltVlYA",
        "outputId": "a17a5670-6f72-47c1-c2be-52055f0814c7"
      },
      "source": [
        "all_labels.vocab.stoi"
      ],
      "execution_count": 80,
      "outputs": [
        {
          "output_type": "execute_result",
          "data": {
            "text/plain": [
              "defaultdict(<function torchtext.vocab._default_unk_index>,\n",
              "            {'neg': 0, 'pos': 1})"
            ]
          },
          "metadata": {
            "tags": []
          },
          "execution_count": 80
        }
      ]
    },
    {
      "cell_type": "code",
      "metadata": {
        "colab": {
          "base_uri": "https://localhost:8080/"
        },
        "id": "cW3lvh0uVoS6",
        "outputId": "3abc04cb-d6f6-4683-ed2a-6022aa0ee646"
      },
      "source": [
        "batch_size = 64\n",
        "device"
      ],
      "execution_count": 81,
      "outputs": [
        {
          "output_type": "execute_result",
          "data": {
            "text/plain": [
              "device(type='cuda')"
            ]
          },
          "metadata": {
            "tags": []
          },
          "execution_count": 81
        }
      ]
    },
    {
      "cell_type": "code",
      "metadata": {
        "colab": {
          "base_uri": "https://localhost:8080/"
        },
        "id": "AoB8c_e8Vtyo",
        "outputId": "c34d876a-b0ce-4daa-e2c3-fc64e0e8ece7"
      },
      "source": [
        "train_batch, test_batch = data.BucketIterator.splits(\n",
        "    (train_dataset, test_dataset),\n",
        "    batch_size=batch_size,\n",
        "    device=device\n",
        ")\n",
        "\n",
        "for batch in train_batch:\n",
        "  print(f\"text size: {batch.text[0].size()}\")\n",
        "  print(f\"seq size: {batch.text[1].size()}\")\n",
        "  print(f\"label size: {batch.label.size()}\")\n",
        "  break"
      ],
      "execution_count": 83,
      "outputs": [
        {
          "output_type": "stream",
          "text": [
            "text size: torch.Size([64])\n",
            "seq size: torch.Size([64])\n",
            "label size: torch.Size([64])\n"
          ],
          "name": "stdout"
        }
      ]
    },
    {
      "cell_type": "markdown",
      "metadata": {
        "id": "riDZaDQEWV_4"
      },
      "source": [
        "## Section 4.4 ニューラルネットワークの定義"
      ]
    },
    {
      "cell_type": "code",
      "metadata": {
        "id": "YH-8IIZ-WL4d"
      },
      "source": [
        "class Net(nn.Module):\n",
        "  def __init__(self, D_in, D_embedding, D_out, pad_idx):\n",
        "    super(Net, self).__init__()\n",
        "    self.embedding = nn.Embedding(D_in, D_embedding, padding_idx=pad_idx)\n",
        "    self.linear = nn.Linear(D_embedding, D_out)\n",
        "  \n",
        "  def forward(self, x):\n",
        "    embedded = self.embedding(x)\n",
        "    embedded = embedded.permute(1, 0, 2)\n",
        "    pooled = F.avg_pool2d(embedded, (embedded.shape[1], 1)).squeeze(1)\n",
        "    output = self.linear(pooled)\n",
        "    return output"
      ],
      "execution_count": 84,
      "outputs": []
    },
    {
      "cell_type": "code",
      "metadata": {
        "colab": {
          "base_uri": "https://localhost:8080/"
        },
        "id": "TGUHIjjnXlwG",
        "outputId": "5d9373cd-c7c8-46f3-fe98-00f9ea7781e9"
      },
      "source": [
        "D_in = len(all_texts.vocab)\n",
        "D_embedding = 100\n",
        "D_out = 1\n",
        "pad_idx = all_texts.vocab.stoi[all_texts.pad_token]\n",
        "\n",
        "net = Net(D_in, D_embedding, D_out, pad_idx).to(device)\n",
        "net"
      ],
      "execution_count": 85,
      "outputs": [
        {
          "output_type": "execute_result",
          "data": {
            "text/plain": [
              "Net(\n",
              "  (embedding): Embedding(25002, 100, padding_idx=1)\n",
              "  (linear): Linear(in_features=100, out_features=1, bias=True)\n",
              ")"
            ]
          },
          "metadata": {
            "tags": []
          },
          "execution_count": 85
        }
      ]
    },
    {
      "cell_type": "code",
      "metadata": {
        "colab": {
          "base_uri": "https://localhost:8080/"
        },
        "id": "mAhlBioFX7Uc",
        "outputId": "a9f066dc-6b4d-4686-b989-5bc3d8042fcf"
      },
      "source": [
        "pretrained_embeddings = all_texts.vocab.vectors\n",
        "pretrained_embeddings.shape"
      ],
      "execution_count": 86,
      "outputs": [
        {
          "output_type": "execute_result",
          "data": {
            "text/plain": [
              "torch.Size([25002, 100])"
            ]
          },
          "metadata": {
            "tags": []
          },
          "execution_count": 86
        }
      ]
    },
    {
      "cell_type": "code",
      "metadata": {
        "colab": {
          "base_uri": "https://localhost:8080/"
        },
        "id": "ayGOcS8BYIGR",
        "outputId": "3a1e35fb-e39d-4e40-8f00-82b2f330ae20"
      },
      "source": [
        "net.embedding.weight.data.copy_(pretrained_embeddings)"
      ],
      "execution_count": 87,
      "outputs": [
        {
          "output_type": "execute_result",
          "data": {
            "text/plain": [
              "tensor([[-1.4587, -0.2021,  0.9996,  ..., -1.2870, -0.8841,  0.2154],\n",
              "        [-1.5164, -1.2080, -0.4500,  ..., -1.5151, -0.9987, -0.2322],\n",
              "        [-0.0382, -0.2449,  0.7281,  ..., -0.1459,  0.8278,  0.2706],\n",
              "        ...,\n",
              "        [ 1.3951, -1.1500, -0.2021,  ..., -0.1971,  0.2009, -0.2663],\n",
              "        [ 1.1064, -0.7843,  0.9418,  ..., -0.0850, -0.4145,  0.0315],\n",
              "        [-0.1274, -0.2584, -0.3060,  ..., -0.0943, -0.0393, -0.1561]],\n",
              "       device='cuda:0')"
            ]
          },
          "metadata": {
            "tags": []
          },
          "execution_count": 87
        }
      ]
    },
    {
      "cell_type": "code",
      "metadata": {
        "colab": {
          "base_uri": "https://localhost:8080/"
        },
        "id": "sEI68KHSYMck",
        "outputId": "7bcaae30-931f-49fe-9460-0159cba136fc"
      },
      "source": [
        "unk_idx = all_texts.vocab.stoi[all_texts.unk_token]\n",
        "net.embedding.weight.data[unk_idx] = torch.zeros(D_embedding)\n",
        "net.embedding.weight.data[pad_idx] = torch.zeros(D_embedding)\n",
        "\n",
        "net.embedding.weight.data"
      ],
      "execution_count": 88,
      "outputs": [
        {
          "output_type": "execute_result",
          "data": {
            "text/plain": [
              "tensor([[ 0.0000,  0.0000,  0.0000,  ...,  0.0000,  0.0000,  0.0000],\n",
              "        [ 0.0000,  0.0000,  0.0000,  ...,  0.0000,  0.0000,  0.0000],\n",
              "        [-0.0382, -0.2449,  0.7281,  ..., -0.1459,  0.8278,  0.2706],\n",
              "        ...,\n",
              "        [ 1.3951, -1.1500, -0.2021,  ..., -0.1971,  0.2009, -0.2663],\n",
              "        [ 1.1064, -0.7843,  0.9418,  ..., -0.0850, -0.4145,  0.0315],\n",
              "        [-0.1274, -0.2584, -0.3060,  ..., -0.0943, -0.0393, -0.1561]],\n",
              "       device='cuda:0')"
            ]
          },
          "metadata": {
            "tags": []
          },
          "execution_count": 88
        }
      ]
    },
    {
      "cell_type": "markdown",
      "metadata": {
        "id": "cgnFR70-YT68"
      },
      "source": [
        "## Section 4.5 損失関数と最適化関数の定義"
      ]
    },
    {
      "cell_type": "code",
      "metadata": {
        "id": "U3QwgMVuYSfl"
      },
      "source": [
        "criterion = nn.BCEWithLogitsLoss()\n",
        "optimizer = optim.Adam(net.parameters())"
      ],
      "execution_count": 91,
      "outputs": []
    },
    {
      "cell_type": "markdown",
      "metadata": {
        "id": "5CDKIv8UYfvZ"
      },
      "source": [
        "## Section 4.6 学習"
      ]
    },
    {
      "cell_type": "code",
      "metadata": {
        "colab": {
          "base_uri": "https://localhost:8080/"
        },
        "id": "TANwLODxYbO4",
        "outputId": "388de28f-57de-48f2-a108-04b97833a6c8"
      },
      "source": [
        "train_loss_list = []\n",
        "test_loss_list = []\n",
        "train_accuracy_list = []\n",
        "test_accuracy_list = []\n",
        "\n",
        "epoch = 10\n",
        "for i in range(epoch):\n",
        "  print(\"-\" * 100)\n",
        "  print(f\"Epoch: {i + 1}/{epoch}\")\n",
        "\n",
        "  train_loss = 0\n",
        "  test_loss = 0\n",
        "  train_accuracy = 0\n",
        "  test_accuracy = 0\n",
        "\n",
        "  # train part\n",
        "  net.train()\n",
        "  for batch in train_batch:\n",
        "    texts = batch.text\n",
        "    labels = batch.label\n",
        "\n",
        "    optimizer.zero_grad()\n",
        "    y_pred_prob = net(texts).squeeze(1)\n",
        "    loss = criterion(y_pred_prob, labels)\n",
        "    loss.backward()\n",
        "    optimizer.step()\n",
        "\n",
        "    train_loss += loss.item()\n",
        "\n",
        "    y_pred_labels = torch.round(torch.sigmoid(y_pred_prob))\n",
        "    train_accuracy += torch.sum(y_pred_labels == labels).item() / len(labels)\n",
        "  \n",
        "  epoch_train_loss = train_loss / len(train_batch)\n",
        "  epoch_train_accuracy = train_accuracy / len(train_batch)\n",
        "\n",
        "  # eval part\n",
        "  net.eval()\n",
        "  with torch.no_grad():\n",
        "    for batch in test_batch:\n",
        "      texts = batch.text\n",
        "      labels = batch.label\n",
        "\n",
        "      y_pred_prob = net(texts).squeeze(1)\n",
        "      loss = criterion(y_pred_prob, labels)\n",
        "      test_loss += loss.item()\n",
        "\n",
        "      y_pred_labels = torch.round(torch.sigmoid(y_pred_prob))\n",
        "      test_accuracy += torch.sum(y_pred_labels == labels).item() / len(labels)\n",
        "  \n",
        "  epoch_test_loss = test_loss / len(test_batch)\n",
        "  epoch_test_accuracy = test_accuracy / len(test_batch)\n",
        "\n",
        "  print(f\"Train_Loss: {epoch_train_loss:.4f}, Train_Accuracy: {epoch_train_accuracy:.4f}\")\n",
        "  print(f\"Test_Loss: {epoch_test_loss:.4f}, Test_Accuracy: {epoch_test_accuracy:.4f}\")\n",
        "\n",
        "  train_loss_list.append(epoch_train_loss)\n",
        "  train_accuracy_list.append(epoch_train_accuracy)\n",
        "  test_loss_list.append(epoch_test_loss)\n",
        "  test_accuracy_list.append(epoch_test_accuracy)"
      ],
      "execution_count": 94,
      "outputs": [
        {
          "output_type": "stream",
          "text": [
            "----------------------------------------------------------------------------------------------------\n",
            "Epoch: 1/10\n",
            "Train_Loss: 0.6796, Train_Accuracy: 0.6324\n",
            "Test_Loss: 0.5730, Test_Accuracy: 0.7301\n",
            "----------------------------------------------------------------------------------------------------\n",
            "Epoch: 2/10\n",
            "Train_Loss: 0.5988, Train_Accuracy: 0.7814\n",
            "Test_Loss: 0.4586, Test_Accuracy: 0.7874\n",
            "----------------------------------------------------------------------------------------------------\n",
            "Epoch: 3/10\n",
            "Train_Loss: 0.4945, Train_Accuracy: 0.8387\n",
            "Test_Loss: 0.3887, Test_Accuracy: 0.8413\n",
            "----------------------------------------------------------------------------------------------------\n",
            "Epoch: 4/10\n",
            "Train_Loss: 0.4119, Train_Accuracy: 0.8715\n",
            "Test_Loss: 0.3856, Test_Accuracy: 0.8628\n",
            "----------------------------------------------------------------------------------------------------\n",
            "Epoch: 5/10\n",
            "Train_Loss: 0.3541, Train_Accuracy: 0.8903\n",
            "Test_Loss: 0.4034, Test_Accuracy: 0.8732\n",
            "----------------------------------------------------------------------------------------------------\n",
            "Epoch: 6/10\n",
            "Train_Loss: 0.3124, Train_Accuracy: 0.9018\n",
            "Test_Loss: 0.4173, Test_Accuracy: 0.8815\n",
            "----------------------------------------------------------------------------------------------------\n",
            "Epoch: 7/10\n",
            "Train_Loss: 0.2829, Train_Accuracy: 0.9105\n",
            "Test_Loss: 0.4389, Test_Accuracy: 0.8871\n",
            "----------------------------------------------------------------------------------------------------\n",
            "Epoch: 8/10\n",
            "Train_Loss: 0.2568, Train_Accuracy: 0.9173\n",
            "Test_Loss: 0.4556, Test_Accuracy: 0.8912\n",
            "----------------------------------------------------------------------------------------------------\n",
            "Epoch: 9/10\n",
            "Train_Loss: 0.2362, Train_Accuracy: 0.9233\n",
            "Test_Loss: 0.4751, Test_Accuracy: 0.8932\n",
            "----------------------------------------------------------------------------------------------------\n",
            "Epoch: 10/10\n",
            "Train_Loss: 0.2203, Train_Accuracy: 0.9291\n",
            "Test_Loss: 0.4932, Test_Accuracy: 0.8947\n"
          ],
          "name": "stdout"
        }
      ]
    },
    {
      "cell_type": "markdown",
      "metadata": {
        "id": "x26OZJLRZKsW"
      },
      "source": [
        "## Section 4.7 結果の可視化"
      ]
    },
    {
      "cell_type": "code",
      "metadata": {
        "colab": {
          "base_uri": "https://localhost:8080/",
          "height": 573
        },
        "id": "y7bhSoiFYoYB",
        "outputId": "bdbda220-4759-4c06-8a88-59ea9f2d44e8"
      },
      "source": [
        "plt.figure()\n",
        "plt.title('Train and Test Loss')\n",
        "plt.xlabel('Epoch')\n",
        "plt.ylabel('Loss')\n",
        "plt.plot(range(1, epoch+1), train_loss_list, color=\"blue\", linestyle=\"-\", label=\"Train_Loss\")\n",
        "plt.plot(range(1, epoch+1), test_loss_list, color='red', linestyle='--', label='Test_Loss')\n",
        "plt.legend()\n",
        "\n",
        "plt.figure()\n",
        "plt.title('Train and Test Accuracy')\n",
        "plt.xlabel('Epoch')\n",
        "plt.ylabel(\"Accuracy\")\n",
        "plt.plot(range(1, epoch+1), train_accuracy_list, color='blue', linestyle='-', label='Train_Accuracy')\n",
        "plt.plot(range(1, epoch+1), test_accuracy_list, color='red', linestyle='--', label='Test_Accuracy')\n",
        "plt.legend()\n",
        "\n",
        "plt.show()"
      ],
      "execution_count": 95,
      "outputs": [
        {
          "output_type": "display_data",
          "data": {
            "image/png": "[encoded data removed]",
            "text/plain": [
              "<Figure size 432x288 with 1 Axes>"
            ]
          },
          "metadata": {
            "tags": [],
            "needs_background": "light"
          }
        },
        {
          "output_type": "display_data",
          "data": {
            "image/png": "[encoded data removed]",
            "text/plain": [
              "<Figure size 432x288 with 1 Axes>"
            ]
          },
          "metadata": {
            "tags": [],
            "needs_background": "light"
          }
        }
      ]
    },
    {
      "cell_type": "code",
      "metadata": {
        "id": "YxXcUhRlZXEQ"
      },
      "source": [
        "nlp = spacy.load(\"en\")\n",
        "\n",
        "def predict_sentiment(net, sentence):\n",
        "  net.eval()\n",
        "  tokenized = [tok.text for tok in nlp.tokenizer(sentence)]\n",
        "  indexed = [all_texts.vocab.stoi[t] for t in tokenized]\n",
        "  tensor = torch.LongTensor(indexed).to(device)\n",
        "  tensor = tensor.unsqueeze(1)\n",
        "  prediction = torch.sigmoid(net(tensor))\n",
        "  return prediction"
      ],
      "execution_count": 96,
      "outputs": []
    },
    {
      "cell_type": "code",
      "metadata": {
        "colab": {
          "base_uri": "https://localhost:8080/"
        },
        "id": "mMfof-S2Zyob",
        "outputId": "fd0071c5-e50a-4486-9f48-78c172dbc666"
      },
      "source": [
        "y_pred_prob = predict_sentiment(net, \"This film is terrible\")\n",
        "y_pred_label = torch.round(y_pred_prob)\n",
        "\n",
        "y_pred_prob.item(), y_pred_label.item()"
      ],
      "execution_count": 97,
      "outputs": [
        {
          "output_type": "execute_result",
          "data": {
            "text/plain": [
              "(0.0, 0.0)"
            ]
          },
          "metadata": {
            "tags": []
          },
          "execution_count": 97
        }
      ]
    },
    {
      "cell_type": "code",
      "metadata": {
        "colab": {
          "base_uri": "https://localhost:8080/"
        },
        "id": "ln6OYcwPZ-sV",
        "outputId": "bd5bae9e-06a2-407c-fb41-f537e002de9e"
      },
      "source": [
        "y_pred_prob = predict_sentiment(net, \"This film is great\")\n",
        "y_pred_label = torch.round(y_pred_prob)\n",
        "\n",
        "y_pred_prob.item(), y_pred_label.item()"
      ],
      "execution_count": 98,
      "outputs": [
        {
          "output_type": "execute_result",
          "data": {
            "text/plain": [
              "(1.0, 1.0)"
            ]
          },
          "metadata": {
            "tags": []
          },
          "execution_count": 98
        }
      ]
    },
    {
      "cell_type": "markdown",
      "metadata": {
        "id": "5GCX8z5xaF_r"
      },
      "source": [
        "# Section 5 CNNを用いた感情分析【サンプルコード】"
      ]
    },
    {
      "cell_type": "markdown",
      "metadata": {
        "id": "LRWnhZJfarKy"
      },
      "source": [
        "## Section 5.2 訓練データとテストデータの用意"
      ]
    },
    {
      "cell_type": "code",
      "metadata": {
        "id": "bQjs7ZMraBzQ"
      },
      "source": [
        "all_texts = data.Field(tokenize=\"spacy\", batch_first=True)\n",
        "all_labels = data.LabelField(dtype=torch.float)"
      ],
      "execution_count": 99,
      "outputs": []
    },
    {
      "cell_type": "code",
      "metadata": {
        "id": "mLW5WR4ka4FS"
      },
      "source": [
        "train_dataset, test_dataset = datasets.IMDB.splits(all_texts, all_labels)"
      ],
      "execution_count": 100,
      "outputs": []
    },
    {
      "cell_type": "code",
      "metadata": {
        "id": "t1M_6Yaga_3p"
      },
      "source": [
        "max_vocab_size = 25_000\n",
        "all_texts.build_vocab(\n",
        "    train_dataset,\n",
        "    max_size=max_vocab_size,\n",
        "    vectors=\"glove.6B.100d\",\n",
        "    unk_init=torch.Tensor.normal_\n",
        ")\n",
        "\n",
        "all_labels.build_vocab(train_dataset)"
      ],
      "execution_count": 101,
      "outputs": []
    },
    {
      "cell_type": "code",
      "metadata": {
        "id": "K2C-mGDRbVwR"
      },
      "source": [
        "batch_size = 64\n",
        "\n",
        "train_batch, test_batch = data.BucketIterator.splits(\n",
        "    (train_dataset, test_dataset),\n",
        "    batch_size=batch_size,\n",
        "    device=device\n",
        ")"
      ],
      "execution_count": 103,
      "outputs": []
    },
    {
      "cell_type": "markdown",
      "metadata": {
        "id": "v130QlA2bp1a"
      },
      "source": [
        "## Section 5.3 ニューラルネットワークの定義"
      ]
    },
    {
      "cell_type": "code",
      "metadata": {
        "id": "G9bRM6N9blcU"
      },
      "source": [
        "class Net(nn.Module):\n",
        "  def __init__(self, D_in, D_embedding, n_kernels, kernel_size, D_out, dropout, pad_idx):\n",
        "    super(Net, self).__init__()\n",
        "    self.embedding = nn.Embedding(D_in, D_embedding, padding_idx=pad_idx)\n",
        "\n",
        "    self.conv0 = nn.Conv2d(in_channels=1,\n",
        "                           out_channels=n_kernels,\n",
        "                           kernel_size=(kernel_size[0], D_embedding))\n",
        "    \n",
        "    self.conv1 = nn.Conv2d(in_channels=1,\n",
        "                           out_channels=n_kernels,\n",
        "                           kernel_size=(kernel_size[1], D_embedding))\n",
        "    \n",
        "    self.conv2 = nn.Conv2d(in_channels=1,\n",
        "                           out_channels=n_kernels,\n",
        "                           kernel_size=(kernel_size[2], D_embedding))\n",
        "    \n",
        "    self.linear = nn.Linear(len(kernel_size) * n_kernels, D_out)\n",
        "    self.dropout = nn.Dropout(dropout)\n",
        "  \n",
        "  def forward(self, x):\n",
        "    embedded = self.embedding(x)\n",
        "    embedded = embedded.unsqueeze(1)\n",
        "\n",
        "    conved0 = F.relu(self.conv0(embedded).squeeze(3))\n",
        "    conved1 = F.relu(self.conv1(embedded).squeeze(3))\n",
        "    conved2 = F.relu(self.conv2(embedded).squeeze(3))\n",
        "\n",
        "    pooled0 = F.max_pool1d(conved0, conved0.shape[2]).squeeze(2)\n",
        "    pooled1 = F.max_pool1d(conved1, conved1.shape[2]).squeeze(2)\n",
        "    pooled2 = F.max_pool1d(conved2, conved2.shape[2]).squeeze(2)\n",
        "\n",
        "    cat = self.dropout(torch.cat((pooled0, pooled1, pooled2), dim=1))\n",
        "    output = self.linear(cat)\n",
        "    return output"
      ],
      "execution_count": 104,
      "outputs": []
    },
    {
      "cell_type": "code",
      "metadata": {
        "colab": {
          "base_uri": "https://localhost:8080/"
        },
        "id": "A5Z4N0iOee1_",
        "outputId": "9168f400-ce6c-4999-d21e-f76448686370"
      },
      "source": [
        "D_in = len(all_texts.vocab)\n",
        "D_embedding = 100\n",
        "n_kernels = 100\n",
        "kernel_size = [3, 4, 5]\n",
        "D_out = 1\n",
        "dropout=0.5\n",
        "pad_idx = all_texts.vocab.stoi[all_texts.pad_token]\n",
        "\n",
        "net = Net(D_in,\n",
        "          D_embedding,\n",
        "          n_kernels,\n",
        "          kernel_size,\n",
        "          D_out,\n",
        "          dropout,\n",
        "          pad_idx).to(device)\n",
        "net"
      ],
      "execution_count": 105,
      "outputs": [
        {
          "output_type": "execute_result",
          "data": {
            "text/plain": [
              "Net(\n",
              "  (embedding): Embedding(25002, 100, padding_idx=1)\n",
              "  (conv0): Conv2d(1, 100, kernel_size=(3, 100), stride=(1, 1))\n",
              "  (conv1): Conv2d(1, 100, kernel_size=(4, 100), stride=(1, 1))\n",
              "  (conv2): Conv2d(1, 100, kernel_size=(5, 100), stride=(1, 1))\n",
              "  (linear): Linear(in_features=300, out_features=1, bias=True)\n",
              "  (dropout): Dropout(p=0.5, inplace=False)\n",
              ")"
            ]
          },
          "metadata": {
            "tags": []
          },
          "execution_count": 105
        }
      ]
    },
    {
      "cell_type": "code",
      "metadata": {
        "colab": {
          "base_uri": "https://localhost:8080/"
        },
        "id": "2X1ttSRAe_HL",
        "outputId": "d1fffd80-6e0e-48ac-9170-0afd5761392e"
      },
      "source": [
        "pretrained_embeddings = all_texts.vocab.vectors\n",
        "net.embedding.weight.data.copy_(pretrained_embeddings)"
      ],
      "execution_count": 106,
      "outputs": [
        {
          "output_type": "execute_result",
          "data": {
            "text/plain": [
              "tensor([[ 0.3835,  2.8597,  0.3658,  ...,  1.5344,  0.4940,  1.0467],\n",
              "        [ 0.7238,  0.2885,  0.4933,  ..., -0.7712,  2.0372, -1.0866],\n",
              "        [-0.0382, -0.2449,  0.7281,  ..., -0.1459,  0.8278,  0.2706],\n",
              "        ...,\n",
              "        [-1.0295,  0.2045,  1.0040,  ..., -0.7419,  0.2499, -1.4894],\n",
              "        [ 0.5122, -0.3090,  1.4008,  ...,  1.9170, -0.1279, -1.1358],\n",
              "        [-0.4191, -0.0881, -0.0468,  ...,  2.3983, -0.2747,  0.1161]],\n",
              "       device='cuda:0')"
            ]
          },
          "metadata": {
            "tags": []
          },
          "execution_count": 106
        }
      ]
    },
    {
      "cell_type": "code",
      "metadata": {
        "colab": {
          "base_uri": "https://localhost:8080/"
        },
        "id": "3Bf7k_3ZfK_6",
        "outputId": "99bf102e-201f-4ecd-949b-a07975504924"
      },
      "source": [
        "unk_idx = all_texts.vocab.stoi[all_texts.unk_token]\n",
        "net.embedding.weight.data[unk_idx] = torch.zeros(D_embedding)\n",
        "net.embedding.weight.data[pad_idx] = torch.zeros(D_embedding)\n",
        "\n",
        "net.embedding.weight.data"
      ],
      "execution_count": 107,
      "outputs": [
        {
          "output_type": "execute_result",
          "data": {
            "text/plain": [
              "tensor([[ 0.0000,  0.0000,  0.0000,  ...,  0.0000,  0.0000,  0.0000],\n",
              "        [ 0.0000,  0.0000,  0.0000,  ...,  0.0000,  0.0000,  0.0000],\n",
              "        [-0.0382, -0.2449,  0.7281,  ..., -0.1459,  0.8278,  0.2706],\n",
              "        ...,\n",
              "        [-1.0295,  0.2045,  1.0040,  ..., -0.7419,  0.2499, -1.4894],\n",
              "        [ 0.5122, -0.3090,  1.4008,  ...,  1.9170, -0.1279, -1.1358],\n",
              "        [-0.4191, -0.0881, -0.0468,  ...,  2.3983, -0.2747,  0.1161]],\n",
              "       device='cuda:0')"
            ]
          },
          "metadata": {
            "tags": []
          },
          "execution_count": 107
        }
      ]
    },
    {
      "cell_type": "markdown",
      "metadata": {
        "id": "gVFPOMi4fSRr"
      },
      "source": [
        "## Section 5.4 損失関数と最適化関数の定義"
      ]
    },
    {
      "cell_type": "code",
      "metadata": {
        "id": "wfl4NptwfQVZ"
      },
      "source": [
        "criterion = nn.BCEWithLogitsLoss()\n",
        "optimizer = optim.Adam(net.parameters())"
      ],
      "execution_count": 108,
      "outputs": []
    },
    {
      "cell_type": "markdown",
      "metadata": {
        "id": "Qc2tkYuDfaSF"
      },
      "source": [
        "## Section 5.5 学習"
      ]
    },
    {
      "cell_type": "code",
      "metadata": {
        "colab": {
          "base_uri": "https://localhost:8080/"
        },
        "id": "tTWcbRdgfYKE",
        "outputId": "fbd71b5b-db82-462d-9e70-7ee85c63d89e"
      },
      "source": [
        "train_loss_list = []\n",
        "test_loss_list = []\n",
        "train_accuracy_list = []\n",
        "test_accuracy_list = []\n",
        "\n",
        "epoch = 10\n",
        "for i in range(epoch):\n",
        "  print(\"-\" * 100)\n",
        "  print(f\"Epoch: {i + 1}/{epoch}\")\n",
        "\n",
        "  train_loss = 0\n",
        "  test_loss = 0\n",
        "  train_accuracy = 0\n",
        "  test_accuracy = 0\n",
        "\n",
        "  # train part\n",
        "  net.train()\n",
        "  for batch in train_batch:\n",
        "    texts = batch.text\n",
        "    labels = batch.label\n",
        "\n",
        "    optimizer.zero_grad()\n",
        "    y_pred_prob = net(texts).squeeze(1)\n",
        "    loss = criterion(y_pred_prob, labels)\n",
        "    loss.backward()\n",
        "    optimizer.step()\n",
        "\n",
        "    train_loss += loss.item()\n",
        "\n",
        "    y_pred_labels = torch.round(torch.sigmoid(y_pred_prob))\n",
        "    train_accuracy += torch.sum(y_pred_labels == labels).item() / len(labels)\n",
        "  \n",
        "  epoch_train_loss = train_loss / len(train_batch)\n",
        "  epoch_train_accuracy = train_accuracy / len(train_batch)\n",
        "\n",
        "  # eval part\n",
        "  net.eval()\n",
        "  with torch.no_grad():\n",
        "    for batch in test_batch:\n",
        "      texts = batch.text\n",
        "      labels = batch.label\n",
        "\n",
        "      y_pred_prob = net(texts).squeeze(1)\n",
        "      loss = criterion(y_pred_prob, labels)\n",
        "      test_loss += loss.item()\n",
        "\n",
        "      y_pred_labels = torch.round(torch.sigmoid(y_pred_prob))\n",
        "      test_accuracy += torch.sum(y_pred_labels == labels).item() / len(labels)\n",
        "  \n",
        "  epoch_test_loss = test_loss / len(test_batch)\n",
        "  epoch_test_accuracy = test_accuracy / len(test_batch)\n",
        "\n",
        "  print(f\"Train_Loss: {epoch_train_loss:.4f}, Train_Accuracy: {epoch_train_accuracy:.4f}\")\n",
        "  print(f\"Test_Loss: {epoch_test_loss:.4f}, Test_Accuracy: {epoch_test_accuracy:.4f}\")\n",
        "\n",
        "  train_loss_list.append(epoch_train_loss)\n",
        "  train_accuracy_list.append(epoch_train_accuracy)\n",
        "  test_loss_list.append(epoch_test_loss)\n",
        "  test_accuracy_list.append(epoch_test_accuracy)"
      ],
      "execution_count": 109,
      "outputs": [
        {
          "output_type": "stream",
          "text": [
            "----------------------------------------------------------------------------------------------------\n",
            "Epoch: 1/10\n",
            "Train_Loss: 0.6049, Train_Accuracy: 0.6535\n",
            "Test_Loss: 0.4302, Test_Accuracy: 0.8056\n",
            "----------------------------------------------------------------------------------------------------\n",
            "Epoch: 2/10\n",
            "Train_Loss: 0.3674, Train_Accuracy: 0.8404\n",
            "Test_Loss: 0.3341, Test_Accuracy: 0.8548\n",
            "----------------------------------------------------------------------------------------------------\n",
            "Epoch: 3/10\n",
            "Train_Loss: 0.2684, Train_Accuracy: 0.8902\n",
            "Test_Loss: 0.3164, Test_Accuracy: 0.8646\n",
            "----------------------------------------------------------------------------------------------------\n",
            "Epoch: 4/10\n",
            "Train_Loss: 0.1880, Train_Accuracy: 0.9286\n",
            "Test_Loss: 0.3212, Test_Accuracy: 0.8670\n",
            "----------------------------------------------------------------------------------------------------\n",
            "Epoch: 5/10\n",
            "Train_Loss: 0.1388, Train_Accuracy: 0.9489\n",
            "Test_Loss: 0.3468, Test_Accuracy: 0.8661\n",
            "----------------------------------------------------------------------------------------------------\n",
            "Epoch: 6/10\n",
            "Train_Loss: 0.0945, Train_Accuracy: 0.9664\n",
            "Test_Loss: 0.3812, Test_Accuracy: 0.8642\n",
            "----------------------------------------------------------------------------------------------------\n",
            "Epoch: 7/10\n",
            "Train_Loss: 0.0680, Train_Accuracy: 0.9766\n",
            "Test_Loss: 0.4237, Test_Accuracy: 0.8624\n",
            "----------------------------------------------------------------------------------------------------\n",
            "Epoch: 8/10\n",
            "Train_Loss: 0.0524, Train_Accuracy: 0.9820\n",
            "Test_Loss: 0.4850, Test_Accuracy: 0.8542\n",
            "----------------------------------------------------------------------------------------------------\n",
            "Epoch: 9/10\n",
            "Train_Loss: 0.0378, Train_Accuracy: 0.9883\n",
            "Test_Loss: 0.5260, Test_Accuracy: 0.8555\n",
            "----------------------------------------------------------------------------------------------------\n",
            "Epoch: 10/10\n",
            "Train_Loss: 0.0280, Train_Accuracy: 0.9916\n",
            "Test_Loss: 0.5755, Test_Accuracy: 0.8540\n"
          ],
          "name": "stdout"
        }
      ]
    },
    {
      "cell_type": "markdown",
      "metadata": {
        "id": "gIBhixi8f09x"
      },
      "source": [
        "## Section 5.6 結果の可視化"
      ]
    },
    {
      "cell_type": "code",
      "metadata": {
        "colab": {
          "base_uri": "https://localhost:8080/",
          "height": 573
        },
        "id": "lIJMUUZ5fyDd",
        "outputId": "ac586fce-ae6d-4e92-9326-5ae3c28fbca4"
      },
      "source": [
        "plt.figure()\n",
        "plt.title('Train and Test Loss')\n",
        "plt.xlabel('Epoch')\n",
        "plt.ylabel('Loss')\n",
        "plt.plot(range(1, epoch+1), train_loss_list, color=\"blue\", linestyle=\"-\", label=\"Train_Loss\")\n",
        "plt.plot(range(1, epoch+1), test_loss_list, color='red', linestyle='--', label='Test_Loss')\n",
        "plt.legend()\n",
        "\n",
        "plt.figure()\n",
        "plt.title('Train and Test Accuracy')\n",
        "plt.xlabel('Epoch')\n",
        "plt.ylabel(\"Accuracy\")\n",
        "plt.plot(range(1, epoch+1), train_accuracy_list, color='blue', linestyle='-', label='Train_Accuracy')\n",
        "plt.plot(range(1, epoch+1), test_accuracy_list, color='red', linestyle='--', label='Test_Accuracy')\n",
        "plt.legend()\n",
        "\n",
        "plt.show()"
      ],
      "execution_count": 110,
      "outputs": [
        {
          "output_type": "display_data",
          "data": {
            "image/png": "[encoded data removed]",
            "text/plain": [
              "<Figure size 432x288 with 1 Axes>"
            ]
          },
          "metadata": {
            "tags": [],
            "needs_background": "light"
          }
        },
        {
          "output_type": "display_data",
          "data": {
            "image/png": "[encoded data removed]",
            "text/plain": [
              "<Figure size 432x288 with 1 Axes>"
            ]
          },
          "metadata": {
            "tags": [],
            "needs_background": "light"
          }
        }
      ]
    },
    {
      "cell_type": "markdown",
      "metadata": {
        "id": "qOhezxYOgFlN"
      },
      "source": [
        "## Section 5.7 新しいレビューに対する感情分析"
      ]
    },
    {
      "cell_type": "code",
      "metadata": {
        "id": "lK26LMiOf9Jy"
      },
      "source": [
        "nlp = spacy.load(\"en\")\n",
        "\n",
        "def predict_sentiment(net, sentence, min_len=5):\n",
        "  net.eval()\n",
        "  tokenized = [tok.text for tok in nlp.tokenizer(sentence)]\n",
        "  if len(tokenized) < min_len:\n",
        "    tokenized += ['<pad>'] * (min_len - len(tokenized))\n",
        "  \n",
        "  indexed = [all_texts.vocab.stoi[t] for t in tokenized]\n",
        "  tensor = torch.LongTensor(indexed).to(device)\n",
        "  tensor = tensor.unsqueeze(0)\n",
        "  prediction = torch.sigmoid(net(tensor))\n",
        "  return prediction"
      ],
      "execution_count": 111,
      "outputs": []
    },
    {
      "cell_type": "code",
      "metadata": {
        "colab": {
          "base_uri": "https://localhost:8080/"
        },
        "id": "o2uEpPlsgpgI",
        "outputId": "53967a46-b8a6-47c7-d981-b50ebf98c2aa"
      },
      "source": [
        "y_pred_prob = predict_sentiment(net, \"This film is terrible\")\n",
        "y_pred_label = torch.round(y_pred_prob)\n",
        "\n",
        "y_pred_prob.item(), y_pred_label.item()"
      ],
      "execution_count": 112,
      "outputs": [
        {
          "output_type": "execute_result",
          "data": {
            "text/plain": [
              "(0.07426921278238297, 0.0)"
            ]
          },
          "metadata": {
            "tags": []
          },
          "execution_count": 112
        }
      ]
    },
    {
      "cell_type": "code",
      "metadata": {
        "colab": {
          "base_uri": "https://localhost:8080/"
        },
        "id": "q_ZW08WbguuA",
        "outputId": "1e20dda2-d009-41e6-a1fb-d1d4ff410f7e"
      },
      "source": [
        "y_pred_prob = predict_sentiment(net, \"This film is great\")\n",
        "y_pred_label = torch.round(y_pred_prob)\n",
        "\n",
        "y_pred_prob.item(), y_pred_label.item()"
      ],
      "execution_count": 113,
      "outputs": [
        {
          "output_type": "execute_result",
          "data": {
            "text/plain": [
              "(0.9946609139442444, 1.0)"
            ]
          },
          "metadata": {
            "tags": []
          },
          "execution_count": 113
        }
      ]
    },
    {
      "cell_type": "code",
      "metadata": {
        "id": "hikIjGxcgx01"
      },
      "source": [
        ""
      ],
      "execution_count": null,
      "outputs": []
    }
  ]
}