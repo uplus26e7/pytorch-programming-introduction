{
  "nbformat": 4,
  "nbformat_minor": 0,
  "metadata": {
    "colab": {
      "name": "動かしながら学ぶ PyTorch プログラミング入門 Chapter2.ipynb",
      "provenance": [],
      "authorship_tag": "ABX9TyOtC4CFE2/Q+w806UwZBETX",
      "include_colab_link": true
    },
    "kernelspec": {
      "name": "python3",
      "display_name": "Python 3"
    },
    "accelerator": "GPU"
  },
  "cells": [
    {
      "cell_type": "markdown",
      "metadata": {
        "id": "view-in-github",
        "colab_type": "text"
      },
      "source": [
        "<a href=\"https://colab.research.google.com/github/uplus26e7/pytorch-programming-introduction/blob/master/%E5%8B%95%E3%81%8B%E3%81%97%E3%81%AA%E3%81%8C%E3%82%89%E5%AD%A6%E3%81%B6_PyTorch_%E3%83%97%E3%83%AD%E3%82%B0%E3%83%A9%E3%83%9F%E3%83%B3%E3%82%B0%E5%85%A5%E9%96%80_Chapter2.ipynb\" target=\"_parent\"><img src=\"https://colab.research.google.com/assets/colab-badge.svg\" alt=\"Open In Colab\"/></a>"
      ]
    },
    {
      "cell_type": "markdown",
      "metadata": {
        "id": "5UcF9HbK59tE"
      },
      "source": [
        "# Imports"
      ]
    },
    {
      "cell_type": "code",
      "metadata": {
        "id": "VKmj9pOF5cUL"
      },
      "source": [
        "import numpy as np\n",
        "import torch\n",
        "from torch import nn\n",
        "from torch import optim\n",
        "import torch.nn.functional as F\n",
        "import matplotlib.pyplot as plt\n",
        "\n",
        "%matplotlib inline"
      ],
      "execution_count": 1,
      "outputs": []
    },
    {
      "cell_type": "markdown",
      "metadata": {
        "id": "QvWq8v3H_c9p"
      },
      "source": [
        "# Section 1 テンソル(Tensor)"
      ]
    },
    {
      "cell_type": "markdown",
      "metadata": {
        "id": "GFmfmDSX6Csh"
      },
      "source": [
        "## Section 1.1 Tensorの生成"
      ]
    },
    {
      "cell_type": "code",
      "metadata": {
        "colab": {
          "base_uri": "https://localhost:8080/"
        },
        "id": "xaoP76c06CBa",
        "outputId": "c0950e0e-ac04-4304-d5d3-386afcecac65"
      },
      "source": [
        "x =torch.tensor([1, 2, 3])\n",
        "x"
      ],
      "execution_count": 2,
      "outputs": [
        {
          "output_type": "execute_result",
          "data": {
            "text/plain": [
              "tensor([1, 2, 3])"
            ]
          },
          "metadata": {
            "tags": []
          },
          "execution_count": 2
        }
      ]
    },
    {
      "cell_type": "code",
      "metadata": {
        "colab": {
          "base_uri": "https://localhost:8080/"
        },
        "id": "6oZETcz56Mzg",
        "outputId": "078f2a37-69e9-465d-ca7f-0d9585b3576a"
      },
      "source": [
        "x = torch.tensor([[1, 2, 3], [4, 5, 6]])\n",
        "x"
      ],
      "execution_count": 3,
      "outputs": [
        {
          "output_type": "execute_result",
          "data": {
            "text/plain": [
              "tensor([[1, 2, 3],\n",
              "        [4, 5, 6]])"
            ]
          },
          "metadata": {
            "tags": []
          },
          "execution_count": 3
        }
      ]
    },
    {
      "cell_type": "code",
      "metadata": {
        "colab": {
          "base_uri": "https://localhost:8080/"
        },
        "id": "E1a9XpJy6TF5",
        "outputId": "1cc15624-730b-43f6-ea83-8765998729b4"
      },
      "source": [
        "x.size()"
      ],
      "execution_count": 4,
      "outputs": [
        {
          "output_type": "execute_result",
          "data": {
            "text/plain": [
              "torch.Size([2, 3])"
            ]
          },
          "metadata": {
            "tags": []
          },
          "execution_count": 4
        }
      ]
    },
    {
      "cell_type": "code",
      "metadata": {
        "colab": {
          "base_uri": "https://localhost:8080/"
        },
        "id": "R67QUi7K6Yzs",
        "outputId": "4d343723-5c37-45eb-8f57-238eae1f8020"
      },
      "source": [
        "x.shape"
      ],
      "execution_count": 5,
      "outputs": [
        {
          "output_type": "execute_result",
          "data": {
            "text/plain": [
              "torch.Size([2, 3])"
            ]
          },
          "metadata": {
            "tags": []
          },
          "execution_count": 5
        }
      ]
    },
    {
      "cell_type": "code",
      "metadata": {
        "colab": {
          "base_uri": "https://localhost:8080/"
        },
        "id": "tR__ilu66ZsK",
        "outputId": "6dcc7158-7368-4502-cd6f-a4f9835d795e"
      },
      "source": [
        "x1 = torch.tensor([[1, 2, 3], [4, 5, 6]])\n",
        "x1.dtype"
      ],
      "execution_count": 6,
      "outputs": [
        {
          "output_type": "execute_result",
          "data": {
            "text/plain": [
              "torch.int64"
            ]
          },
          "metadata": {
            "tags": []
          },
          "execution_count": 6
        }
      ]
    },
    {
      "cell_type": "code",
      "metadata": {
        "colab": {
          "base_uri": "https://localhost:8080/"
        },
        "id": "m0g57A0J6kw0",
        "outputId": "960a2487-5869-4e4a-a964-2ef5a5bd7937"
      },
      "source": [
        "x2 = torch.tensor([[1, 2, 3], [4, 5, 6]], dtype=torch.float64)\n",
        "x2.dtype"
      ],
      "execution_count": 7,
      "outputs": [
        {
          "output_type": "execute_result",
          "data": {
            "text/plain": [
              "torch.float64"
            ]
          },
          "metadata": {
            "tags": []
          },
          "execution_count": 7
        }
      ]
    },
    {
      "cell_type": "code",
      "metadata": {
        "colab": {
          "base_uri": "https://localhost:8080/"
        },
        "id": "YoJUl8yL6s8H",
        "outputId": "890d5de2-4d77-4b70-8e4f-6dcf9d7a5309"
      },
      "source": [
        "x3 = torch.DoubleTensor([[1, 2, 3], [4, 5, 6]])\n",
        "x3.dtype"
      ],
      "execution_count": 8,
      "outputs": [
        {
          "output_type": "execute_result",
          "data": {
            "text/plain": [
              "torch.float64"
            ]
          },
          "metadata": {
            "tags": []
          },
          "execution_count": 8
        }
      ]
    },
    {
      "cell_type": "code",
      "metadata": {
        "colab": {
          "base_uri": "https://localhost:8080/"
        },
        "id": "V3Hc-t566zrm",
        "outputId": "311a0df9-64de-4feb-c678-426c2557c352"
      },
      "source": [
        "x = torch.arange(0, 10)\n",
        "x"
      ],
      "execution_count": 9,
      "outputs": [
        {
          "output_type": "execute_result",
          "data": {
            "text/plain": [
              "tensor([0, 1, 2, 3, 4, 5, 6, 7, 8, 9])"
            ]
          },
          "metadata": {
            "tags": []
          },
          "execution_count": 9
        }
      ]
    },
    {
      "cell_type": "code",
      "metadata": {
        "colab": {
          "base_uri": "https://localhost:8080/"
        },
        "id": "0P-dM4Lu66DH",
        "outputId": "18562bd0-a35c-47e4-9542-cb3e618b1133"
      },
      "source": [
        "x = torch.linspace(0, 10, 5)\n",
        "x"
      ],
      "execution_count": 10,
      "outputs": [
        {
          "output_type": "execute_result",
          "data": {
            "text/plain": [
              "tensor([ 0.0000,  2.5000,  5.0000,  7.5000, 10.0000])"
            ]
          },
          "metadata": {
            "tags": []
          },
          "execution_count": 10
        }
      ]
    },
    {
      "cell_type": "code",
      "metadata": {
        "colab": {
          "base_uri": "https://localhost:8080/"
        },
        "id": "BUwHqm2u7D-8",
        "outputId": "2e2e45d9-9207-4650-d831-2da8c2408c3c"
      },
      "source": [
        "x = torch.rand(2, 3)\n",
        "x"
      ],
      "execution_count": 11,
      "outputs": [
        {
          "output_type": "execute_result",
          "data": {
            "text/plain": [
              "tensor([[0.0398, 0.7442, 0.4576],\n",
              "        [0.8925, 0.5946, 0.9712]])"
            ]
          },
          "metadata": {
            "tags": []
          },
          "execution_count": 11
        }
      ]
    },
    {
      "cell_type": "code",
      "metadata": {
        "colab": {
          "base_uri": "https://localhost:8080/"
        },
        "id": "ZN54kaja7JlL",
        "outputId": "0830fc39-9d2c-4d1d-bdc9-f9f47676a083"
      },
      "source": [
        "x = torch.zeros(2, 3)\n",
        "x"
      ],
      "execution_count": 12,
      "outputs": [
        {
          "output_type": "execute_result",
          "data": {
            "text/plain": [
              "tensor([[0., 0., 0.],\n",
              "        [0., 0., 0.]])"
            ]
          },
          "metadata": {
            "tags": []
          },
          "execution_count": 12
        }
      ]
    },
    {
      "cell_type": "code",
      "metadata": {
        "colab": {
          "base_uri": "https://localhost:8080/"
        },
        "id": "Y5LKEbkx7OC5",
        "outputId": "b410ffd1-b14c-4198-f7b2-a422723f3a07"
      },
      "source": [
        "x = torch.ones(2, 3)\n",
        "x"
      ],
      "execution_count": 13,
      "outputs": [
        {
          "output_type": "execute_result",
          "data": {
            "text/plain": [
              "tensor([[1., 1., 1.],\n",
              "        [1., 1., 1.]])"
            ]
          },
          "metadata": {
            "tags": []
          },
          "execution_count": 13
        }
      ]
    },
    {
      "cell_type": "code",
      "metadata": {
        "colab": {
          "base_uri": "https://localhost:8080/"
        },
        "id": "058bMs4D7UNM",
        "outputId": "626312e7-0abe-45e7-d9a4-86470a4ffcb7"
      },
      "source": [
        "x = torch.tensor([1, 2, 3]).to('cuda')\n",
        "x.device"
      ],
      "execution_count": 14,
      "outputs": [
        {
          "output_type": "execute_result",
          "data": {
            "text/plain": [
              "device(type='cuda', index=0)"
            ]
          },
          "metadata": {
            "tags": []
          },
          "execution_count": 14
        }
      ]
    },
    {
      "cell_type": "markdown",
      "metadata": {
        "id": "kDn61UtD725a"
      },
      "source": [
        "## Section 1.2 Tensorとndarrayの変換"
      ]
    },
    {
      "cell_type": "code",
      "metadata": {
        "colab": {
          "base_uri": "https://localhost:8080/"
        },
        "id": "oTETAJHw7bsS",
        "outputId": "ae3dca9c-ff70-4141-e5ae-262c8779e012"
      },
      "source": [
        "array = np.array([[1, 2, 3], [4, 5, 6]])\n",
        "array"
      ],
      "execution_count": 15,
      "outputs": [
        {
          "output_type": "execute_result",
          "data": {
            "text/plain": [
              "array([[1, 2, 3],\n",
              "       [4, 5, 6]])"
            ]
          },
          "metadata": {
            "tags": []
          },
          "execution_count": 15
        }
      ]
    },
    {
      "cell_type": "code",
      "metadata": {
        "colab": {
          "base_uri": "https://localhost:8080/"
        },
        "id": "H1uzKAz-78hm",
        "outputId": "b5763f1b-b089-4821-f646-b92681691274"
      },
      "source": [
        "tensor = torch.from_numpy(array)\n",
        "tensor"
      ],
      "execution_count": 16,
      "outputs": [
        {
          "output_type": "execute_result",
          "data": {
            "text/plain": [
              "tensor([[1, 2, 3],\n",
              "        [4, 5, 6]])"
            ]
          },
          "metadata": {
            "tags": []
          },
          "execution_count": 16
        }
      ]
    },
    {
      "cell_type": "code",
      "metadata": {
        "colab": {
          "base_uri": "https://localhost:8080/"
        },
        "id": "aK7DW8-h8Cdi",
        "outputId": "bd413890-0310-4b17-c8ed-e7b02c5bfacf"
      },
      "source": [
        "tensor2array = tensor.numpy()\n",
        "tensor2array"
      ],
      "execution_count": 17,
      "outputs": [
        {
          "output_type": "execute_result",
          "data": {
            "text/plain": [
              "array([[1, 2, 3],\n",
              "       [4, 5, 6]])"
            ]
          },
          "metadata": {
            "tags": []
          },
          "execution_count": 17
        }
      ]
    },
    {
      "cell_type": "markdown",
      "metadata": {
        "id": "BwkNkf_18KLa"
      },
      "source": [
        "## Section 1.3 Tensorの操作"
      ]
    },
    {
      "cell_type": "code",
      "metadata": {
        "colab": {
          "base_uri": "https://localhost:8080/"
        },
        "id": "YwTOHrUE8HEE",
        "outputId": "c183a190-2ab5-40e3-a4af-09b28f3b3216"
      },
      "source": [
        "x = torch.tensor([[1, 2, 3], [4, 5, 6]])\n",
        "x[1, 2]"
      ],
      "execution_count": 18,
      "outputs": [
        {
          "output_type": "execute_result",
          "data": {
            "text/plain": [
              "tensor(6)"
            ]
          },
          "metadata": {
            "tags": []
          },
          "execution_count": 18
        }
      ]
    },
    {
      "cell_type": "code",
      "metadata": {
        "colab": {
          "base_uri": "https://localhost:8080/"
        },
        "id": "hSLDEuK_8aNp",
        "outputId": "6457d6cb-fc9f-4aec-e928-6e715e451b1e"
      },
      "source": [
        "x[1, :]"
      ],
      "execution_count": 19,
      "outputs": [
        {
          "output_type": "execute_result",
          "data": {
            "text/plain": [
              "tensor([4, 5, 6])"
            ]
          },
          "metadata": {
            "tags": []
          },
          "execution_count": 19
        }
      ]
    },
    {
      "cell_type": "code",
      "metadata": {
        "colab": {
          "base_uri": "https://localhost:8080/"
        },
        "id": "FDFWbEhw8fTV",
        "outputId": "999ed58b-2dd0-4d7e-f339-dfc70c18be9c"
      },
      "source": [
        "x_reshape = x.view(3, 2)\n",
        "x_reshape"
      ],
      "execution_count": 20,
      "outputs": [
        {
          "output_type": "execute_result",
          "data": {
            "text/plain": [
              "tensor([[1, 2],\n",
              "        [3, 4],\n",
              "        [5, 6]])"
            ]
          },
          "metadata": {
            "tags": []
          },
          "execution_count": 20
        }
      ]
    },
    {
      "cell_type": "markdown",
      "metadata": {
        "id": "4aFSOqWK8qGN"
      },
      "source": [
        "## Section 1.4 Tensorの演算"
      ]
    },
    {
      "cell_type": "code",
      "metadata": {
        "colab": {
          "base_uri": "https://localhost:8080/"
        },
        "id": "aFmlKr0f8mKn",
        "outputId": "b07f2266-4a82-472a-9612-c283d775c6a3"
      },
      "source": [
        "x = torch.tensor([[1, 2, 3], [4, 5, 6]])\n",
        "x"
      ],
      "execution_count": 21,
      "outputs": [
        {
          "output_type": "execute_result",
          "data": {
            "text/plain": [
              "tensor([[1, 2, 3],\n",
              "        [4, 5, 6]])"
            ]
          },
          "metadata": {
            "tags": []
          },
          "execution_count": 21
        }
      ]
    },
    {
      "cell_type": "code",
      "metadata": {
        "colab": {
          "base_uri": "https://localhost:8080/"
        },
        "id": "CjT-zXat-M0g",
        "outputId": "42d7aef1-de9d-484c-d23b-4a346d5719ad"
      },
      "source": [
        "x + 2"
      ],
      "execution_count": 22,
      "outputs": [
        {
          "output_type": "execute_result",
          "data": {
            "text/plain": [
              "tensor([[3, 4, 5],\n",
              "        [6, 7, 8]])"
            ]
          },
          "metadata": {
            "tags": []
          },
          "execution_count": 22
        }
      ]
    },
    {
      "cell_type": "code",
      "metadata": {
        "colab": {
          "base_uri": "https://localhost:8080/"
        },
        "id": "TdCMBNsi-P8O",
        "outputId": "7da2ffe8-fa2d-4cdc-d4a7-eb405b1c3b88"
      },
      "source": [
        "x - 2"
      ],
      "execution_count": 23,
      "outputs": [
        {
          "output_type": "execute_result",
          "data": {
            "text/plain": [
              "tensor([[-1,  0,  1],\n",
              "        [ 2,  3,  4]])"
            ]
          },
          "metadata": {
            "tags": []
          },
          "execution_count": 23
        }
      ]
    },
    {
      "cell_type": "code",
      "metadata": {
        "colab": {
          "base_uri": "https://localhost:8080/"
        },
        "id": "1WlbHfme-RFo",
        "outputId": "a5d0b266-b04b-47fb-a7a6-b8225119dc3b"
      },
      "source": [
        "x * 2"
      ],
      "execution_count": 24,
      "outputs": [
        {
          "output_type": "execute_result",
          "data": {
            "text/plain": [
              "tensor([[ 2,  4,  6],\n",
              "        [ 8, 10, 12]])"
            ]
          },
          "metadata": {
            "tags": []
          },
          "execution_count": 24
        }
      ]
    },
    {
      "cell_type": "code",
      "metadata": {
        "colab": {
          "base_uri": "https://localhost:8080/"
        },
        "id": "KI52XdGa-SZz",
        "outputId": "b422d15a-761f-452e-a2bb-573dbfce46b5"
      },
      "source": [
        "x / 2"
      ],
      "execution_count": 25,
      "outputs": [
        {
          "output_type": "execute_result",
          "data": {
            "text/plain": [
              "tensor([[0.5000, 1.0000, 1.5000],\n",
              "        [2.0000, 2.5000, 3.0000]])"
            ]
          },
          "metadata": {
            "tags": []
          },
          "execution_count": 25
        }
      ]
    },
    {
      "cell_type": "code",
      "metadata": {
        "id": "XSuiPZxn-Trp"
      },
      "source": [
        "x = torch.tensor([[1, 2, 3], [4, 5, 6]], dtype=torch.float64)\n",
        "y = torch.tensor([[4, 5, 6], [7, 8, 9]], dtype=torch.float64)"
      ],
      "execution_count": 26,
      "outputs": []
    },
    {
      "cell_type": "code",
      "metadata": {
        "colab": {
          "base_uri": "https://localhost:8080/"
        },
        "id": "9IXY_xOg-6eO",
        "outputId": "dab49c96-7cb4-4242-8a63-5a1bc7d80e4d"
      },
      "source": [
        "x + y"
      ],
      "execution_count": 27,
      "outputs": [
        {
          "output_type": "execute_result",
          "data": {
            "text/plain": [
              "tensor([[ 5.,  7.,  9.],\n",
              "        [11., 13., 15.]], dtype=torch.float64)"
            ]
          },
          "metadata": {
            "tags": []
          },
          "execution_count": 27
        }
      ]
    },
    {
      "cell_type": "code",
      "metadata": {
        "colab": {
          "base_uri": "https://localhost:8080/"
        },
        "id": "K0ziJwjc-8tx",
        "outputId": "75afd021-e506-4683-de08-c8ab9363e1d3"
      },
      "source": [
        "x - y"
      ],
      "execution_count": 28,
      "outputs": [
        {
          "output_type": "execute_result",
          "data": {
            "text/plain": [
              "tensor([[-3., -3., -3.],\n",
              "        [-3., -3., -3.]], dtype=torch.float64)"
            ]
          },
          "metadata": {
            "tags": []
          },
          "execution_count": 28
        }
      ]
    },
    {
      "cell_type": "code",
      "metadata": {
        "colab": {
          "base_uri": "https://localhost:8080/"
        },
        "id": "xL9VtDDa--o7",
        "outputId": "488aac35-3d5f-4eb1-9e8b-a6aae2cafad8"
      },
      "source": [
        "x * y"
      ],
      "execution_count": 29,
      "outputs": [
        {
          "output_type": "execute_result",
          "data": {
            "text/plain": [
              "tensor([[ 4., 10., 18.],\n",
              "        [28., 40., 54.]], dtype=torch.float64)"
            ]
          },
          "metadata": {
            "tags": []
          },
          "execution_count": 29
        }
      ]
    },
    {
      "cell_type": "code",
      "metadata": {
        "colab": {
          "base_uri": "https://localhost:8080/"
        },
        "id": "GDiBlFmK_Afh",
        "outputId": "61411bcb-a039-494f-fe7f-49dbcdecda46"
      },
      "source": [
        "x / y"
      ],
      "execution_count": 30,
      "outputs": [
        {
          "output_type": "execute_result",
          "data": {
            "text/plain": [
              "tensor([[0.2500, 0.4000, 0.5000],\n",
              "        [0.5714, 0.6250, 0.6667]], dtype=torch.float64)"
            ]
          },
          "metadata": {
            "tags": []
          },
          "execution_count": 30
        }
      ]
    },
    {
      "cell_type": "code",
      "metadata": {
        "colab": {
          "base_uri": "https://localhost:8080/"
        },
        "id": "G7kS99u4_Djo",
        "outputId": "9e0f2c95-4977-462f-8401-3ef725c71ce1"
      },
      "source": [
        "torch.max(x)"
      ],
      "execution_count": 31,
      "outputs": [
        {
          "output_type": "execute_result",
          "data": {
            "text/plain": [
              "tensor(6., dtype=torch.float64)"
            ]
          },
          "metadata": {
            "tags": []
          },
          "execution_count": 31
        }
      ]
    },
    {
      "cell_type": "code",
      "metadata": {
        "colab": {
          "base_uri": "https://localhost:8080/"
        },
        "id": "tOf7_5a5_LDx",
        "outputId": "68753588-710e-41d0-ecac-e5a12f397ded"
      },
      "source": [
        "torch.min(x)"
      ],
      "execution_count": 32,
      "outputs": [
        {
          "output_type": "execute_result",
          "data": {
            "text/plain": [
              "tensor(1., dtype=torch.float64)"
            ]
          },
          "metadata": {
            "tags": []
          },
          "execution_count": 32
        }
      ]
    },
    {
      "cell_type": "code",
      "metadata": {
        "colab": {
          "base_uri": "https://localhost:8080/"
        },
        "id": "QoMpK-qX_Mtu",
        "outputId": "35183f70-41da-4184-93bb-3fde102e1cb0"
      },
      "source": [
        "torch.mean(x)"
      ],
      "execution_count": 33,
      "outputs": [
        {
          "output_type": "execute_result",
          "data": {
            "text/plain": [
              "tensor(3.5000, dtype=torch.float64)"
            ]
          },
          "metadata": {
            "tags": []
          },
          "execution_count": 33
        }
      ]
    },
    {
      "cell_type": "code",
      "metadata": {
        "colab": {
          "base_uri": "https://localhost:8080/"
        },
        "id": "tjuQZGex_OPS",
        "outputId": "8e67980c-6541-41c2-8d22-aa9a56a97d5b"
      },
      "source": [
        "torch.sum(x)"
      ],
      "execution_count": 34,
      "outputs": [
        {
          "output_type": "execute_result",
          "data": {
            "text/plain": [
              "tensor(21., dtype=torch.float64)"
            ]
          },
          "metadata": {
            "tags": []
          },
          "execution_count": 34
        }
      ]
    },
    {
      "cell_type": "code",
      "metadata": {
        "colab": {
          "base_uri": "https://localhost:8080/"
        },
        "id": "cJlKHZmF_QKz",
        "outputId": "c4cd4ff5-8ce0-4938-ca81-5992c477e4bf"
      },
      "source": [
        "torch.sum(x).item()"
      ],
      "execution_count": 35,
      "outputs": [
        {
          "output_type": "execute_result",
          "data": {
            "text/plain": [
              "21.0"
            ]
          },
          "metadata": {
            "tags": []
          },
          "execution_count": 35
        }
      ]
    },
    {
      "cell_type": "markdown",
      "metadata": {
        "id": "2jGPdqGG_vw8"
      },
      "source": [
        "# Section 2 自動微分(AUTOGRAD)"
      ]
    },
    {
      "cell_type": "code",
      "metadata": {
        "colab": {
          "base_uri": "https://localhost:8080/"
        },
        "id": "jMkQDmis_z81",
        "outputId": "2367767a-857e-4eac-9848-9101f880cfe8"
      },
      "source": [
        "a = torch.tensor(3, requires_grad=True, dtype=torch.float64)\n",
        "b = torch.tensor(4, requires_grad=True, dtype=torch.float64)\n",
        "x = torch.tensor(5, requires_grad=True, dtype=torch.float64)\n",
        "\n",
        "y = a*x + b\n",
        "y"
      ],
      "execution_count": 36,
      "outputs": [
        {
          "output_type": "execute_result",
          "data": {
            "text/plain": [
              "tensor(19., dtype=torch.float64, grad_fn=<AddBackward0>)"
            ]
          },
          "metadata": {
            "tags": []
          },
          "execution_count": 36
        }
      ]
    },
    {
      "cell_type": "code",
      "metadata": {
        "id": "bAaWjnmOAO1k"
      },
      "source": [
        "y.backward()"
      ],
      "execution_count": 37,
      "outputs": []
    },
    {
      "cell_type": "code",
      "metadata": {
        "colab": {
          "base_uri": "https://localhost:8080/"
        },
        "id": "Mfn6xPmfApRG",
        "outputId": "2846ffb2-76f6-44b8-fbbb-f6b22018f53c"
      },
      "source": [
        "a.grad"
      ],
      "execution_count": 38,
      "outputs": [
        {
          "output_type": "execute_result",
          "data": {
            "text/plain": [
              "tensor(5., dtype=torch.float64)"
            ]
          },
          "metadata": {
            "tags": []
          },
          "execution_count": 38
        }
      ]
    },
    {
      "cell_type": "code",
      "metadata": {
        "colab": {
          "base_uri": "https://localhost:8080/"
        },
        "id": "C9LiTjjoAr4w",
        "outputId": "679d00c0-d634-4bab-9a6a-331432f457b3"
      },
      "source": [
        "b.grad"
      ],
      "execution_count": 39,
      "outputs": [
        {
          "output_type": "execute_result",
          "data": {
            "text/plain": [
              "tensor(1., dtype=torch.float64)"
            ]
          },
          "metadata": {
            "tags": []
          },
          "execution_count": 39
        }
      ]
    },
    {
      "cell_type": "code",
      "metadata": {
        "colab": {
          "base_uri": "https://localhost:8080/"
        },
        "id": "eDJWjzX_AtRb",
        "outputId": "8c34917f-f658-478b-e384-8cc46eaa757f"
      },
      "source": [
        "x.grad"
      ],
      "execution_count": 40,
      "outputs": [
        {
          "output_type": "execute_result",
          "data": {
            "text/plain": [
              "tensor(3., dtype=torch.float64)"
            ]
          },
          "metadata": {
            "tags": []
          },
          "execution_count": 40
        }
      ]
    },
    {
      "cell_type": "markdown",
      "metadata": {
        "id": "CDH3OKIZAjBZ"
      },
      "source": [
        "# Section 3 ニューラルネットワークの定義"
      ]
    },
    {
      "cell_type": "markdown",
      "metadata": {
        "id": "FH2EXiEPBFoH"
      },
      "source": [
        "## Section 3.1 nn.Sequentialを使う方法"
      ]
    },
    {
      "cell_type": "code",
      "metadata": {
        "colab": {
          "base_uri": "https://localhost:8080/"
        },
        "id": "4x7QYClfAYgg",
        "outputId": "4d9ef32d-864f-417f-ccc7-12e760490c4e"
      },
      "source": [
        "net = nn.Sequential(\n",
        "    nn.Conv2d(1, 6, 3),\n",
        "    nn.MaxPool2d((2, 2)),\n",
        "    nn.ReLU(),\n",
        "    nn.Conv2d(6, 16, 3),\n",
        "    nn.MaxPool2d(2),\n",
        "    nn.ReLU()\n",
        ")\n",
        "net"
      ],
      "execution_count": 41,
      "outputs": [
        {
          "output_type": "execute_result",
          "data": {
            "text/plain": [
              "Sequential(\n",
              "  (0): Conv2d(1, 6, kernel_size=(3, 3), stride=(1, 1))\n",
              "  (1): MaxPool2d(kernel_size=(2, 2), stride=(2, 2), padding=0, dilation=1, ceil_mode=False)\n",
              "  (2): ReLU()\n",
              "  (3): Conv2d(6, 16, kernel_size=(3, 3), stride=(1, 1))\n",
              "  (4): MaxPool2d(kernel_size=2, stride=2, padding=0, dilation=1, ceil_mode=False)\n",
              "  (5): ReLU()\n",
              ")"
            ]
          },
          "metadata": {
            "tags": []
          },
          "execution_count": 41
        }
      ]
    },
    {
      "cell_type": "markdown",
      "metadata": {
        "id": "zC5LiQ_aBx7w"
      },
      "source": [
        "## Section 3.2 自作のクラスを使う方法"
      ]
    },
    {
      "cell_type": "code",
      "metadata": {
        "colab": {
          "base_uri": "https://localhost:8080/"
        },
        "id": "KVMIs090BhGE",
        "outputId": "508cf8e3-4c48-4ffc-c261-611f345b2bff"
      },
      "source": [
        "class Net(nn.Module):\n",
        "  def __init__(self):\n",
        "    super(Net, self).__init__()\n",
        "    self.conv1 = nn.Conv2d(1, 6, 3)\n",
        "    self.conv2 = nn.Conv2d(6, 16, 3)\n",
        "  \n",
        "  def forward(self, x):\n",
        "    x = F.max_pool2d(F.relu(self.conv1(x)), (2, 2))\n",
        "    x = F.max_pool2d(F.relu(self.conv2(x)), 2)\n",
        "    return x\n",
        "\n",
        "net = Net()\n",
        "net"
      ],
      "execution_count": 42,
      "outputs": [
        {
          "output_type": "execute_result",
          "data": {
            "text/plain": [
              "Net(\n",
              "  (conv1): Conv2d(1, 6, kernel_size=(3, 3), stride=(1, 1))\n",
              "  (conv2): Conv2d(6, 16, kernel_size=(3, 3), stride=(1, 1))\n",
              ")"
            ]
          },
          "metadata": {
            "tags": []
          },
          "execution_count": 42
        }
      ]
    },
    {
      "cell_type": "markdown",
      "metadata": {
        "id": "QqpEaXgxCkm1"
      },
      "source": [
        "## Section 3.3 GPUを使う場合"
      ]
    },
    {
      "cell_type": "code",
      "metadata": {
        "colab": {
          "base_uri": "https://localhost:8080/"
        },
        "id": "d_FaUWgxChbJ",
        "outputId": "cefdb258-c796-4583-e202-cae1857137f4"
      },
      "source": [
        "net = Net().to('cuda')\n",
        "net"
      ],
      "execution_count": 43,
      "outputs": [
        {
          "output_type": "execute_result",
          "data": {
            "text/plain": [
              "Net(\n",
              "  (conv1): Conv2d(1, 6, kernel_size=(3, 3), stride=(1, 1))\n",
              "  (conv2): Conv2d(6, 16, kernel_size=(3, 3), stride=(1, 1))\n",
              ")"
            ]
          },
          "metadata": {
            "tags": []
          },
          "execution_count": 43
        }
      ]
    },
    {
      "cell_type": "markdown",
      "metadata": {
        "id": "qFb64KUkJXc8"
      },
      "source": [
        "# Section 4 損失関数"
      ]
    },
    {
      "cell_type": "markdown",
      "metadata": {
        "id": "vqn834ctKgja"
      },
      "source": [
        "## Section 4.1 バイナリ交差エントロピー損失(nn.BCELoss)"
      ]
    },
    {
      "cell_type": "code",
      "metadata": {
        "id": "TZrUh5ZDCsYH"
      },
      "source": [
        "m = nn.Sigmoid()\n",
        "y = torch.rand(3)\n",
        "t = torch.empty(3, dtype=torch.float32).random_(2)\n",
        "criterion = nn.BCELoss()\n",
        "loss = criterion(m(y), t)"
      ],
      "execution_count": 44,
      "outputs": []
    },
    {
      "cell_type": "code",
      "metadata": {
        "colab": {
          "base_uri": "https://localhost:8080/"
        },
        "id": "lAxk4-L1LEWu",
        "outputId": "50a4631b-b540-4563-cb7f-bc671a1e1c40"
      },
      "source": [
        "y"
      ],
      "execution_count": 45,
      "outputs": [
        {
          "output_type": "execute_result",
          "data": {
            "text/plain": [
              "tensor([0.1649, 0.5454, 0.2784])"
            ]
          },
          "metadata": {
            "tags": []
          },
          "execution_count": 45
        }
      ]
    },
    {
      "cell_type": "code",
      "metadata": {
        "colab": {
          "base_uri": "https://localhost:8080/"
        },
        "id": "3S2Dw2F9LFKb",
        "outputId": "66e355dc-7c9b-4d1e-a319-1610822e9849"
      },
      "source": [
        "m(y)"
      ],
      "execution_count": 46,
      "outputs": [
        {
          "output_type": "execute_result",
          "data": {
            "text/plain": [
              "tensor([0.5411, 0.6331, 0.5691])"
            ]
          },
          "metadata": {
            "tags": []
          },
          "execution_count": 46
        }
      ]
    },
    {
      "cell_type": "code",
      "metadata": {
        "colab": {
          "base_uri": "https://localhost:8080/"
        },
        "id": "UVvAE2FfLI6s",
        "outputId": "7c13d110-779b-461b-84b9-a4f647ea96d2"
      },
      "source": [
        "t"
      ],
      "execution_count": 47,
      "outputs": [
        {
          "output_type": "execute_result",
          "data": {
            "text/plain": [
              "tensor([0., 1., 0.])"
            ]
          },
          "metadata": {
            "tags": []
          },
          "execution_count": 47
        }
      ]
    },
    {
      "cell_type": "code",
      "metadata": {
        "colab": {
          "base_uri": "https://localhost:8080/"
        },
        "id": "k63RUfAaLMK9",
        "outputId": "56d13be4-3a6c-4417-c41c-aa622183039e"
      },
      "source": [
        "loss"
      ],
      "execution_count": 48,
      "outputs": [
        {
          "output_type": "execute_result",
          "data": {
            "text/plain": [
              "tensor(0.6927)"
            ]
          },
          "metadata": {
            "tags": []
          },
          "execution_count": 48
        }
      ]
    },
    {
      "cell_type": "markdown",
      "metadata": {
        "id": "qJWeWEZELpPn"
      },
      "source": [
        "## Section 4.2 ロジット付きバイナリ交差エントロピー損失(nn.BCEWithLogitsLoss)"
      ]
    },
    {
      "cell_type": "code",
      "metadata": {
        "colab": {
          "base_uri": "https://localhost:8080/"
        },
        "id": "epsHp3PDLVkj",
        "outputId": "583c2dfc-8b32-4f9f-b7dc-0219e8bdc21a"
      },
      "source": [
        "criterion = nn.BCEWithLogitsLoss()\n",
        "loss = criterion(y, t)\n",
        "loss"
      ],
      "execution_count": 49,
      "outputs": [
        {
          "output_type": "execute_result",
          "data": {
            "text/plain": [
              "tensor(0.6927)"
            ]
          },
          "metadata": {
            "tags": []
          },
          "execution_count": 49
        }
      ]
    },
    {
      "cell_type": "markdown",
      "metadata": {
        "id": "lfTYiVvNMTLq"
      },
      "source": [
        "## Section 4.3 ソフトマットクス交差エントロピー損失(nn.CrossEntropyLoss)"
      ]
    },
    {
      "cell_type": "code",
      "metadata": {
        "id": "WtRa7mp1L8st"
      },
      "source": [
        "y = torch.rand(3, 5)\n",
        "t = torch.empty(3, dtype=torch.int64).random_(5)\n",
        "criterion = nn.CrossEntropyLoss()\n",
        "loss = criterion(y, t)"
      ],
      "execution_count": 50,
      "outputs": []
    },
    {
      "cell_type": "code",
      "metadata": {
        "colab": {
          "base_uri": "https://localhost:8080/"
        },
        "id": "Cqzz8tsFMs7a",
        "outputId": "a8a913e5-9cf6-451f-a256-d665545b85ac"
      },
      "source": [
        "y"
      ],
      "execution_count": 51,
      "outputs": [
        {
          "output_type": "execute_result",
          "data": {
            "text/plain": [
              "tensor([[0.9034, 0.9888, 0.7779, 0.3922, 0.5328],\n",
              "        [0.1598, 0.8288, 0.0912, 0.6955, 0.6764],\n",
              "        [0.2820, 0.9529, 0.2993, 0.8708, 0.8397]])"
            ]
          },
          "metadata": {
            "tags": []
          },
          "execution_count": 51
        }
      ]
    },
    {
      "cell_type": "code",
      "metadata": {
        "colab": {
          "base_uri": "https://localhost:8080/"
        },
        "id": "MTJGWLmxMwr6",
        "outputId": "f5a2fcd8-c605-46b5-ad95-11a5fd1c68b3"
      },
      "source": [
        "t"
      ],
      "execution_count": 52,
      "outputs": [
        {
          "output_type": "execute_result",
          "data": {
            "text/plain": [
              "tensor([4, 3, 3])"
            ]
          },
          "metadata": {
            "tags": []
          },
          "execution_count": 52
        }
      ]
    },
    {
      "cell_type": "code",
      "metadata": {
        "colab": {
          "base_uri": "https://localhost:8080/"
        },
        "id": "dKk9FN_3MxA-",
        "outputId": "a77aa1c2-8360-4a9f-a7c9-40d9aee54c07"
      },
      "source": [
        "loss"
      ],
      "execution_count": 53,
      "outputs": [
        {
          "output_type": "execute_result",
          "data": {
            "text/plain": [
              "tensor(1.5658)"
            ]
          },
          "metadata": {
            "tags": []
          },
          "execution_count": 53
        }
      ]
    },
    {
      "cell_type": "markdown",
      "metadata": {
        "id": "ImuaxQRCM4O-"
      },
      "source": [
        "## Section 4.4 平均二乗誤差損失(nn.MSELoss)"
      ]
    },
    {
      "cell_type": "code",
      "metadata": {
        "colab": {
          "base_uri": "https://localhost:8080/"
        },
        "id": "ZbTLqfXIMxdn",
        "outputId": "c922f331-ba73-4035-d546-653a749578f0"
      },
      "source": [
        "y = torch.rand(1, 10)\n",
        "t = torch.rand(1, 10)\n",
        "criterion = nn.MSELoss()\n",
        "loss = criterion(y, t)\n",
        "loss"
      ],
      "execution_count": 54,
      "outputs": [
        {
          "output_type": "execute_result",
          "data": {
            "text/plain": [
              "tensor(0.1910)"
            ]
          },
          "metadata": {
            "tags": []
          },
          "execution_count": 54
        }
      ]
    },
    {
      "cell_type": "markdown",
      "metadata": {
        "id": "5tKT5Ft3NXYj"
      },
      "source": [
        "## Section 4.5 平均絶対誤差損失(nn.L1Loss)"
      ]
    },
    {
      "cell_type": "code",
      "metadata": {
        "colab": {
          "base_uri": "https://localhost:8080/"
        },
        "id": "Dv1K3NmZNRQF",
        "outputId": "d9c167ea-af3b-4088-9652-3c6204e1c969"
      },
      "source": [
        "criterion = nn.L1Loss()\n",
        "loss = criterion(y, t)\n",
        "loss"
      ],
      "execution_count": 55,
      "outputs": [
        {
          "output_type": "execute_result",
          "data": {
            "text/plain": [
              "tensor(0.3811)"
            ]
          },
          "metadata": {
            "tags": []
          },
          "execution_count": 55
        }
      ]
    },
    {
      "cell_type": "markdown",
      "metadata": {
        "id": "8SWZR7ewNuJR"
      },
      "source": [
        "# Section 5 最適化関数"
      ]
    },
    {
      "cell_type": "code",
      "metadata": {
        "id": "YMEe7qa_Niab"
      },
      "source": [
        "class Net(nn.Module):\n",
        "  def __init__(self, D_in, H, D_out):\n",
        "    super(Net, self).__init__()\n",
        "    self.linear1 = nn.Linear(D_in, H)\n",
        "    self.linear2 = nn.Linear(H, D_out)\n",
        "  \n",
        "  def forward(self, x):\n",
        "    x = F.relu(self.linear1(x))\n",
        "    x = self.linear2(x)\n",
        "    return x"
      ],
      "execution_count": 56,
      "outputs": []
    },
    {
      "cell_type": "code",
      "metadata": {
        "id": "gtE7NBz5O525"
      },
      "source": [
        "N = 64\n",
        "D_in = 1000\n",
        "H = 100\n",
        "D_out = 10\n",
        "epoch = 100"
      ],
      "execution_count": 57,
      "outputs": []
    },
    {
      "cell_type": "code",
      "metadata": {
        "id": "hrHX61kfPAgj"
      },
      "source": [
        "x = torch.rand(N, D_in)\n",
        "y = torch.rand(N, D_out)"
      ],
      "execution_count": 58,
      "outputs": []
    },
    {
      "cell_type": "code",
      "metadata": {
        "id": "LK3JiuM4PJTv"
      },
      "source": [
        "net = Net(D_in, H, D_out)\n",
        "criterion = nn.MSELoss()\n",
        "optimizer = optim.Adam(net.parameters(), lr=1e-4, betas=(0.9, 0.99), eps=1e-7)"
      ],
      "execution_count": 59,
      "outputs": []
    },
    {
      "cell_type": "code",
      "metadata": {
        "colab": {
          "base_uri": "https://localhost:8080/"
        },
        "id": "h6HIbcXrPhN-",
        "outputId": "e60a8187-b534-4740-eb1f-43e1aba580ef"
      },
      "source": [
        "loss_list = []\n",
        "\n",
        "for i in range(epoch):\n",
        "  y_pred = net(x)\n",
        "  loss = criterion(y_pred, y)\n",
        "  print(f\"Epoch: {i + 1}, Loss: {loss.item():.3f}\")\n",
        "  loss_list.append(loss.item())\n",
        "\n",
        "  optimizer.zero_grad()\n",
        "  loss.backward()\n",
        "  optimizer.step()"
      ],
      "execution_count": 60,
      "outputs": [
        {
          "output_type": "stream",
          "text": [
            "Epoch: 1, Loss: 0.380\n",
            "Epoch: 2, Loss: 0.334\n",
            "Epoch: 3, Loss: 0.294\n",
            "Epoch: 4, Loss: 0.258\n",
            "Epoch: 5, Loss: 0.226\n",
            "Epoch: 6, Loss: 0.199\n",
            "Epoch: 7, Loss: 0.175\n",
            "Epoch: 8, Loss: 0.155\n",
            "Epoch: 9, Loss: 0.138\n",
            "Epoch: 10, Loss: 0.125\n",
            "Epoch: 11, Loss: 0.114\n",
            "Epoch: 12, Loss: 0.106\n",
            "Epoch: 13, Loss: 0.100\n",
            "Epoch: 14, Loss: 0.096\n",
            "Epoch: 15, Loss: 0.093\n",
            "Epoch: 16, Loss: 0.092\n",
            "Epoch: 17, Loss: 0.091\n",
            "Epoch: 18, Loss: 0.090\n",
            "Epoch: 19, Loss: 0.089\n",
            "Epoch: 20, Loss: 0.089\n",
            "Epoch: 21, Loss: 0.088\n",
            "Epoch: 22, Loss: 0.087\n",
            "Epoch: 23, Loss: 0.087\n",
            "Epoch: 24, Loss: 0.086\n",
            "Epoch: 25, Loss: 0.086\n",
            "Epoch: 26, Loss: 0.085\n",
            "Epoch: 27, Loss: 0.084\n",
            "Epoch: 28, Loss: 0.084\n",
            "Epoch: 29, Loss: 0.083\n",
            "Epoch: 30, Loss: 0.082\n",
            "Epoch: 31, Loss: 0.082\n",
            "Epoch: 32, Loss: 0.081\n",
            "Epoch: 33, Loss: 0.080\n",
            "Epoch: 34, Loss: 0.079\n",
            "Epoch: 35, Loss: 0.078\n",
            "Epoch: 36, Loss: 0.078\n",
            "Epoch: 37, Loss: 0.077\n",
            "Epoch: 38, Loss: 0.076\n",
            "Epoch: 39, Loss: 0.076\n",
            "Epoch: 40, Loss: 0.075\n",
            "Epoch: 41, Loss: 0.074\n",
            "Epoch: 42, Loss: 0.074\n",
            "Epoch: 43, Loss: 0.073\n",
            "Epoch: 44, Loss: 0.073\n",
            "Epoch: 45, Loss: 0.072\n",
            "Epoch: 46, Loss: 0.072\n",
            "Epoch: 47, Loss: 0.072\n",
            "Epoch: 48, Loss: 0.071\n",
            "Epoch: 49, Loss: 0.071\n",
            "Epoch: 50, Loss: 0.071\n",
            "Epoch: 51, Loss: 0.070\n",
            "Epoch: 52, Loss: 0.070\n",
            "Epoch: 53, Loss: 0.069\n",
            "Epoch: 54, Loss: 0.069\n",
            "Epoch: 55, Loss: 0.068\n",
            "Epoch: 56, Loss: 0.068\n",
            "Epoch: 57, Loss: 0.067\n",
            "Epoch: 58, Loss: 0.067\n",
            "Epoch: 59, Loss: 0.067\n",
            "Epoch: 60, Loss: 0.066\n",
            "Epoch: 61, Loss: 0.066\n",
            "Epoch: 62, Loss: 0.065\n",
            "Epoch: 63, Loss: 0.065\n",
            "Epoch: 64, Loss: 0.064\n",
            "Epoch: 65, Loss: 0.064\n",
            "Epoch: 66, Loss: 0.063\n",
            "Epoch: 67, Loss: 0.063\n",
            "Epoch: 68, Loss: 0.063\n",
            "Epoch: 69, Loss: 0.062\n",
            "Epoch: 70, Loss: 0.062\n",
            "Epoch: 71, Loss: 0.061\n",
            "Epoch: 72, Loss: 0.061\n",
            "Epoch: 73, Loss: 0.061\n",
            "Epoch: 74, Loss: 0.060\n",
            "Epoch: 75, Loss: 0.060\n",
            "Epoch: 76, Loss: 0.059\n",
            "Epoch: 77, Loss: 0.059\n",
            "Epoch: 78, Loss: 0.058\n",
            "Epoch: 79, Loss: 0.058\n",
            "Epoch: 80, Loss: 0.058\n",
            "Epoch: 81, Loss: 0.057\n",
            "Epoch: 82, Loss: 0.057\n",
            "Epoch: 83, Loss: 0.056\n",
            "Epoch: 84, Loss: 0.056\n",
            "Epoch: 85, Loss: 0.056\n",
            "Epoch: 86, Loss: 0.055\n",
            "Epoch: 87, Loss: 0.055\n",
            "Epoch: 88, Loss: 0.054\n",
            "Epoch: 89, Loss: 0.054\n",
            "Epoch: 90, Loss: 0.054\n",
            "Epoch: 91, Loss: 0.053\n",
            "Epoch: 92, Loss: 0.053\n",
            "Epoch: 93, Loss: 0.052\n",
            "Epoch: 94, Loss: 0.052\n",
            "Epoch: 95, Loss: 0.051\n",
            "Epoch: 96, Loss: 0.051\n",
            "Epoch: 97, Loss: 0.051\n",
            "Epoch: 98, Loss: 0.050\n",
            "Epoch: 99, Loss: 0.050\n",
            "Epoch: 100, Loss: 0.049\n"
          ],
          "name": "stdout"
        }
      ]
    },
    {
      "cell_type": "code",
      "metadata": {
        "colab": {
          "base_uri": "https://localhost:8080/",
          "height": 312
        },
        "id": "ZQdUR3FhQURb",
        "outputId": "6c724b1b-2648-48fb-ceff-4302f1738534"
      },
      "source": [
        "plt.figure()\n",
        "plt.title(\"Training Curve\")\n",
        "plt.xlabel(\"Epoch\")\n",
        "plt.ylabel(\"Loss\")\n",
        "plt.plot(range(1, epoch + 1), loss_list)"
      ],
      "execution_count": 61,
      "outputs": [
        {
          "output_type": "execute_result",
          "data": {
            "text/plain": [
              "[<matplotlib.lines.Line2D at 0x7fc1972256d8>]"
            ]
          },
          "metadata": {
            "tags": []
          },
          "execution_count": 61
        },
        {
          "output_type": "display_data",
          "data": {
            "image/png": "[encoded data removed]",
            "text/plain": [
              "<Figure size 432x288 with 1 Axes>"
            ]
          },
          "metadata": {
            "tags": [],
            "needs_background": "light"
          }
        }
      ]
    },
    {
      "cell_type": "code",
      "metadata": {
        "id": "pWKRAdKtQ13T"
      },
      "source": [
        ""
      ],
      "execution_count": 61,
      "outputs": []
    }
  ]
}